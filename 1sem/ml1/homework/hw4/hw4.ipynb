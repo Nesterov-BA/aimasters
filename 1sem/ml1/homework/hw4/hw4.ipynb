{
 "cells": [
  {
   "cell_type": "markdown",
   "id": "2f18a5db-39f3-4e39-a407-3a8e62c725ce",
   "metadata": {},
   "source": [
    "# Классификация заемщиков линейными моделями, part 2\n",
    "\n",
    "## курс \"Машинное обучение 1\", программа AIMasters, 2024\n",
    "\n",
    "## Студент: <Введите ваше ФИО>"
   ]
  },
  {
   "cell_type": "markdown",
   "id": "c60631bb",
   "metadata": {},
   "source": [
    "Эксперименты будем проводить на [датасете](https://www.kaggle.com/competitions/home-credit-default-risk/overview) по классификации заемщиков на плохих (target = 1: клиент с \"payment difficulties\") и хороших (target = 0: все остальные). \n",
    "\n",
    "Описание колонок находится в файле `description.csv`.\n",
    "\n",
    "Для начала мы за вас считаем данные и поделим на обучение и тест.\n",
    "\n",
    "Код в чтение, разбиение менять не нужно.\n",
    "\n",
    "Выполняя задания, не забывайте про [устав](https://t.me/c/2206639786/270/271)."
   ]
  },
  {
   "cell_type": "code",
   "execution_count": 1,
   "id": "033d5b6c",
   "metadata": {},
   "outputs": [
    {
     "name": "stdout",
     "output_type": "stream",
     "text": [
      "tst shape: (92221, 122)\n",
      "tr shape: (215290, 122)\n"
     ]
    },
    {
     "data": {
      "text/plain": [
       "(Index(['NAME_CONTRACT_TYPE', 'CODE_GENDER', 'FLAG_OWN_CAR', 'FLAG_OWN_REALTY',\n",
       "        'NAME_TYPE_SUITE', 'NAME_INCOME_TYPE', 'NAME_EDUCATION_TYPE',\n",
       "        'NAME_FAMILY_STATUS', 'NAME_HOUSING_TYPE', 'OCCUPATION_TYPE',\n",
       "        'WEEKDAY_APPR_PROCESS_START', 'ORGANIZATION_TYPE', 'FONDKAPREMONT_MODE',\n",
       "        'HOUSETYPE_MODE', 'WALLSMATERIAL_MODE', 'EMERGENCYSTATE_MODE'],\n",
       "       dtype='object'),\n",
       " 16)"
      ]
     },
     "execution_count": 1,
     "metadata": {},
     "output_type": "execute_result"
    }
   ],
   "source": [
    "# не меняем код\n",
    "import pandas as pd\n",
    "import numpy as np\n",
    "pd.options.display.max_columns = 100\n",
    "pd.options.display.max_rows = 150\n",
    "\n",
    "\n",
    "data = pd.read_csv('application_train.csv')\n",
    "data.columns = ['sk_id_curr', 'target'] + list(data.columns[2:])\n",
    "data.head(3)\n",
    "\n",
    "# не меняем код\n",
    "test_idx = data.sk_id_curr % 10 >= 7\n",
    "data_dict = dict()\n",
    "data_dict['tst'] = data.loc[test_idx].reset_index(drop=True)\n",
    "data_dict['tr'] = data.loc[~test_idx].reset_index(drop=True)\n",
    "\n",
    "for key, df in data_dict.items():\n",
    "    print(key, 'shape:', df.shape)\n",
    "    \n",
    "    from sklearn.impute import SimpleImputer\n",
    "from sklearn.preprocessing import StandardScaler, MinMaxScaler, RobustScaler, MaxAbsScaler\n",
    "from sklearn.linear_model import LogisticRegression\n",
    "from sklearn.pipeline import Pipeline, make_pipeline\n",
    "from sklearn.preprocessing import PolynomialFeatures\n",
    "from sklearn.preprocessing import OneHotEncoder, OrdinalEncoder\n",
    "from sklearn.metrics import roc_auc_score\n",
    "from sklearn.compose import ColumnTransformer\n",
    "\n",
    "import optuna\n",
    "\n",
    "num_features = data.select_dtypes(np.number).drop(columns=['target', 'sk_id_curr']).columns\n",
    "num_features\n",
    "cat_features = data.select_dtypes('object').columns\n",
    "cat_features, len(cat_features)"
   ]
  },
  {
   "cell_type": "code",
   "execution_count": null,
   "id": "b88e9f50",
   "metadata": {},
   "outputs": [],
   "source": [
    "import sys\n",
    "sys.path.append('F:/учебба/aimasters/utils')\n",
    "from utils import plot_density, "
   ]
  },
  {
   "cell_type": "code",
   "execution_count": null,
   "id": "9e4d8487",
   "metadata": {},
   "outputs": [
    {
     "ename": "NameError",
     "evalue": "name 'np' is not defined",
     "output_type": "error",
     "traceback": [
      "\u001b[1;31m---------------------------------------------------------------------------\u001b[0m",
      "\u001b[1;31mNameError\u001b[0m                                 Traceback (most recent call last)",
      "Cell \u001b[1;32mIn[15], line 2\u001b[0m\n\u001b[0;32m      1\u001b[0m \u001b[38;5;28;01mimport\u001b[39;00m \u001b[38;5;21;01mnumpy\u001b[39;00m \u001b[38;5;28;01mas\u001b[39;00m \u001b[38;5;21;01mnp\u001b[39;00m\n\u001b[1;32m----> 2\u001b[0m plot_density(data)\n",
      "File \u001b[1;32mF:\\учебба/aimasters/utils\\utils.py:63\u001b[0m, in \u001b[0;36mplot_density\u001b[1;34m(df, hue, cols)\u001b[0m\n\u001b[0;32m     59\u001b[0m plt\u001b[38;5;241m.\u001b[39msuptitle(column)\n\u001b[0;32m     60\u001b[0m \u001b[38;5;66;03m#drop zero values\u001b[39;00m\n\u001b[0;32m     61\u001b[0m \u001b[38;5;66;03m# df = df[df[column] != 0]\u001b[39;00m\n\u001b[0;32m     62\u001b[0m \u001b[38;5;66;03m#drop nan values\u001b[39;00m\n\u001b[1;32m---> 63\u001b[0m df \u001b[38;5;241m=\u001b[39m df[df[column] \u001b[38;5;241m!=\u001b[39m np\u001b[38;5;241m.\u001b[39minf]\n\u001b[0;32m     64\u001b[0m \u001b[38;5;28;01mif\u001b[39;00m \u001b[38;5;28mlen\u001b[39m(df[column]) \u001b[38;5;241m>\u001b[39m \u001b[38;5;241m200\u001b[39m:\n\u001b[0;32m     65\u001b[0m     df \u001b[38;5;241m=\u001b[39m df\u001b[38;5;241m.\u001b[39msample(\u001b[38;5;241m200\u001b[39m)\n",
      "\u001b[1;31mNameError\u001b[0m: name 'np' is not defined"
     ]
    },
    {
     "data": {
      "image/png": "[encoded data removed]",
      "text/plain": [
       "<Figure size 640x480 with 2 Axes>"
      ]
     },
     "metadata": {},
     "output_type": "display_data"
    }
   ],
   "source": [
    "import numpy as np\n",
    "\n",
    "plot_density(data)"
   ]
  },
  {
   "cell_type": "code",
   "execution_count": 2,
   "id": "c9dc2bd6",
   "metadata": {},
   "outputs": [
    {
     "name": "stdout",
     "output_type": "stream",
     "text": [
      "tst shape: (92221, 122)\n",
      "tr shape: (215290, 122)\n"
     ]
    }
   ],
   "source": [
    "# не меняем код\n",
    "test_idx = data.sk_id_curr % 10 >= 7\n",
    "data_dict = dict()\n",
    "data_dict['tst'] = data.loc[test_idx].reset_index(drop=True)\n",
    "data_dict['tr'] = data.loc[~test_idx].reset_index(drop=True)\n",
    "\n",
    "for key, df in data_dict.items():\n",
    "    print(key, 'shape:', df.shape)"
   ]
  },
  {
   "cell_type": "markdown",
   "id": "5cf3be91",
   "metadata": {},
   "source": [
    "## Пайплайны (5 баллов)\n",
    "\n",
    "Вам предлагается реализовать свой пайплайн предобработки данных + обучение линейной модели.\n",
    "\n",
    "Примеры использования sklearn [pipeline](https://scikit-learn.org/1.5/modules/generated/sklearn.pipeline.Pipeline.html) можете найти в ноутбуке с семинара по предобработке.\n",
    "\n",
    "Можно использовать все, что есть в https://scikit-learn.org/1.5/modules/preprocessing.html + оборачивать все в кастомные трансформеры (про них ниже).\n",
    "\n",
    "На выходе у вас должна стоять линейная модель.\n",
    "\n",
    "Любой код ниже **можно** менять."
   ]
  },
  {
   "cell_type": "code",
   "execution_count": 3,
   "id": "99b9d64f",
   "metadata": {},
   "outputs": [],
   "source": [
    "from sklearn.impute import SimpleImputer\n",
    "from sklearn.preprocessing import StandardScaler, MinMaxScaler, RobustScaler, MaxAbsScaler\n",
    "from sklearn.linear_model import LogisticRegression\n",
    "from sklearn.pipeline import Pipeline, make_pipeline\n",
    "from sklearn.preprocessing import PolynomialFeatures\n",
    "from sklearn.preprocessing import OneHotEncoder, OrdinalEncoder\n",
    "from sklearn.metrics import roc_auc_score\n",
    "from sklearn.compose import ColumnTransformer\n",
    "\n",
    "import optuna\n"
   ]
  },
  {
   "cell_type": "code",
   "execution_count": null,
   "id": "120701c5",
   "metadata": {},
   "outputs": [
    {
     "data": {
      "text/plain": [
       "Index(['CNT_CHILDREN', 'AMT_INCOME_TOTAL', 'AMT_CREDIT', 'AMT_ANNUITY',\n",
       "       'AMT_GOODS_PRICE', 'REGION_POPULATION_RELATIVE', 'DAYS_BIRTH',\n",
       "       'DAYS_EMPLOYED', 'DAYS_REGISTRATION', 'DAYS_ID_PUBLISH',\n",
       "       ...\n",
       "       'FLAG_DOCUMENT_18', 'FLAG_DOCUMENT_19', 'FLAG_DOCUMENT_20',\n",
       "       'FLAG_DOCUMENT_21', 'AMT_REQ_CREDIT_BUREAU_HOUR',\n",
       "       'AMT_REQ_CREDIT_BUREAU_DAY', 'AMT_REQ_CREDIT_BUREAU_WEEK',\n",
       "       'AMT_REQ_CREDIT_BUREAU_MON', 'AMT_REQ_CREDIT_BUREAU_QRT',\n",
       "       'AMT_REQ_CREDIT_BUREAU_YEAR'],\n",
       "      dtype='object', length=104)"
      ]
     },
     "execution_count": 4,
     "metadata": {},
     "output_type": "execute_result"
    }
   ],
   "source": [
    "num_features = data.select_dtypes(np.number).drop(columns=['target', 'sk_id_curr']).columns\n",
    "num_features\n",
    "cat_features = data.select_dtypes('object').columns\n",
    "cat_features, len(cat_features)"
   ]
  },
  {
   "cell_type": "code",
   "execution_count": 5,
   "id": "0fe6929c",
   "metadata": {},
   "outputs": [
    {
     "data": {
      "text/plain": [
       "(Index(['NAME_CONTRACT_TYPE', 'CODE_GENDER', 'FLAG_OWN_CAR', 'FLAG_OWN_REALTY',\n",
       "        'NAME_TYPE_SUITE', 'NAME_INCOME_TYPE', 'NAME_EDUCATION_TYPE',\n",
       "        'NAME_FAMILY_STATUS', 'NAME_HOUSING_TYPE', 'OCCUPATION_TYPE',\n",
       "        'WEEKDAY_APPR_PROCESS_START', 'ORGANIZATION_TYPE', 'FONDKAPREMONT_MODE',\n",
       "        'HOUSETYPE_MODE', 'WALLSMATERIAL_MODE', 'EMERGENCYSTATE_MODE'],\n",
       "       dtype='object'),\n",
       " 16)"
      ]
     },
     "execution_count": 5,
     "metadata": {},
     "output_type": "execute_result"
    }
   ],
   "source": [
    "cat_features = data.select_dtypes('object').columns\n",
    "cat_features, len(cat_features)"
   ]
  },
  {
   "cell_type": "code",
   "execution_count": 17,
   "id": "bf8d8e36",
   "metadata": {},
   "outputs": [],
   "source": [
    "num_transformer = Pipeline([\n",
    "    ('imp_mean', SimpleImputer(strategy='mean')),\n",
    "    ('scaler', StandardScaler()),\n",
    "])\n",
    "cat_transformer = Pipeline(steps=[\n",
    "    ('imp_most_freq', SimpleImputer(strategy='most_frequent')),\n",
    "    ('ordinal', OrdinalEncoder()),\n",
    "    #('ohe', OneHotEncoder(handle_unknown='ignore'))\n",
    "])"
   ]
  },
  {
   "cell_type": "code",
   "execution_count": null,
   "id": "3a148d77",
   "metadata": {},
   "outputs": [],
   "source": [
    "\n",
    "ct = ColumnTransformer(\n",
    "    transformers=[\n",
    "        ('num', num_transformer, list(num_features)),\n",
    "        ('cat', cat_transformer, list(cat_features)),\n",
    "    ]\n",
    ")"
   ]
  },
  {
   "cell_type": "code",
   "execution_count": 17,
   "id": "f5088f7e",
   "metadata": {},
   "outputs": [],
   "source": [
    "pipeline = Pipeline([\n",
    "    ('ct', ct),\n",
    "])"
   ]
  },
  {
   "cell_type": "code",
   "execution_count": 18,
   "id": "bce2d61d",
   "metadata": {},
   "outputs": [],
   "source": [
    "pipeline.fit(data_dict['tr'])\n",
    "new_tr = pipeline.transform(data_dict['tr'])"
   ]
  },
  {
   "cell_type": "code",
   "execution_count": 3,
   "id": "c9c7c4aa",
   "metadata": {},
   "outputs": [],
   "source": [
    "num_imputers = [\n",
    "    SimpleImputer(strategy='mean'),\n",
    "    SimpleImputer(strategy='median'),\n",
    "    SimpleImputer(strategy='most_frequent'),\n",
    "    SimpleImputer(strategy='constant', fill_value=0)\n",
    "]\n",
    "cat_imputers = [\n",
    "    SimpleImputer(strategy='most_frequent'),\n",
    "    SimpleImputer(strategy='constant', fill_value='missing')\n",
    "]\n",
    "scalers = [\n",
    "    StandardScaler(),\n",
    "    MinMaxScaler(),\n",
    "    RobustScaler(),\n",
    "    MaxAbsScaler()\n",
    "]\n",
    "encoders = [\n",
    "    OneHotEncoder(handle_unknown='ignore'),\n",
    "    OrdinalEncoder()\n",
    "]"
   ]
  },
  {
   "cell_type": "code",
   "execution_count": 4,
   "id": "132bb289",
   "metadata": {},
   "outputs": [],
   "source": [
    "\n",
    "def my_objective(trial: optuna.trial.Trial, \n",
    "                 X_tst, y_tst, X_trn, y_trn):\n",
    "    params = {\n",
    "        'num_imputer': trial.suggest_int('num_imputer', 0, 3),\n",
    "        'cat_imputer': trial.suggest_int('cat_imputer', 0, 1),\n",
    "        'scaler': trial.suggest_int('scaler', 0, 3),\n",
    "        'encoder': trial.suggest_int('encoder', 0, 1),\n",
    "    }\n",
    "    regParams = {\n",
    "        'C': trial.suggest_float('C', 0.001, 100),\n",
    "        'penalty': trial.suggest_categorical('penalty', ['l2']),\n",
    "        'max_iter': trial.suggest_int('max_iter', 1000, 5000)\n",
    "    }\n",
    "    \n",
    "    num_transformer = Pipeline(steps=[\n",
    "                                    ('imputer', num_imputers[params['num_imputer']]),\n",
    "                                    ('scaler', scalers[params['scaler']])])\n",
    "    cat_transformer = Pipeline(steps=[\n",
    "                                    ('imputer', cat_imputers[params['cat_imputer']]),\n",
    "                                    ('encoder', encoders[params['encoder']])])\n",
    "    ct = ColumnTransformer(\n",
    "    transformers=[\n",
    "        ('num', num_transformer, list(num_features)),\n",
    "        ('cat', cat_transformer, list(cat_features)),\n",
    "        ]\n",
    "    )\n",
    "    pipeline = Pipeline([\n",
    "    ('ct', ct),\n",
    "    ('logLR', LogisticRegression(**regParams)),\n",
    "    ])\n",
    "    pipeline.fit(X_trn, y_trn)\n",
    "    score = roc_auc_score(y_tst, pipeline.predict_proba(X_tst)[:, 1])\n",
    "    return score\n",
    "    \n"
   ]
  },
  {
   "cell_type": "code",
   "execution_count": null,
   "id": "4d5e2cc5",
   "metadata": {},
   "outputs": [
    {
     "name": "stderr",
     "output_type": "stream",
     "text": [
      "[I 2025-04-09 14:08:40,323] A new study created in memory with name: no-name-61ea0e3d-9d28-44af-aeea-3ff6adfcd60f\n",
      "[I 2025-04-09 14:09:01,769] Trial 0 finished with value: 0.746153031600943 and parameters: {'num_imputer': 1, 'cat_imputer': 1, 'scaler': 0, 'encoder': 0, 'C': 20.718327746159048, 'penalty': 'l2', 'max_iter': 2940}. Best is trial 0 with value: 0.746153031600943.\n",
      "[I 2025-04-09 14:09:14,865] Trial 2 finished with value: 0.7377546249358795 and parameters: {'num_imputer': 2, 'cat_imputer': 0, 'scaler': 1, 'encoder': 0, 'C': 59.57586007251016, 'penalty': 'l2', 'max_iter': 3129}. Best is trial 0 with value: 0.746153031600943.\n",
      "[I 2025-04-09 14:09:36,074] Trial 6 finished with value: 0.7465095263619549 and parameters: {'num_imputer': 0, 'cat_imputer': 0, 'scaler': 0, 'encoder': 0, 'C': 75.63455350177072, 'penalty': 'l2', 'max_iter': 1543}. Best is trial 6 with value: 0.7465095263619549.\n",
      "[I 2025-04-09 14:09:47,304] Trial 5 finished with value: 0.7372872120640336 and parameters: {'num_imputer': 2, 'cat_imputer': 1, 'scaler': 1, 'encoder': 0, 'C': 10.081483414573173, 'penalty': 'l2', 'max_iter': 1269}. Best is trial 6 with value: 0.7465095263619549.\n",
      "f:\\anaconda\\Lib\\site-packages\\sklearn\\linear_model\\_logistic.py:469: ConvergenceWarning: lbfgs failed to converge (status=1):\n",
      "STOP: TOTAL NO. of ITERATIONS REACHED LIMIT.\n",
      "\n",
      "Increase the number of iterations (max_iter) or scale the data as shown in:\n",
      "    https://scikit-learn.org/stable/modules/preprocessing.html\n",
      "Please also refer to the documentation for alternative solver options:\n",
      "    https://scikit-learn.org/stable/modules/linear_model.html#logistic-regression\n",
      "  n_iter_i = _check_optimize_result(\n",
      "[I 2025-04-09 14:11:18,589] Trial 4 finished with value: 0.7278096996044131 and parameters: {'num_imputer': 3, 'cat_imputer': 1, 'scaler': 2, 'encoder': 1, 'C': 92.43379643936534, 'penalty': 'l2', 'max_iter': 1114}. Best is trial 6 with value: 0.7465095263619549.\n",
      "[I 2025-04-09 14:12:04,167] Trial 1 finished with value: 0.7468792134070987 and parameters: {'num_imputer': 0, 'cat_imputer': 1, 'scaler': 0, 'encoder': 1, 'C': 80.20264272172773, 'penalty': 'l2', 'max_iter': 3810}. Best is trial 1 with value: 0.7468792134070987.\n",
      "[I 2025-04-09 14:12:26,179] Trial 10 finished with value: 0.7463381734771944 and parameters: {'num_imputer': 0, 'cat_imputer': 0, 'scaler': 0, 'encoder': 0, 'C': 19.291922111083274, 'penalty': 'l2', 'max_iter': 4565}. Best is trial 1 with value: 0.7468792134070987.\n",
      "[I 2025-04-09 14:13:24,280] Trial 3 finished with value: 0.7450793119585285 and parameters: {'num_imputer': 0, 'cat_imputer': 0, 'scaler': 1, 'encoder': 1, 'C': 66.44066399707954, 'penalty': 'l2', 'max_iter': 2368}. Best is trial 1 with value: 0.7468792134070987.\n",
      "[I 2025-04-09 14:14:39,441] Trial 9 finished with value: 0.7382347407286791 and parameters: {'num_imputer': 2, 'cat_imputer': 0, 'scaler': 0, 'encoder': 1, 'C': 29.685066478555434, 'penalty': 'l2', 'max_iter': 2600}. Best is trial 1 with value: 0.7468792134070987.\n",
      "[I 2025-04-09 14:14:45,957] Trial 7 finished with value: 0.735969955310881 and parameters: {'num_imputer': 2, 'cat_imputer': 1, 'scaler': 3, 'encoder': 1, 'C': 83.18343834881404, 'penalty': 'l2', 'max_iter': 4426}. Best is trial 1 with value: 0.7468792134070987.\n",
      "[I 2025-04-09 14:15:14,572] Trial 14 finished with value: 0.7289804694366254 and parameters: {'num_imputer': 3, 'cat_imputer': 0, 'scaler': 3, 'encoder': 0, 'C': 1.274717959151943, 'penalty': 'l2', 'max_iter': 2942}. Best is trial 1 with value: 0.7468792134070987.\n",
      "[I 2025-04-09 14:15:57,744] Trial 15 finished with value: 0.7298797658349834 and parameters: {'num_imputer': 3, 'cat_imputer': 0, 'scaler': 3, 'encoder': 0, 'C': 32.0647746064238, 'penalty': 'l2', 'max_iter': 4195}. Best is trial 1 with value: 0.7468792134070987.\n",
      "[I 2025-04-09 14:16:41,549] Trial 11 finished with value: 0.7450365510882924 and parameters: {'num_imputer': 0, 'cat_imputer': 0, 'scaler': 1, 'encoder': 1, 'C': 11.26792866508898, 'penalty': 'l2', 'max_iter': 2605}. Best is trial 1 with value: 0.7468792134070987.\n",
      "[I 2025-04-09 14:17:04,001] Trial 8 finished with value: 0.7304424766607309 and parameters: {'num_imputer': 3, 'cat_imputer': 1, 'scaler': 2, 'encoder': 0, 'C': 14.574086917602301, 'penalty': 'l2', 'max_iter': 3672}. Best is trial 1 with value: 0.7468792134070987.\n",
      "[I 2025-04-09 14:17:21,740] Trial 17 finished with value: 0.7463894382165964 and parameters: {'num_imputer': 0, 'cat_imputer': 0, 'scaler': 3, 'encoder': 0, 'C': 36.1245459405727, 'penalty': 'l2', 'max_iter': 1221}. Best is trial 1 with value: 0.7468792134070987.\n",
      "[I 2025-04-09 14:17:42,173] Trial 18 finished with value: 0.7457311342404496 and parameters: {'num_imputer': 1, 'cat_imputer': 0, 'scaler': 1, 'encoder': 0, 'C': 22.18125373974743, 'penalty': 'l2', 'max_iter': 1885}. Best is trial 1 with value: 0.7468792134070987.\n",
      "[I 2025-04-09 14:18:20,672] Trial 19 finished with value: 0.7446784509003375 and parameters: {'num_imputer': 0, 'cat_imputer': 1, 'scaler': 0, 'encoder': 1, 'C': 9.618172042510412, 'penalty': 'l2', 'max_iter': 3367}. Best is trial 1 with value: 0.7468792134070987.\n",
      "f:\\anaconda\\Lib\\site-packages\\sklearn\\linear_model\\_logistic.py:469: ConvergenceWarning: lbfgs failed to converge (status=1):\n",
      "STOP: TOTAL NO. of ITERATIONS REACHED LIMIT.\n",
      "\n",
      "Increase the number of iterations (max_iter) or scale the data as shown in:\n",
      "    https://scikit-learn.org/stable/modules/preprocessing.html\n",
      "Please also refer to the documentation for alternative solver options:\n",
      "    https://scikit-learn.org/stable/modules/linear_model.html#logistic-regression\n",
      "  n_iter_i = _check_optimize_result(\n",
      "[I 2025-04-09 14:18:39,420] Trial 16 finished with value: 0.7273443420579158 and parameters: {'num_imputer': 3, 'cat_imputer': 1, 'scaler': 1, 'encoder': 1, 'C': 89.96336205198921, 'penalty': 'l2', 'max_iter': 1038}. Best is trial 1 with value: 0.7468792134070987.\n",
      "[I 2025-04-09 14:19:07,006] Trial 21 finished with value: 0.7458436167348632 and parameters: {'num_imputer': 1, 'cat_imputer': 1, 'scaler': 3, 'encoder': 0, 'C': 96.59324150017841, 'penalty': 'l2', 'max_iter': 4069}. Best is trial 1 with value: 0.7468792134070987.\n",
      "[I 2025-04-09 14:19:11,862] Trial 13 finished with value: 0.7443500313784405 and parameters: {'num_imputer': 1, 'cat_imputer': 0, 'scaler': 1, 'encoder': 1, 'C': 5.161092288423857, 'penalty': 'l2', 'max_iter': 2621}. Best is trial 1 with value: 0.7468792134070987.\n",
      "[I 2025-04-09 14:19:41,992] Trial 24 finished with value: 0.7296970155239418 and parameters: {'num_imputer': 3, 'cat_imputer': 0, 'scaler': 3, 'encoder': 0, 'C': 66.3999899507201, 'penalty': 'l2', 'max_iter': 2685}. Best is trial 1 with value: 0.7468792134070987.\n",
      "[I 2025-04-09 14:19:50,479] Trial 23 finished with value: 0.7296849235176657 and parameters: {'num_imputer': 3, 'cat_imputer': 1, 'scaler': 1, 'encoder': 0, 'C': 99.28697849149003, 'penalty': 'l2', 'max_iter': 2463}. Best is trial 1 with value: 0.7468792134070987.\n",
      "[I 2025-04-09 14:21:12,670] Trial 20 finished with value: 0.7302863287634969 and parameters: {'num_imputer': 3, 'cat_imputer': 1, 'scaler': 0, 'encoder': 1, 'C': 21.49391699043369, 'penalty': 'l2', 'max_iter': 2854}. Best is trial 1 with value: 0.7468792134070987.\n",
      "[I 2025-04-09 14:22:11,843] Trial 22 finished with value: 0.746442543592985 and parameters: {'num_imputer': 1, 'cat_imputer': 0, 'scaler': 0, 'encoder': 1, 'C': 68.32471387969905, 'penalty': 'l2', 'max_iter': 2454}. Best is trial 1 with value: 0.7468792134070987.\n",
      "f:\\anaconda\\Lib\\site-packages\\sklearn\\linear_model\\_logistic.py:469: ConvergenceWarning: lbfgs failed to converge (status=1):\n",
      "STOP: TOTAL NO. of ITERATIONS REACHED LIMIT.\n",
      "\n",
      "Increase the number of iterations (max_iter) or scale the data as shown in:\n",
      "    https://scikit-learn.org/stable/modules/preprocessing.html\n",
      "Please also refer to the documentation for alternative solver options:\n",
      "    https://scikit-learn.org/stable/modules/linear_model.html#logistic-regression\n",
      "  n_iter_i = _check_optimize_result(\n",
      "[I 2025-04-09 14:22:34,425] Trial 26 finished with value: 0.746674823772032 and parameters: {'num_imputer': 0, 'cat_imputer': 0, 'scaler': 0, 'encoder': 1, 'C': 23.998081181405357, 'penalty': 'l2', 'max_iter': 1144}. Best is trial 1 with value: 0.7468792134070987.\n",
      "[I 2025-04-09 14:23:04,233] Trial 28 finished with value: 0.7283421251637887 and parameters: {'num_imputer': 3, 'cat_imputer': 0, 'scaler': 0, 'encoder': 1, 'C': 57.019608109795875, 'penalty': 'l2', 'max_iter': 4092}. Best is trial 1 with value: 0.7468792134070987.\n",
      "f:\\anaconda\\Lib\\site-packages\\sklearn\\linear_model\\_logistic.py:469: ConvergenceWarning: lbfgs failed to converge (status=1):\n",
      "STOP: TOTAL NO. of ITERATIONS REACHED LIMIT.\n",
      "\n",
      "Increase the number of iterations (max_iter) or scale the data as shown in:\n",
      "    https://scikit-learn.org/stable/modules/preprocessing.html\n",
      "Please also refer to the documentation for alternative solver options:\n",
      "    https://scikit-learn.org/stable/modules/linear_model.html#logistic-regression\n",
      "  n_iter_i = _check_optimize_result(\n",
      "[I 2025-04-09 14:23:11,643] Trial 25 finished with value: 0.744107687682421 and parameters: {'num_imputer': 1, 'cat_imputer': 1, 'scaler': 2, 'encoder': 1, 'C': 16.65584820306656, 'penalty': 'l2', 'max_iter': 1476}. Best is trial 1 with value: 0.7468792134070987.\n",
      "f:\\anaconda\\Lib\\site-packages\\sklearn\\linear_model\\_logistic.py:469: ConvergenceWarning: lbfgs failed to converge (status=1):\n",
      "STOP: TOTAL NO. of ITERATIONS REACHED LIMIT.\n",
      "\n",
      "Increase the number of iterations (max_iter) or scale the data as shown in:\n",
      "    https://scikit-learn.org/stable/modules/preprocessing.html\n",
      "Please also refer to the documentation for alternative solver options:\n",
      "    https://scikit-learn.org/stable/modules/linear_model.html#logistic-regression\n",
      "  n_iter_i = _check_optimize_result(\n",
      "[I 2025-04-09 14:25:40,945] Trial 12 finished with value: 0.7468734768077767 and parameters: {'num_imputer': 0, 'cat_imputer': 1, 'scaler': 2, 'encoder': 0, 'C': 54.62787531795841, 'penalty': 'l2', 'max_iter': 4622}. Best is trial 1 with value: 0.7468792134070987.\n",
      "[I 2025-04-09 14:25:42,969] Trial 29 finished with value: 0.7470428248820971 and parameters: {'num_imputer': 0, 'cat_imputer': 0, 'scaler': 0, 'encoder': 1, 'C': 48.45753178769237, 'penalty': 'l2', 'max_iter': 1691}. Best is trial 29 with value: 0.7470428248820971.\n",
      "[I 2025-04-09 14:26:09,484] Trial 30 finished with value: 0.7470432637303666 and parameters: {'num_imputer': 0, 'cat_imputer': 0, 'scaler': 0, 'encoder': 1, 'C': 78.70803765720116, 'penalty': 'l2', 'max_iter': 1936}. Best is trial 30 with value: 0.7470432637303666.\n",
      "[I 2025-04-09 14:26:10,365] Trial 31 finished with value: 0.7467048943500416 and parameters: {'num_imputer': 0, 'cat_imputer': 0, 'scaler': 0, 'encoder': 1, 'C': 43.909404574420606, 'penalty': 'l2', 'max_iter': 1960}. Best is trial 30 with value: 0.7470432637303666.\n",
      "[I 2025-04-09 14:27:00,884] Trial 34 finished with value: 0.7449755369715065 and parameters: {'num_imputer': 0, 'cat_imputer': 0, 'scaler': 0, 'encoder': 1, 'C': 48.05426094596653, 'penalty': 'l2', 'max_iter': 1834}. Best is trial 30 with value: 0.7470432637303666.\n",
      "f:\\anaconda\\Lib\\site-packages\\sklearn\\linear_model\\_logistic.py:469: ConvergenceWarning: lbfgs failed to converge (status=1):\n",
      "STOP: TOTAL NO. of ITERATIONS REACHED LIMIT.\n",
      "\n",
      "Increase the number of iterations (max_iter) or scale the data as shown in:\n",
      "    https://scikit-learn.org/stable/modules/preprocessing.html\n",
      "Please also refer to the documentation for alternative solver options:\n",
      "    https://scikit-learn.org/stable/modules/linear_model.html#logistic-regression\n",
      "  n_iter_i = _check_optimize_result(\n",
      "[I 2025-04-09 14:27:59,555] Trial 27 finished with value: 0.7449496670238754 and parameters: {'num_imputer': 0, 'cat_imputer': 0, 'scaler': 2, 'encoder': 1, 'C': 87.59087896143609, 'penalty': 'l2', 'max_iter': 3137}. Best is trial 30 with value: 0.7470432637303666.\n",
      "f:\\anaconda\\Lib\\site-packages\\sklearn\\linear_model\\_logistic.py:469: ConvergenceWarning: lbfgs failed to converge (status=1):\n",
      "STOP: TOTAL NO. of ITERATIONS REACHED LIMIT.\n",
      "\n",
      "Increase the number of iterations (max_iter) or scale the data as shown in:\n",
      "    https://scikit-learn.org/stable/modules/preprocessing.html\n",
      "Please also refer to the documentation for alternative solver options:\n",
      "    https://scikit-learn.org/stable/modules/linear_model.html#logistic-regression\n",
      "  n_iter_i = _check_optimize_result(\n",
      "[I 2025-04-09 14:32:00,898] Trial 37 finished with value: 0.7446021670737983 and parameters: {'num_imputer': 0, 'cat_imputer': 1, 'scaler': 2, 'encoder': 1, 'C': 80.73127526431975, 'penalty': 'l2', 'max_iter': 2100}. Best is trial 30 with value: 0.7470432637303666.\n",
      "f:\\anaconda\\Lib\\site-packages\\sklearn\\linear_model\\_logistic.py:469: ConvergenceWarning: lbfgs failed to converge (status=1):\n",
      "STOP: TOTAL NO. of ITERATIONS REACHED LIMIT.\n",
      "\n",
      "Increase the number of iterations (max_iter) or scale the data as shown in:\n",
      "    https://scikit-learn.org/stable/modules/preprocessing.html\n",
      "Please also refer to the documentation for alternative solver options:\n",
      "    https://scikit-learn.org/stable/modules/linear_model.html#logistic-regression\n",
      "  n_iter_i = _check_optimize_result(\n",
      "[I 2025-04-09 14:32:56,009] Trial 33 finished with value: 0.7447263090405822 and parameters: {'num_imputer': 0, 'cat_imputer': 1, 'scaler': 2, 'encoder': 1, 'C': 46.607296385911035, 'penalty': 'l2', 'max_iter': 3686}. Best is trial 30 with value: 0.7470432637303666.\n",
      "f:\\anaconda\\Lib\\site-packages\\sklearn\\linear_model\\_logistic.py:469: ConvergenceWarning: lbfgs failed to converge (status=1):\n",
      "STOP: TOTAL NO. of ITERATIONS REACHED LIMIT.\n",
      "\n",
      "Increase the number of iterations (max_iter) or scale the data as shown in:\n",
      "    https://scikit-learn.org/stable/modules/preprocessing.html\n",
      "Please also refer to the documentation for alternative solver options:\n",
      "    https://scikit-learn.org/stable/modules/linear_model.html#logistic-regression\n",
      "  n_iter_i = _check_optimize_result(\n",
      "[I 2025-04-09 14:33:36,431] Trial 35 finished with value: 0.7447370608231862 and parameters: {'num_imputer': 0, 'cat_imputer': 1, 'scaler': 2, 'encoder': 1, 'C': 47.41649517067126, 'penalty': 'l2', 'max_iter': 3684}. Best is trial 30 with value: 0.7470432637303666.\n",
      "f:\\anaconda\\Lib\\site-packages\\sklearn\\linear_model\\_logistic.py:469: ConvergenceWarning: lbfgs failed to converge (status=1):\n",
      "STOP: TOTAL NO. of ITERATIONS REACHED LIMIT.\n",
      "\n",
      "Increase the number of iterations (max_iter) or scale the data as shown in:\n",
      "    https://scikit-learn.org/stable/modules/preprocessing.html\n",
      "Please also refer to the documentation for alternative solver options:\n",
      "    https://scikit-learn.org/stable/modules/linear_model.html#logistic-regression\n",
      "  n_iter_i = _check_optimize_result(\n",
      "[I 2025-04-09 14:34:11,673] Trial 36 finished with value: 0.7446808929804563 and parameters: {'num_imputer': 0, 'cat_imputer': 1, 'scaler': 2, 'encoder': 1, 'C': 77.2250120244813, 'penalty': 'l2', 'max_iter': 3708}. Best is trial 30 with value: 0.7470432637303666.\n",
      "[I 2025-04-09 14:34:28,597] Trial 40 finished with value: 0.7440686696512032 and parameters: {'num_imputer': 1, 'cat_imputer': 1, 'scaler': 0, 'encoder': 1, 'C': 60.39135076674962, 'penalty': 'l2', 'max_iter': 4891}. Best is trial 30 with value: 0.7470432637303666.\n",
      "[I 2025-04-09 14:35:00,555] Trial 38 finished with value: 0.7462246396412431 and parameters: {'num_imputer': 1, 'cat_imputer': 1, 'scaler': 0, 'encoder': 1, 'C': 56.52688816540064, 'penalty': 'l2', 'max_iter': 2188}. Best is trial 30 with value: 0.7470432637303666.\n",
      "f:\\anaconda\\Lib\\site-packages\\sklearn\\linear_model\\_logistic.py:469: ConvergenceWarning: lbfgs failed to converge (status=1):\n",
      "STOP: TOTAL NO. of ITERATIONS REACHED LIMIT.\n",
      "\n",
      "Increase the number of iterations (max_iter) or scale the data as shown in:\n",
      "    https://scikit-learn.org/stable/modules/preprocessing.html\n",
      "Please also refer to the documentation for alternative solver options:\n",
      "    https://scikit-learn.org/stable/modules/linear_model.html#logistic-regression\n",
      "  n_iter_i = _check_optimize_result(\n",
      "[I 2025-04-09 14:35:38,731] Trial 32 finished with value: 0.7447168643312414 and parameters: {'num_imputer': 0, 'cat_imputer': 1, 'scaler': 2, 'encoder': 1, 'C': 37.99517985752457, 'penalty': 'l2', 'max_iter': 4931}. Best is trial 30 with value: 0.7470432637303666.\n",
      "[I 2025-04-09 14:36:04,551] Trial 44 finished with value: 0.7448300445628318 and parameters: {'num_imputer': 1, 'cat_imputer': 1, 'scaler': 1, 'encoder': 0, 'C': 72.99537900051246, 'penalty': 'l2', 'max_iter': 1642}. Best is trial 30 with value: 0.7470432637303666.\n",
      "[I 2025-04-09 14:36:39,160] Trial 39 finished with value: 0.7439894812174125 and parameters: {'num_imputer': 1, 'cat_imputer': 1, 'scaler': 1, 'encoder': 1, 'C': 75.58077955017828, 'penalty': 'l2', 'max_iter': 4922}. Best is trial 30 with value: 0.7470432637303666.\n"
     ]
    }
   ],
   "source": [
    "n_trials = 50\n",
    "tpe_sampler = optuna.samplers.TPESampler(\n",
    "    n_startup_trials=n_trials/2, # объем разведки. Всегда настраивайте!\n",
    "    gamma=lambda n_trials: min(int(np.ceil(0.1 * n_trials)), 25), # не обязательно настраивать. По умолчанию топ-10%\n",
    "    n_ei_candidates=13, # влияет на \"точность шага\"\n",
    ")\n",
    "study = optuna.create_study(sampler=tpe_sampler, direction='maximize')\n",
    "from functools import partial\n",
    "objective = partial(my_objective, X_trn=data_dict['tr'], y_trn=data_dict['tr'].target, X_tst=data_dict['tst'], y_tst=data_dict['tst'].target)\n",
    "study.optimize(objective, n_trials=n_trials, n_jobs=5, gc_after_trial=True)"
   ]
  },
  {
   "cell_type": "code",
   "execution_count": null,
   "id": "270ff53b",
   "metadata": {},
   "outputs": [],
   "source": [
    "from sklearn.metrics import roc_auc_score\n",
    "\n",
    "roc_auc_score(data_dict['tst'].target, pipeline.predict_proba(data_dict['tst'])[:, 1])"
   ]
  },
  {
   "cell_type": "markdown",
   "id": "b9e8bba5",
   "metadata": {},
   "source": [
    "### Кастомные трансформеры\n",
    "\n",
    "В этом пункте вам нужно добавить один любой кастомный трансформер данных. (можно больше, минимум 1)\n",
    "\n",
    "Примеры кастомных трансформеров можно найти\n",
    "- в семинаре по предобработке\n",
    "- https://www.andrewvillazon.com/custom-scikit-learn-transformers/\n",
    "- https://medium.com/@pgshanding/creating-custom-transformers-in-python-and-scikit-learn-10767487017e\n",
    "- в интернете :)\n",
    "\n",
    "Варианты трансформеров\n",
    "- генерация новых признаков, примеры новых признаков можно найти в соревновании с kaggle, откуда был взят датасет https://www.kaggle.com/competitions/home-credit-default-risk/code?competitionId=9120&sortBy=voteCount&excludeNonAccessedDatasources=true, т.е. ваш трансформер принимает на вход pd.DataFrame и добавляет новые колонки с признаками\n",
    "- категорийные энкодеры, которые не реализованы в sklearn, можно взять готовые реализации и обернуть их в свой трансформер. Примеры категорийных энкодеров - https://www.kaggle.com/code/subinium/11-categorical-encoders-and-benchmark, примеры реализаций - https://contrib.scikit-learn.org/category_encoders/ (если не требуется дополнительный код для использования в вашем пайплайне, можете использовать as is)\n",
    "- замена пропусков от SimpleImputer с добавлением нового признака, что был пропуск \n",
    "- эмбединг текста из одного/нескольких признаков\n",
    "- любой другой ваш вариант, который дает результат\n",
    "\n",
    "Не забудьте добавить комментарий, что делает ваш трансформер."
   ]
  },
  {
   "cell_type": "code",
   "execution_count": null,
   "id": "b9ddcd1e",
   "metadata": {},
   "outputs": [],
   "source": [
    "# ваш код"
   ]
  },
  {
   "cell_type": "markdown",
   "id": "e47d3370",
   "metadata": {},
   "source": [
    "Выбейте на тесте больше `0.752` [roc_auc_score](https://scikit-learn.org/1.5/modules/generated/sklearn.metrics.roc_auc_score.html).\n",
    "Для поиска лучшей модели можно использовать:\n",
    "- optuna\n",
    "- [GridSearchCV](https://scikit-learn.org/dev/modules/generated/sklearn.model_selection.GridSearchCV.html)\n",
    "- свои наблюдения и интуицию"
   ]
  },
  {
   "cell_type": "code",
   "execution_count": null,
   "id": "66547598",
   "metadata": {},
   "outputs": [],
   "source": [
    "# ваш код"
   ]
  },
  {
   "cell_type": "markdown",
   "id": "227c2be0",
   "metadata": {},
   "source": [
    "### Бонусы (до +5 баллов)\n",
    "\n",
    "За вашу работу можно получить до 5 бонусных баллов <br>\n",
    "За какие заслуги можно получить бонус:\n",
    "- скор на тесте значительно больше 0.752 (будет сравниваться с другими работами студентов)\n",
    "- интересные реализации кастомных трансформеров\n",
    "- интересные находки в данных, которые увеличили вам скор. Опишите, что вы нашли и как это помогло увеличить скор.\n",
    "- см. пункт \"Хорошие работы\" в [уставе](https://t.me/c/2206639786/270/271) "
   ]
  },
  {
   "cell_type": "code",
   "execution_count": null,
   "id": "a9d50a41",
   "metadata": {},
   "outputs": [],
   "source": [
    "# ваш код"
   ]
  }
 ],
 "metadata": {
  "kernelspec": {
   "display_name": "base",
   "language": "python",
   "name": "python3"
  },
  "language_info": {
   "codemirror_mode": {
    "name": "ipython",
    "version": 3
   },
   "file_extension": ".py",
   "mimetype": "text/x-python",
   "name": "python",
   "nbconvert_exporter": "python",
   "pygments_lexer": "ipython3",
   "version": "3.12.4"
  }
 },
 "nbformat": 4,
 "nbformat_minor": 5
}
