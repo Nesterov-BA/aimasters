


import numpy as np
import pandas as pd


print(np.__name__, np.__version__)
print(pd.__name__, pd.__version__)

















get_ipython().getoutput("wget https://data.bioml.ru/htdocs/courses/python/datasci/pandas/data/titanic_train.csv -O titanic_train.csv")


df = pd.read_csv('titanic_train.csv')
# df.read_parquet(...)
df.info()





from IPython.display import display

# pd.options.display.max_rows = 100
# pd.options.display.max_columns = 20

display(df.head(3))

print('index object:', df.index, '\n\ncolumns object:', df.columns, '\n\ndataframe shape:', df.shape)








df['Name']  # recommended way


df.Name  # okay way





df.iloc[100]  # iloc = запрос по номеру


df.loc[100]  # loc = запрос по ключу





df.loc[0, 'Name']


df.columns


df.iloc[0, 3]








df.set_index('id_' + df.index.astype(str), inplace=False).head(3)  # creates a copy





df.rename(columns={'Name': 'passenger_name'}, inplace=False).head(3)  # creates a copy





df['new_col_1'] = 112  # кастится в pd.Series из констант 112
df['new_col_2'] = np.random.randint(0, 2, size=df.shape[0])  # кастится в pd.Series
df['new_col_3'] = df.Age ** 2
df.head(3)


# создать датафрейм самому:
# pd.DataFrame(data=..., index=..., columns=...)

# например:
pd.DataFrame({'val_1': [1, 2, 3], 'val_2': ['A', 100, True]})





df.set_index('id_' + df.index.astype(str), inplace=True)  # поменяем индекс inplace
df.head(2)


df.loc['id_0']











df['Ticket']





df.Age.values[:10]  # достаем np.array из pd.Series





pd.Series([1, 23, 234])
pd.Series([1, 23, 234], dtype=np.float64, index=['first', 'second', 3])





display(df.head(2))
df.info(memory_usage='deep')





print(pd.isna(np.nan), pd.isna(None), pd.isna(pd.NA), pd.isna(pd.NaT))
print(np.nan == np.nan, np.nan != np.nan, np.nan > np.nan, np.nan <= np.nan)





pd.Series([np.nan, None, 1])  # серия закастилась в np.float64, поэтому None стал np.nan


pd.to_datetime(pd.Series([np.nan, None, '2021-01-03']))  # мы закастили серию в datetime64, поэтому наны стали NaT (not a time)


pd.Series([np.nan, None, 'хаха :)'])


pd.Series([np.nan, None, 'хаха :)', pd.NaT, pd.NA]).values


pd.Series([np.nan, None, True, pd.NaT]).astype(bool) # :)


# pd.Series([np.nan, None, 1]).astype(np.int32) # интовые типы numpy не поддерживают наны





df.select_dtypes(np.number).info()  # по умолчанию числа - NumPy типы данных


df.dtypes == int  # приколы








df.select_dtypes(object).info(memory_usage='deep')


df.Sex.memory_usage('deep') # в байтах





df.Sex.astype('string').memory_usage('deep')  # профайлинг


df.select_dtypes('string').info()  # иначе нет возможности выбрать среди всех object-ов только строки





df.Name = df.Name.astype('string')
df.Sex = df.Sex.astype('string')

df.Name.str.contains('Mr.') # .startswith, .endswith
df.Sex.str[0]


display(
    pd.Series([None, np.nan, pd.NA, pd.NaT, 'asd', 'abc']).astype(str)
)  # Python str
display(
    pd.Series([None, np.nan, pd.NA, pd.NaT, 'asd', 'abc']).astype('string')
)  # Pandas string





X = pd.DataFrame({'inn': ['7729082090', '5008006211']})
X.inn = X.inn.astype('string')
X.info()
print(X.inn.values)






X_test = pd.DataFrame({'inn': [7729082090, 5008006211]})
X_test.info()
print(X_test.inn.values)








train_dtypes = X.dtypes.to_dict()
print(train_dtypes)
X_test = X_test.astype(train_dtypes)
print(X_test.inn.values, '\n\n')








df.head()


# занимает меньше памяти, т.к. хранятся коды-числа и словарик с переводом в строки
df.Sex.astype('category').memory_usage('deep')


cat_a = 'abc' * 1000
cat_b = 'dds' * 1000
some_series = pd.Series(np.random.choice([cat_a, cat_b], size=200_000))

some_series.info(memory_usage='deep')
print('\n')
some_series.astype('category').info(memory_usage='deep')
del some_series


df.Pclass = df.Pclass.astype('category')  # df.select_dtypes('category')
df.Pclass.cat.codes  # .cat.codes - числа [0, ..., k], k - количество уникальных категорий


pd.Series(['213', 1, np.nan, pd.NA]).astype('category').values  # .cat.codes





X = pd.DataFrame({'animal_type': ['human', 'zebra', 'dog'], 'leg_count': [2, 4, 4]})
display(X)


class FeatureEngineering:
    def __call__(self, X, **kwargs):
        pass  # something is done here, irrelevant
        X.animal_type = X.animal_type.astype('category')
        pass  # unimportant
        return X


feature_eng = FeatureEngineering()
X = feature_eng(X)
X.info()
print()
pd.DataFrame({'value': X.animal_type.astype('string'), 'category': X.animal_type.cat.codes.astype('string')})





X_test = pd.DataFrame({'animal_type': ['dog', 'dog', 'cat', 'human']})
X_test = feature_eng(X_test, mode='test')

pd.DataFrame({'value': X_test.animal_type.astype('string'), 'category': X_test.animal_type.cat.codes.astype('string')})





# ОТВЕТ
class FeatureEngineering:
    def __init__(self):
        self.cat = None

    def __call__(self, X, mode='train'):
        pass  # something is done here, irrelevant
        if mode == 'train':
            X['animal_type'] = X['animal_type'].astype('category')
            self.cat = X['animal_type'].dtype
        elif mode == 'test':
            X['animal_type'] = X['animal_type'].astype(self.cat)
        pass  # unimportant
        return X





dt_series = pd.Series(['2028-01-03', '2028-01-12 13:47:00'])
dt_series


dt_series = pd.to_datetime(dt_series, format='mixed')  # читайте документацию по аргументу format!
dt_series


dt_series.dt.day
dt_series.dt.dayofweek
dt_series.dt.hour
dt_series.dt.round('1h')


dt_series[0]


pd.to_datetime('now')





some_timedelta = dt_series[0] - dt_series[1]
some_timedelta


timedelta_series = dt_series - pd.to_datetime(['2023-01-01'] * 2)
timedelta_series


pd.to_datetime('20240101 235959') - pd.to_timedelta('1h')  # отнять один час


timedelta_series.dt.total_seconds()
timedelta_series.dt.days











# ЧЕРЕЗ .loc / .iloc
df.loc[(df.Age < 12) | (df.Age.isnull()), 'Age']  # Series
df.loc[(df.Age < 12) | (df.Age.isnull()), ['Age']]  # DataFrame
df.loc[(df.Age < 12) | (df.Age.isnull()), ['Age', 'Pclass']]  # DataFrame
df.loc[(df.Age < 12) | (df.Age.isnull())]  # DataFrame со всеми колонками
df[(df.Age < 12) | (df.Age.isnull())]  # то же, что выше, но короче
df.loc[:, ['Age', 'Pclass']]  # ~ df[['Age', 'Pclass']]
df.loc[df.Age.isnull(), 'Age'] = 35  # присваивание
df.iloc[13:113, [2, 3]]


# ЧЕРЕЗ .query
# Если можно выразить ваше желание через .query, используйте .query!

max_age = 12
df.query('Age < @max_age or Age.isnull()') # DataFrame
df.query('Name.str.contains("John")').Name.head(3) # Series








numeric_series = pd.Series([1, 10, 20, np.nan])
numeric_series





numeric_series.apply(lambda x: x ** 2 if x > 5 else np.nan) # поэлементно
numeric_series.apply('sum') # ко всей серии





numeric_series.agg(['mean', 'sum', lambda x: x.sum()])





numeric_series.map({1.: 120, np.nan: 32})
numeric_series.map(lambda x: x + 1)





def my_func(input_series: pd.Series):
    tmp_series = pd.Series(np.arange(input_series.shape[0]))
    return input_series + tmp_series

numeric_series.transform(my_func)





some_series = pd.Series(np.random.choiced872de([*'ABCD'], size=1000, p=[0.1, 0.2, 0.3, 0.4]))
some_series.value_counts()


some_series.value_counts(dropna=True, normalize=True, bins=None)





some_series = pd.Series(np.random.normal(size=1000))
some_series.plot(kind='hist', bins=33)


some_series.plot.hist(bins=33)











display(df.head(3))
df.Pclass.value_counts()





# SeriesGroupBy object
(
    df
    .groupby('Pclass', observed=False)['Age']  # SeriesGroupBy object
    .apply(np.mean)  # Function application
)


# SeriesGroupBy object
(
    df
    .groupby('Pclass', observed=False)['Age']  # SeriesGroupBy object
    .transform(lambda x: x.mean())  # Function application
)


def fun(**kwargs):
    print(kwargs)

fun(a=10, b=20)



# # DataFrameGroupBy object
(
    df
    .groupby('Pclass', observed=False)  # DataFrameGroupBy object
    .agg(
        # Function application with NamedAgg
        mean_age=pd.NamedAgg(column='Age', aggfunc='mean'),
        median_fare=pd.NamedAgg(column='Fare', aggfunc=lambda x: x.median())
    )
    .reset_index()
)








t = pd.DataFrame({'some_lists': [[1], [1,2], None, 'sadasd', 1]})
t


# t.to_parquet('tmp.parquet')
# pd.read_parquet('tmp.parquet')








df.drop(columns='new_col_3').head(20).style.background_gradient()





import matplotlib as mpl
import matplotlib.pyplot as plt
import seaborn as sns


print(mpl.__name__, mpl.__version__)
print(sns.__name__, sns.__version__)


ttn_global = pd.read_csv('titanic_train.csv')
ttn_global.info()








plt.plot(np.arange(10) ** 2)
plt.show()





fig, ax = plt.subplots()
ax.plot(np.arange(10) ** 2)
plt.show()








n = 100
array_for_lines = np.arange(10) ** 2
std_for_lines = np.random.randint(10, 40) + 3 * np.random.normal(size=10)
data_for_scatter = np.random.randint(low=0, high=11, size=n) + np.random.normal(size=n), np.random.normal(size=n)
data_for_bar = np.arange(7), np.random.randint(low=10, high=100, size=7)

fig, ax = plt.subplots(3, 2)
ax[0, 0].plot(array_for_lines, marker='o')
ax[0, 0].set_title('ax.plot', fontsize=15)
ax[0, 0].set_ylabel('x ** 2', fontsize=15)


ax[0, 1].scatter(*data_for_scatter)
ax[0, 1].set_title('ax.scatter', fontsize=15)

ax[1, 0].bar(*data_for_bar)
ax[1, 0].set_title('ax.bar', fontsize=15)

ax[1, 1].plot(array_for_lines)
ax[1, 1].fill_between(np.arange(10), y1=array_for_lines + std_for_lines, y2=array_for_lines - std_for_lines, alpha=0.5)
ax[1, 1].set_title('ax.fill_between', fontsize=15)

ax[2, 0].hist(ttn_global[ttn_global.Sex == 'female'].Age, bins=25, alpha=0.5, label='female')
ax[2, 0].hist(ttn_global[ttn_global.Sex == 'male'].Age, bins=25, alpha=0.5, label='male')
ax[2, 0].set_title('ax.hist', fontsize=15)
ax[2, 0].legend(fontsize=15)
ax[2, 0].tick_params(axis='both', labelsize=20)

data_for_boxplot = [ttn_global[ttn_global.Sex == 'female'].Fare.dropna(),
                    ttn_global[ttn_global.Sex == 'male'].Fare.dropna()]
ax[2, 1].boxplot(data_for_boxplot, tick_labels=['female', 'male'])
ax[2, 1].set_title('ax.boxplot', fontsize=15)
ax[2, 1].tick_params(axis='x', labelsize=20)

fig.suptitle('plot_types (made with plt.subplots)', fontsize=20)
fig.set_size_inches(15, 10)
fig.tight_layout()

plt.show()





mosaic = [
['plot', 'plot', 'scatter'],
['bar', '.', 'scatter'],
]
fig, ax = plt.subplot_mosaic(mosaic=mosaic)

ax['plot'].plot(array_for_lines, marker='o')
ax['plot'].set_title('ax.plot', fontsize=15)
ax['plot'].set_ylabel('x ** 2', fontsize=15)


ax['scatter'].scatter(*data_for_scatter)
ax['scatter'].set_title('ax.scatter', fontsize=15)

ax['bar'].bar(*data_for_bar)
ax['bar'].set_title('ax.bar', fontsize=15)

fig.suptitle('plot_types (made with plt.subplot_mosaic)', fontsize=20)
fig.set_size_inches(15, 6)
fig.tight_layout()

plt.show()

















from matplotlib import colormaps
from IPython.display import display

for cm in colormaps:
    print(display(colormaps[cm]))








import matplotlib as mpl

mpl.rcParams


mpl.rcParams['lines.linewidth'] = 2
mpl.rcParams['lines.linestyle'] = '--'

plt.plot([1, 2, 8])
plt.title('My amazing line')
plt.xlabel('Order')
plt.ylabel('Warder')
plt.show()


SMALL_SIZE = 12
MEDIUM_SIZE = 13
BIGGER_SIZE = 15

plt.rc('font', size=SMALL_SIZE)
plt.rc('axes', titlesize=BIGGER_SIZE, labelsize=MEDIUM_SIZE)
plt.rc('xtick', labelsize=SMALL_SIZE)
plt.rc('ytick', labelsize=SMALL_SIZE)
plt.rc('legend', fontsize=MEDIUM_SIZE)
plt.rc('figure', titlesize=BIGGER_SIZE)
plt.rc('axes.spines', top=False)
plt.rc('axes.spines', right=False)


plt.plot([1, 2, 8])
plt.title('My amazing line')
plt.xlabel('Order')
plt.ylabel('Warder')
plt.show()


plt.rcdefaults()


plt.plot([1, 2, 8])
plt.title('My amazing line')
plt.xlabel('Order')
plt.ylabel('Warder')
plt.show()





# пример из доки
fig, ax = plt.subplots()
fig.subplots_adjust(right=0.75)

twin1 = ax.twinx()
twin2 = ax.twinx()

# Offset the right spine of twin2.  The ticks and label have already been
# placed on the right by twinx above.
twin2.spines.right.set_position(("axes", 1.2))

p1, = ax.plot([0, 1, 2], [0, 1, 2], "C0", label="Density")
p2, = twin1.plot([0, 1, 2], [0, 3, 2], "C1", label="Temperature")
p3, = twin2.plot([0, 1, 2], [50, 30, 15], "C2", label="Velocity")

ax.set(xlim=(0, 2), ylim=(0, 2), xlabel="Distance", ylabel="Density")
twin1.set(ylim=(0, 4), ylabel="Temperature")
twin2.set(ylim=(1, 65), ylabel="Velocity")

ax.yaxis.label.set_color(p1.get_color())
twin1.yaxis.label.set_color(p2.get_color())
twin2.yaxis.label.set_color(p3.get_color())

ax.tick_params(axis='y', colors=p1.get_color())
twin1.tick_params(axis='y', colors=p2.get_color())
twin2.tick_params(axis='y', colors=p3.get_color())

ax.legend(handles=[p1, p2, p3])

plt.show()








import warnings
warnings.filterwarnings('ignore')





# scatterplot

fig, ax = plt.subplot_mosaic('abc')
ax['a'].scatter(*data_for_scatter)
ax['a'].set_title('ax.scatter', fontsize=15)

sns.scatterplot(x=data_for_scatter[0], y=data_for_scatter[1], ax=ax['b'])
ax['b'].set_title('sns.scatterplot', fontsize=15)

plot = sns.scatterplot(data=ttn_global, x='Age', y='Fare', hue='Sex', ax=ax['c'])
plot.legend(bbox_to_anchor=(1.4, 1)) # подвинуть легенду: по оси Х на 40% правее гранциы, по оси Y оставить на верхней границе
ax['c'].set_title('sns.scatterplot + pandas = <3', fontsize=15)

fig.set_size_inches(15, 4)

plt.show()

# lineplot

fig, ax = plt.subplot_mosaic('abc')
ax['a'].plot(array_for_lines)
ax['a'].set_title('ax.plot', fontsize=15)

sns.lineplot(x=np.arange(10), y=array_for_lines, ax=ax['b'], n_boot=0, errorbar=None)
ax['b'].set_title('sns.lineplot', fontsize=15)

data_dots = sns.load_dataset('dots')
sns.lineplot(data=data_dots, x='time', y='firing_rate',
            hue='align', ax=ax['c'], n_boot=0, errorbar=None)
ax['c'].set_title('sns.lineplot + pandas = <3', fontsize=15)
ax['c'].tick_params(axis='both', labelsize=15)
ax['c'].legend(fontsize=15)

fig.set_size_inches(15, 5)

plt.show()


data_dots.head()


facetGrid = sns.relplot(
    data=data_dots, x='time', y='firing_rate',
    hue='coherence', errorbar=None,
    kind='line', col='align',
)

# cur_ax = facetGrid.axes[0, 0]
# cur_ax.set_title(cur_ax.get_title(), fontsize=15)
# cur_ax = facetGrid.axes[0, 1]
# cur_ax.set_title(cur_ax.get_title(), fontsize=15)

plt.gcf().suptitle('sns.relplot', fontsize=15)
plt.gcf().set_size_inches(12, 6)





fig, ax = plt.subplot_mosaic('abc')
ax['a'].hist(ttn_global[ttn_global.Sex == 'male'].Age, bins=25, alpha=0.5, label='male')
ax['a'].hist(ttn_global[ttn_global.Sex == 'female'].Age, bins=25, alpha=0.5, label='female')
ax['a'].set_title('ax.hist', fontsize=15)
ax['a'].legend(fontsize=15)
ax['a'].tick_params(axis='both', labelsize=20)

sns.histplot(data=ttn_global, x='Age', hue='Sex', linewidth=0, alpha=0.5, ax=ax['b'])
ax['b'].set_title('sns.histplot', fontsize=15)
ax['b'].tick_params(axis='both', labelsize=20)
ax['b'].set_xlabel(ax['b'].get_xlabel(), fontsize=15)

sns.kdeplot(data=ttn_global, x='Age', hue='Sex', ax=ax['c'])
sns.rugplot(data=ttn_global, x='Age', hue='Sex', ax=ax['c'], height=-0.05, clip_on=False)
ax['c'].set_title('sns.kdeplot + sns.rugplot', fontsize=15)
ax['c'].tick_params(axis='x', pad=20)
ax['c'].set_xlabel('')
ax['c'].set_ylabel('')
ax['c'].set_ylim(0, 0.025)

fig.set_size_inches(15, 5)
fig.tight_layout()

plt.show()





mosaic = [['a', 'b'], ['c', 'd']]

fig, ax = plt.subplot_mosaic(mosaic)
sns.boxplot(data=ttn_global, y='Age', x='Sex', hue='Sex', ax=ax['a'])
sns.stripplot(data=ttn_global.groupby('Sex').sample(200), y='Age', x='Sex', ax=ax['a'], color='black', size=4)
ax['a'].set_title('sns.boxplot + sns.stripplot', fontsize=15)
ax['a'].tick_params(axis='both', labelsize=10)
ax['a'].set_xlabel(ax['a'].get_xlabel(), fontsize=10)
ax['a'].set_ylabel(ax['a'].get_ylabel(), fontsize=10)

sns.boxplot(data=ttn_global, y='Age', x='Sex', hue='Sex', hue_order=['female', 'male'], ax=ax['b'])  # изменен порядок покраски - hue_order
sns.swarmplot(data=ttn_global.groupby('Sex').sample(200), y='Age', x='Sex', ax=ax['b'], color='black', size=4)
ax['b'].set_title('sns.boxplot + sns.swarmplot', fontsize=15)


sns.boxenplot(data=ttn_global, y='Age', x='Sex', ax=ax['c'])
ax['c'].set_title('sns.boxenplot', fontsize=15)

sns.countplot(data=ttn_global, x='Pclass', hue='Sex', ax=ax['d'], legend='brief')
ax['d'].set_title('sns.countplot', fontsize=15)
ax['d'].legend(fontsize=15)

fig.set_size_inches(10, 10)
fig.tight_layout()

plt.show()





correlations = ttn_global.select_dtypes(np.number).corr()
correlations


sns.heatmap(correlations, center=0, cmap='PuOr', vmin=-1, vmax=1) # используйте diverging colormaps для corr-heatmaps








from sklearn.datasets import make_blobs

df, _ = make_blobs(n_samples=int(3e6), n_features=2)
df = pd.DataFrame(df, columns=['feature_1', 'feature_2'])
df['time'] = np.arange(df.shape[0])
df['cat_feature'] = np.random.randint(0, 8, df.shape[0])
df['target'] = np.random.randint(0, 2, df.shape[0])

df.head()


from functools import partial
from time import time as tm
from collections import defaultdict

mpl.rcParams['agg.path.chunksize'] = 10000

import warnings
warnings.filterwarnings('ignore')

sizes = [100, 200, 500, 1000, 2000, 5000, 10000, 20000, 50000, 100000, 200000, 500000, 1000000]
plot_list = [
             partial(sns.histplot, x='feature_1'),
             partial(sns.histplot, x='feature_1', kde=True),
             partial(sns.kdeplot, x='feature_1'),
             partial(sns.rugplot, x='feature_1'),
             partial(sns.swarmplot, x='feature_1', hue='target'),
             partial(sns.stripplot, x='feature_1', hue='target'),
             partial(sns.boxplot, x='feature_1', hue='target'),
             partial(sns.boxenplot, x='feature_1', hue='target')
]
plot_names = [
             'sns.histplot',
             'sns.histplot + kde',
             'sns.kdeplot',
             'sns.rugplot',
             'sns.swarmplot',
             'sns.stripplot',
             'sns.boxplot',
             'sns.boxenplot',
]
plots = zip(plot_names, plot_list)
grp = df.groupby('target')

res = defaultdict(list)
std = defaultdict(list)
limits = defaultdict(lambda:100)
limits['sns.swarmplot'] = 5

for name, plot in plots:
    print(name)
    fig, ax = plt.subplots(1, 3)
    for ax_num, size in enumerate(sizes[:limits[name]]):
        data = grp.sample(size)
        plt.subplot(1, 3, ax_num % 3 + 1)
        plt.gca().set_title(f'size: {size}')
        actual_time = get_ipython().run_line_magic("timeit", " -n1 -r1 -o -q plot(data=data)")
        if ax_num % 3 == 2:
            fig.set_size_inches(9, 3)
            fig.tight_layout()
            plt.show()
            fig, ax = plt.subplots(1, 3)

        # print(name, size, actual_time.average)
        res[name].append(actual_time.average)
        std[name].append(actual_time.stdev)

    fig.set_size_inches(9, 3)
    fig.tight_layout()
    plt.show()
#     print(show_time)


for i, name in enumerate(res):
    plt.plot(sizes[:limits[name]], res[name], label=name)
#     plt.fill_between(sizes[:limits[name]],
#                      np.array(res[name]) + np.array(std[name]),
#                      np.array(res[name]) - np.array(std[name]),
#                      alpha=.5, linewidth=0)

    plt.xlabel('size', fontsize=15)
    plt.ylabel('seconds', fontsize=15)
    move_names = ('sns.kdeplot', 'sns.histplot')
    modifier = 0 if name not in move_names else -840000

    plt.annotate(name + f' {round(res[name][-1], 3)}', xy=(sizes[:limits[name]][-1] + modifier, res[name][-1]),
                 fontsize=20)

plt.xscale('log')
plt.yscale('log')
plt.xticks(fontsize=15)
plt.yticks(fontsize=15)
plt.legend(fontsize=15)

plt.gcf().set_size_inches(20, 12)
sns.despine()

plt.show()





from seaborn import color_palette

color_palette('pastel')



color_palette('pastel', n_colors=30) # повторяются цвета


color_palette('Spectral', as_cmap=True) # as_cmap - непрерывная схема


color_palette('Spectral', n_colors=30) # родная палитра - всегда ограниченное кол-во цветов


color_palette([f'C{i}' for i in range(10)])


color_palette('light:C3', n_colors=10)


color_palette('dark:C4_r', n_colors=10)


color_palette('blend:white,C3', n_colors=10)


color_palette('blend:C4,black', n_colors=10)


color_palette('blend:black,#ffcd00,#fafafa', n_colors=10)
