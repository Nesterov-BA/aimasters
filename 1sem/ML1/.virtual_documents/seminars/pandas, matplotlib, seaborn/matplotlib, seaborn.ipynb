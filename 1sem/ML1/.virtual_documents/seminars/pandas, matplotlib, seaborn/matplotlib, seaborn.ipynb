# !pip install -q --upgrade matplotlib seaborn


import numpy as np, pandas as pd
import matplotlib, seaborn as sns

for lib in (matplotlib, sns):
    print(lib.__name__, lib.__version__)


ttn_global = pd.read_csv('titanic/train.csv')
ttn_global.info()











import matplotlib.pyplot as plt

plt.plot(np.arange(10) ** 2)
plt.show()





fig, ax = plt.subplots()
ax.plot(np.arange(10) ** 2)
plt.show()








n = 100
array_for_lines = np.arange(10) ** 2
std_for_lines = np.random.randint(10, 40) + 3 * np.random.normal(size=10)
data_for_scatter = np.random.randint(low=0, high=11, size=n) + np.random.normal(size=n), np.random.normal(size=n)
data_for_bar = np.arange(7), np.random.randint(low=10, high=100, size=7)

fig, ax = plt.subplots(3, 2)
ax[0, 0].plot(array_for_lines, marker='o')
ax[0, 0].set_title('ax.plot', fontsize=15)
ax[0, 0].set_ylabel('x ** 2', fontsize=15)


ax[0, 1].scatter(*data_for_scatter)
ax[0, 1].set_title('ax.scatter', fontsize=15)

ax[1, 0].bar(*data_for_bar)
ax[1, 0].set_title('ax.bar', fontsize=15)

ax[1, 1].plot(array_for_lines)
ax[1, 1].fill_between(np.arange(10), y1=array_for_lines + std_for_lines, y2=array_for_lines - std_for_lines, alpha=0.5)
ax[1, 1].set_title('ax.fill_between', fontsize=15)

ax[2, 0].hist(ttn_global[ttn_global.Sex == 'female'].Age, bins=25, alpha=0.5, label='female')
ax[2, 0].hist(ttn_global[ttn_global.Sex == 'male'].Age, bins=25, alpha=0.5, label='male')
ax[2, 0].set_title('ax.hist', fontsize=15)
ax[2, 0].legend(fontsize=15)
ax[2, 0].tick_params(axis='both', labelsize=20)

data_for_boxplot = [ttn_global[ttn_global.Sex == 'female'].Fare.dropna(),
                    ttn_global[ttn_global.Sex == 'male'].Fare.dropna()]
ax[2, 1].boxplot(data_for_boxplot, tick_labels=['female', 'male'])
ax[2, 1].set_title('ax.boxplot', fontsize=15)
ax[2, 1].tick_params(axis='x', labelsize=20)

fig.suptitle('plot_types (made with plt.subplots)', fontsize=20)
fig.set_size_inches(15, 10)
fig.tight_layout()

plt.show()





mosaic = [
['plot', 'plot', 'scatter'],
['bar', '.', 'scatter'],
]
fig, ax = plt.subplot_mosaic(mosaic=mosaic)

ax['plot'].plot(array_for_lines, marker='o')
ax['plot'].set_title('ax.plot', fontsize=15)
ax['plot'].set_ylabel('x ** 2', fontsize=15)


ax['scatter'].scatter(*data_for_scatter)
ax['scatter'].set_title('ax.scatter', fontsize=15)

ax['bar'].bar(*data_for_bar)
ax['bar'].set_title('ax.bar', fontsize=15)

fig.suptitle('plot_types (made with plt.subplot_mosaic)', fontsize=20)
fig.set_size_inches(15, 6)
fig.tight_layout()

plt.show()




















from matplotlib import colormaps
from IPython.display import display

for cm in colormaps:
    print(display(colormaps[cm]))








import matplotlib as mpl

mpl.rcParams


mpl.rcParams['lines.linewidth'] = 2
mpl.rcParams['lines.linestyle'] = '--'
_ = plt.plot([1,2,8])








# пример из доки
fig, ax = plt.subplots()
fig.subplots_adjust(right=0.75)

twin1 = ax.twinx()
twin2 = ax.twinx()

# Offset the right spine of twin2.  The ticks and label have already been
# placed on the right by twinx above.
twin2.spines.right.set_position(("axes", 1.2))

p1, = ax.plot([0, 1, 2], [0, 1, 2], "C0", label="Density")
p2, = twin1.plot([0, 1, 2], [0, 3, 2], "C1", label="Temperature")
p3, = twin2.plot([0, 1, 2], [50, 30, 15], "C2", label="Velocity")

ax.set(xlim=(0, 2), ylim=(0, 2), xlabel="Distance", ylabel="Density")
twin1.set(ylim=(0, 4), ylabel="Temperature")
twin2.set(ylim=(1, 65), ylabel="Velocity")

ax.yaxis.label.set_color(p1.get_color())
twin1.yaxis.label.set_color(p2.get_color())
twin2.yaxis.label.set_color(p3.get_color())

ax.tick_params(axis='y', colors=p1.get_color())
twin1.tick_params(axis='y', colors=p2.get_color())
twin2.tick_params(axis='y', colors=p3.get_color())

ax.legend(handles=[p1, p2, p3])

plt.show()














import warnings
warnings.filterwarnings('ignore')





# scatterplot

fig, ax = plt.subplot_mosaic('abc')
ax['a'].scatter(*data_for_scatter)
ax['a'].set_title('ax.scatter', fontsize=15)

sns.scatterplot(x=data_for_scatter[0], y=data_for_scatter[1], ax=ax['b'])
ax['b'].set_title('sns.scatterplot', fontsize=15)

plot = sns.scatterplot(data=ttn_global, x='Age', y='Fare', hue='Sex', ax=ax['c'])
plot.legend(bbox_to_anchor=(1.4, 1)) # подвинуть легенду: по оси Х на 40% правее гранциы, по оси Y оставить на верхней границе
ax['c'].set_title('sns.scatterplot + pandas = <3', fontsize=15)

fig.set_size_inches(15, 5)

plt.show()

# lineplot

fig, ax = plt.subplot_mosaic('abc')
ax['a'].plot(array_for_lines)
ax['a'].set_title('ax.plot', fontsize=15)

sns.lineplot(x=np.arange(10), y=array_for_lines, ax=ax['b'], n_boot=0, errorbar=None)
ax['b'].set_title('sns.lineplot', fontsize=15)

data_dots = sns.load_dataset('dots')
sns.lineplot(data=data_dots, x='time', y='firing_rate',
            hue='align', ax=ax['c'], n_boot=0, errorbar=None)
ax['c'].set_title('sns.lineplot + pandas = <3', fontsize=15)
ax['c'].tick_params(axis='both', labelsize=15)
ax['c'].legend(fontsize=15)

fig.set_size_inches(15, 5)

plt.show()





data_dots.head()


facetGrid = sns.relplot(data=data_dots, x='time', y='firing_rate',
            hue='coherence', errorbar=None,
           kind='line', col='align')

# cur_ax = facetGrid.axes[0, 0]
# cur_ax.set_title(cur_ax.get_title(), fontsize=15)
# cur_ax = facetGrid.axes[0, 1]
# cur_ax.set_title(cur_ax.get_title(), fontsize=15)

plt.gcf().suptitle('sns.relplot', fontsize=15)
plt.gcf().set_size_inches(12, 6)





fig, ax = plt.subplot_mosaic('abc')
ax['a'].hist(ttn_global[ttn_global.Sex == 'male'].Age, bins=25, alpha=0.5, label='male')
ax['a'].hist(ttn_global[ttn_global.Sex == 'female'].Age, bins=25, alpha=0.5, label='female')
ax['a'].set_title('ax.hist', fontsize=15)
ax['a'].legend(fontsize=15)
ax['a'].tick_params(axis='both', labelsize=20)

sns.histplot(data=ttn_global, x='Age', hue='Sex', linewidth=0, alpha=0.5, ax=ax['b'])
ax['b'].set_title('sns.histplot', fontsize=15)
ax['b'].tick_params(axis='both', labelsize=20)
ax['b'].set_xlabel(ax['b'].get_xlabel(), fontsize=15)

sns.kdeplot(data=ttn_global, x='Age', hue='Sex', ax=ax['c'])
sns.rugplot(data=ttn_global, x='Age', hue='Sex', ax=ax['c'], height=-0.05, clip_on=False)
ax['c'].set_title('sns.kdeplot + sns.rugplot', fontsize=15)
ax['c'].tick_params(axis='x', pad=20)
ax['c'].set_xlabel('')
ax['c'].set_ylabel('')
ax['c'].set_ylim(0, 0.025)

fig.set_size_inches(15, 5)
fig.tight_layout()

plt.show()





mosaic = '''
ab
cd
'''

fig, ax = plt.subplot_mosaic(mosaic)
sns.boxplot(data=ttn_global, y='Age', x='Sex', hue='Sex', ax=ax['a'])
sns.stripplot(data=ttn_global.groupby('Sex').sample(200), y='Age', x='Sex', ax=ax['a'], color='black', size=4)
ax['a'].set_title('sns.boxplot + sns.stripplot', fontsize=15)
ax['a'].tick_params(axis='both', labelsize=20)
ax['a'].set_xlabel(ax['a'].get_xlabel(), fontsize=15)
ax['a'].set_ylabel(ax['a'].get_ylabel(), fontsize=15)

sns.boxplot(data=ttn_global, y='Age', x='Sex', hue='Sex', hue_order=['female', 'male'], ax=ax['b']) # поменял порядок покраски - hue_order
sns.swarmplot(data=ttn_global.groupby('Sex').sample(200), y='Age', x='Sex', ax=ax['b'], color='black', size=4)
ax['b'].set_title('sns.boxplot + sns.swarmplot', fontsize=15)


sns.boxenplot(data=ttn_global, y='Age', x='Sex', ax=ax['c'])
ax['c'].set_title('sns.boxenplot', fontsize=15)

sns.countplot(data=ttn_global, x='Pclass', hue='Sex', ax=ax['d'], legend='brief')
ax['d'].set_title('sns.countplot', fontsize=15)
ax['d'].legend(fontsize=15)

fig.set_size_inches(10, 10)
fig.tight_layout()

plt.show()








correlations = ttn_global.select_dtypes(np.number).corr()
correlations


sns.heatmap(correlations, center=0, cmap='PuOr', vmin=-1, vmax=1) # используйте diverging colormaps для corr-heatmaps








from sklearn.datasets import make_blobs

df, _ = make_blobs(n_samples=int(3e6), n_features=2)
df = pd.DataFrame(df, columns=['feature_1', 'feature_2'])
df['time'] = np.arange(df.shape[0])
df['cat_feature'] = np.random.randint(0, 8, df.shape[0])
df['target'] = np.random.randint(0, 2, df.shape[0])

df.head()


from functools import partial
from time import time as tm
from collections import defaultdict
import matplotlib.pyplot as plt

matplotlib.rcParams['agg.path.chunksize'] = 10000

import warnings
warnings.filterwarnings('ignore')

sizes = [100, 200, 500, 1000, 2000, 5000, 10000, 20000, 50000, 100000, 200000, 500000, 1000000]
plot_list = [
             partial(sns.histplot, x='feature_1'),
             partial(sns.histplot, x='feature_1', kde=True),
             partial(sns.kdeplot, x='feature_1'),
             partial(sns.rugplot, x='feature_1'),
             partial(sns.swarmplot, x='feature_1', hue='target'),
             partial(sns.stripplot, x='feature_1', hue='target'),
             partial(sns.boxplot, x='feature_1', hue='target'),
             partial(sns.boxenplot, x='feature_1', hue='target')
]
plot_names = [
             'sns.histplot',
             'sns.histplot + kde',
             'sns.kdeplot',
             'sns.rugplot',
             'sns.swarmplot',
             'sns.stripplot',
             'sns.boxplot',
             'sns.boxenplot',
]
plots = zip(plot_names, plot_list)
grp = df.groupby('target')

res = defaultdict(list)
std = defaultdict(list)
limits = defaultdict(lambda:100)
limits['sns.swarmplot'] = 5

for name, plot in plots:
    print(name)
    fig, ax = plt.subplots(1, 3)
    for ax_num, size in enumerate(sizes[:limits[name]]):
        data = grp.sample(size)
        plt.subplot(1, 3, ax_num % 3 + 1)
        plt.gca().set_title(f'size: {size}')
        actual_time = get_ipython().run_line_magic("timeit", " -n1 -r1 -o -q plot(data=data)")
        if ax_num % 3 == 2:
            fig.set_size_inches(15, 5)
            fig.tight_layout()
            plt.show()
            fig, ax = plt.subplots(1, 3)

        # print(name, size, actual_time.average)
        res[name].append(actual_time.average)
        std[name].append(actual_time.stdev)

    fig.set_size_inches(15, 5)
    fig.tight_layout()
    plt.show()
#     print(show_time)


for i, name in enumerate(res):
    plt.plot(sizes[:limits[name]], res[name], label=name)
#     plt.fill_between(sizes[:limits[name]],
#                      np.array(res[name]) + np.array(std[name]),
#                      np.array(res[name]) - np.array(std[name]),
#                      alpha=.5, linewidth=0)
    
    plt.xlabel('size', fontsize=15)
    plt.ylabel('seconds', fontsize=15)
    move_names = ('sns.kdeplot', 'sns.histplot')
    modifier = 0 if name not in move_names else -840000

    plt.annotate(name + f' {round(res[name][-1], 3)}', xy=(sizes[:limits[name]][-1] + modifier, res[name][-1]),
                 fontsize=20)
    
plt.xscale('log')
plt.yscale('log')
plt.xticks(fontsize=15)
plt.yticks(fontsize=15)
plt.legend(fontsize=15)

plt.gcf().set_size_inches(20, 12)
sns.despine()

plt.show()








from seaborn import color_palette

color_palette('pastel')


color_palette('pastel', n_colors=30) # повторяются цвета


color_palette('Spectral', as_cmap=True) # as_cmap - непрерывная схема


color_palette('Spectral', n_colors=30) # родная палитра - всегда ограниченное кол-во цветов






