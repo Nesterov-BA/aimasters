








import pandas as pd

df = pd.read_csv('titanic/train.csv')
df.Embarked.replace('Q', '', inplace=True)
df.PassengerId = df.PassengerId.astype('string')








def get_df_info(df, *args, **kwargs):
    '''
    docstring example:

    Выводит инфу о колонках датафрейма в виде датафрейма

    df: исходный датафрейм
    ...

    returns: pd.DataFrame с инфой

    '''
    
    cols = df.columns
    types = df.dtypes
    result = pd.DataFrame(types)
    result.rename(columns = {0:"dtype"})
    nunique = pd.DataFrame(df.nunique())
    print(result.columns)
    print(nunique)
    # result.merge(nunique)
    print(result)
    # your code here
    pass


# ваш пример
get_df_info(df)


# Это пример, не запускайте эту ячейку

# WARNING: пример не обязан соблюдать все пункты задания, но вы обязаны :)

get_df_info(df)








# !pip install --upgrade matplotlib seaborn





# Если у вас ошибка вида 'float64 has no attribute startswith', лучше переключитесь на matplotlib 3.6.0

# Сделать это можно, например, так, после чего перезапустить ядро ноутбука
# !pip install --upgrade matplotlib==3.6.0


import matplotlib as mpl

# настройка размера шрифта легенды
mpl.rcParams['legend.title_fontsize'] = 13
mpl.rcParams['legend.fontsize'] = 13


def plot_density(df, hue, cols=None, ...):
    '''
    Рисует распределения колонок cols

    cols: отрисовываемые колонки. Если None, то рисуем df.columns (кроме hue)

    ...

    '''
    # your code here
    pass

# или же в виде класса, если вам так удобнее


# ваш пример
# plot_denisty(df, hue='Survived', cols=df.columns)


# Это пример, не запускайте эту ячейку

# WARNING: пример не обязан соблюдать все пункты задания, но вы обязаны :)

plot_density(df, hue='Survived')








# ваш ответ
