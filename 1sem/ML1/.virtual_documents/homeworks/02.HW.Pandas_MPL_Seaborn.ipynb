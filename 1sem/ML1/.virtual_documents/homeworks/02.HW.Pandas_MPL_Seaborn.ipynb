


import numpy as np
import pandas as pd
import matplotlib
from matplotlib import pyplot as plt
import seaborn as sns
from IPython.display import display




# recommended: add your own rcparams here








get_ipython().getoutput("wget https://data.bioml.ru/htdocs/courses/python/datasci/pandas/data/winemag-data-130k-noreview-v2.csv -O winemag-data-noreview.csv")


df = pd.read_csv("winemag-data-noreview.csv")


display(df.columns)
print(df.index[-1])








fig, ax = plt.subplots()

sample = df.sample(20000)
ax.set_yscale("log")
# ax.set_xticks(ticks = [80,100])
ax.set_xlabel("Wine rating")
ax.set_ylabel("Price (USD)")
ax = sns.stripplot(data = sample, x="points", y="price", alpha = 0.2, jitter = 0.3, size = 4)
plt.show()








spanish_wines = df[df["country"] == "Spain"]
graph = sns.FacetGrid(spanish_wines, row='province', height=1, aspect=6)
graph.map(sns.kdeplot, "points", fill=True, color="Orange")
graph.set(yticks=[], ylabel="")


gr = sns.displot(df[df['country'] == "Italy"], x = "points", hue = "province", kind="kde", multiple = "stack", row = "province", height = 1, aspect = 6, common_norm = True)
gr.set_ylabels("{2")
gr.set_titles("{row_name}")



























































get_ipython().getoutput("wget https://data.bioml.ru/htdocs/courses/python/datasci/pandas/data/titanic_train.csv -O titanic_train.csv")


import pandas as pd

df = pd.read_csv('titanic_train.csv')
df['Embarked'] = df['Embarked'].replace('Q', '')
df['PassengerId'] = df['PassengerId'].astype('string')


def get_df_info(df, *args, **kwargs):
    '''
    docstring example:

    Выводит инфу о колонках датафрейма в виде датафрейма

    df: исходный датафрейм
    ...

    returns: pd.DataFrame с инфой

    '''
    # your code here
    pass


# ваш пример
get_df_info(df)


# Это пример, не запускайте эту ячейку

# WARNING: пример не обязан соблюдать все пункты задания, но вы обязаны :)

get_df_info(df)






