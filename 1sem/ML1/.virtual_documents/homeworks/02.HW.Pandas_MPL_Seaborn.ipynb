


import numpy as np
import pandas as pd
import matplotlib
from matplotlib import pyplot as plt
import seaborn as sns
from IPython.display import display




# recommended: add your own rcparams here








get_ipython().getoutput("wget https://data.bioml.ru/htdocs/courses/python/datasci/pandas/data/winemag-data-130k-noreview-v2.csv -O winemag-data-noreview.csv")


df = pd.read_csv("winemag-data-noreview.csv")


display(df.columns)
display(df.head(5))
print(df.index[-1])








# fig, ax = plt.subplots()

sample = df.sample(20000)
ax = sns.stripplot(data = sample, x="points", y="price", alpha = 0.2, jitter = 0.3, size = 4)
ax.set_yscale("log")
ax.set_xlabel("Wine rating")
ax.set_ylabel("Price (USD)")
ax.spines[['top', 'right']].set_visible(False)
# plt.show()








graph = sns.catplot(data = df[df['country'] == "Spain"], x = 'points', y='province', kind='violin', split = True, inner = 'quart', color = 'orange', cut = 0, aspect = 1.3)
graph.tick_params(axis='both', labelsize=13)
graph.set_ylabels("Province", fontsize = 17)
graph.set_xlabels("Rating", fontsize = 17)
graph.set_titles("Spanish wine")








dfcopy = df.copy()
under50df = dfcopy[dfcopy.price < 50]
dfcopy['under50'] = "Total"
under50df['under50'] = "Under 50$"
fulldf = pd.concat([dfcopy,under50df], ignore_index = True)
top10Countries = df.country.value_counts().index[0:10]
total = df.country.value_counts()[top10Countries]
under50 = df[df.price < 50].country.value_counts()[top10Countries]


fig, ax = plt.subplot_mosaic('ab')
graph1 = sns.countplot(data = fulldf, y = 'country', order = top10Countries, hue = 'under50', ax = ax['a'])
graph2 = sns.boxenplot(data = under50df, y = 'country', x = 'points', order = top10Countries, ax = ax['b'])
graph1.tick_params(axis='both', labelsize=13)
graph2.tick_params(axis='both', labelsize=13)
graph1.set_xlabel("Number of reviews", fontsize = 17)
graph1.set_ylabel("Country", fontsize = 17)
graph2.set_xlabel("Rating", fontsize = 17)
graph2.set_ylabel("")
graph1.set_title("Top 10 countries by number of wine reviews", fontsize=18)
ax['b'].get_yaxis().set_ticklabels([])
ax['b'].spines[['top', 'right']].set_visible(False)
ax['a'].spines[['top', 'right']].set_visible(False)
fig.set_size_inches(10, 6)
fig.tight_layout()
plt.show()























df['year'] =  pd.to_numeric(df['title'].str.extract(r'(\d{4})')[0])
portugal = df[df['country'] == 'Portugal']
spain = df[df['country'] == 'Spain']
portSpain = pd.concat([portugal,spain], ignore_index = True)
portSpain = portSpain[portSpain.year >= 1995]


fig, ax = plt.subplot_mosaic([['A', 'B'],
     ['C','D']])
sns.histplot(portSpain, x = 'points', hue = 'country', element='step', binwidth=1,binrange= [79.5,100.5], ax = ax['B'])
sns.histplot(portSpain, x = 'year', hue = 'country', element='step', binwidth=1,binrange= [1995.5,2016.5], ax = ax['A'], legend=False)
sns.stripplot(portSpain, x = 'year', y = 'price', hue = 'country', size = 2.5, dodge = True,ax=ax['C'], legend=False)
sns.histplot(portSpain, x = 'price', log_scale=True, hue='country', element='step', binwidth=0.05, ax = ax['D'], legend=False)
ax['C'].set_yscale("log")
ax['C'].set_xticks([0,5,10,15,20])
ax['C'].set_xticklabels([1995,2000,2005,2010,2015])
ax['A'].spines[['top', 'right']].set_visible(False)
ax['B'].spines[['top', 'right']].set_visible(False)
ax['C'].spines[['top', 'right']].set_visible(False)
ax['D'].spines[['top', 'right']].set_visible(False)

ax['A'].set_xlabel("Year", fontsize=15)
ax['B'].set_xlabel("Rating", fontsize=15)
ax['C'].set_xlabel("Year", fontsize=15)
ax['D'].set_xlabel("Price", fontsize=15)

ax['A'].set_ylabel("Count", fontsize=15)
ax['B'].set_ylabel("Count", fontsize=15)
ax['C'].set_ylabel("Price", fontsize=15)
ax['D'].set_ylabel("Count", fontsize=15)

ax['A'].set_title("Year distribution", fontsize = 17,loc= 'left')
ax['B'].set_title("Rating distribution", fontsize = 17,loc= 'left')
ax['C'].set_title("Year ~ price", fontsize = 17,loc= 'left')
ax['D'].set_title("Price distribution", fontsize = 17,loc= 'left')

ax['A'].tick_params(axis='both', labelsize=13)
ax['B'].tick_params(axis='both', labelsize=13)
ax['C'].tick_params(axis='both', labelsize=13)
ax['D'].tick_params(axis='both', labelsize=13)

fig.set_size_inches(12, 9)
fig.suptitle('Spain vs. Portugal: wine distributions', fontsize = 17)


























get_ipython().getoutput("wget https://data.bioml.ru/htdocs/courses/python/datasci/pandas/data/titanic_train.csv -O titanic_train.csv")


import pandas as pd

df = pd.read_csv('titanic_train.csv')
df['Embarked'] = df['Embarked'].replace('Q', '')
df['PassengerId'] = df['PassengerId'].astype('string')



def get_df_info(df, *args, **kwargs):
    '''
    docstring example:

    Выводит инфу о колонках датафрейма в виде датафрейма

    df: исходный датафрейм
    ...

    returns: pd.DataFrame с инфой

    '''
    result  = pd.DataFrame()
    #index
    result.index = df.columns
    #types
    result['dtype'] = df.dtypes
    #number of unique
    result['nunique'] = df.nunique()
    #exaples without nans
    dfNoNan = df.dropna()
    sample = dfNoNan.sample(2)
    example1, example2 = sample.iloc[0], sample.iloc[1]
    result['ex1'] = example1
    result['ex2'] = example2
    #nan amount
    nanAmount = df.isna().mean()
    nanAmount = nanAmount.replace(0.0,-1)
    nanAmount = np.trunc(1000*nanAmount)/1000
    result['nans'] = nanAmount
    #zeros amount
    zeroAmount = (df==0).mean()
    zeroAmount = zeroAmount.replace(0.0,-1)
    zeroAmount = np.trunc(1000*zeroAmount)/1000
    result['zeros'] = zeroAmount
    #empty strings
    emptyStrAmount = (df=="").mean()
    emptyStrAmount = emptyStrAmount.replace(0.0,-1)
    emptyStrAmount = np.trunc(1000*emptyStrAmount)/1000
    result['empty_str'] = emptyStrAmount
    #most common element
    result['col_mode'] = df.mode().iloc[0]
    #percentage of the most common element
    vcMax = (df==result['col_mode']).mean()
    result['vc_max'] = vcMax
    #trash score
    trashScore = result[['nans', 'zeros', 'empty_str']].max(axis=1)
    result['trash_score'] = trashScore
    # result['example1'] = 
    return result


# ваш пример
get_df_info(df)


# Это пример, не запускайте эту ячейку

# WARNING: пример не обязан соблюдать все пункты задания, но вы обязаны :)

get_df_info(df)






