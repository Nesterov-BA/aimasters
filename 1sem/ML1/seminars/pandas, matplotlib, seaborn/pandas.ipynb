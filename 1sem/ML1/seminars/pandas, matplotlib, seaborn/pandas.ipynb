{
 "cells": [
  {
   "cell_type": "code",
   "execution_count": 1,
   "id": "12143158",
   "metadata": {},
   "outputs": [],
   "source": [
    "# !pip install -q --upgrade numpy pyarrow pandas"
   ]
  },
  {
   "cell_type": "code",
   "execution_count": 2,
   "id": "f9c9210d",
   "metadata": {},
   "outputs": [
    {
     "name": "stdout",
     "output_type": "stream",
     "text": [
      "numpy 1.26.4\n",
      "pandas 2.2.2\n",
      "pyarrow 17.0.0\n"
     ]
    }
   ],
   "source": [
    "import numpy as np, pandas as pd, pyarrow\n",
    "\n",
    "for lib in (np, pd, pyarrow):\n",
    "    print(lib.__name__, lib.__version__)"
   ]
  },
  {
   "cell_type": "markdown",
   "id": "2b2e3439",
   "metadata": {
    "editable": true,
    "slideshow": {
     "slide_type": ""
    },
    "tags": []
   },
   "source": [
    "# pandas"
   ]
  },
  {
   "cell_type": "markdown",
   "id": "d32ce199",
   "metadata": {},
   "source": [
    "## План:\n",
    "- Ободряющие слова про документацию\n",
    "- pd.DataFrame\n",
    "- pd.Series\n",
    "- Типы данных, которые они хранят\n",
    "- subqueries\n",
    "- Что можно делать с pd.Series\n",
    "- Что можно делать с pd.DataFrame\n",
    "- General functions\n",
    "- *Style"
   ]
  },
  {
   "cell_type": "markdown",
   "id": "52b6ecae",
   "metadata": {},
   "source": [
    "## - pd.DataFrame"
   ]
  },
  {
   "cell_type": "code",
   "execution_count": 3,
   "id": "e588db82",
   "metadata": {},
   "outputs": [
    {
     "name": "stdout",
     "output_type": "stream",
     "text": [
      "<class 'pandas.core.frame.DataFrame'>\n",
      "RangeIndex: 891 entries, 0 to 890\n",
      "Data columns (total 12 columns):\n",
      " #   Column       Non-Null Count  Dtype  \n",
      "---  ------       --------------  -----  \n",
      " 0   PassengerId  891 non-null    int64  \n",
      " 1   Survived     891 non-null    int64  \n",
      " 2   Pclass       891 non-null    int64  \n",
      " 3   Name         891 non-null    object \n",
      " 4   Sex          891 non-null    object \n",
      " 5   Age          714 non-null    float64\n",
      " 6   SibSp        891 non-null    int64  \n",
      " 7   Parch        891 non-null    int64  \n",
      " 8   Ticket       891 non-null    object \n",
      " 9   Fare         891 non-null    float64\n",
      " 10  Cabin        204 non-null    object \n",
      " 11  Embarked     889 non-null    object \n",
      "dtypes: float64(2), int64(5), object(5)\n",
      "memory usage: 83.7+ KB\n"
     ]
    }
   ],
   "source": [
    "df = pd.read_csv('titanic/train.csv')\n",
    "# или df.read_parquet(...)\n",
    "df.info()"
   ]
  },
  {
   "attachments": {},
   "cell_type": "markdown",
   "id": "4b403307",
   "metadata": {},
   "source": [
    "<img src='https://media.geeksforgeeks.org/wp-content/cdn-uploads/creating_dataframe1.png' width=700>"
   ]
  },
  {
   "cell_type": "code",
   "execution_count": 4,
   "id": "c6869e3f",
   "metadata": {},
   "outputs": [
    {
     "data": {
      "text/html": [
       "<div>\n",
       "<style scoped>\n",
       "    .dataframe tbody tr th:only-of-type {\n",
       "        vertical-align: middle;\n",
       "    }\n",
       "\n",
       "    .dataframe tbody tr th {\n",
       "        vertical-align: top;\n",
       "    }\n",
       "\n",
       "    .dataframe thead th {\n",
       "        text-align: right;\n",
       "    }\n",
       "</style>\n",
       "<table border=\"1\" class=\"dataframe\">\n",
       "  <thead>\n",
       "    <tr style=\"text-align: right;\">\n",
       "      <th></th>\n",
       "      <th>PassengerId</th>\n",
       "      <th>Survived</th>\n",
       "      <th>Pclass</th>\n",
       "      <th>Name</th>\n",
       "      <th>Sex</th>\n",
       "      <th>Age</th>\n",
       "      <th>SibSp</th>\n",
       "      <th>Parch</th>\n",
       "      <th>Ticket</th>\n",
       "      <th>Fare</th>\n",
       "      <th>Cabin</th>\n",
       "      <th>Embarked</th>\n",
       "    </tr>\n",
       "  </thead>\n",
       "  <tbody>\n",
       "    <tr>\n",
       "      <th>0</th>\n",
       "      <td>1</td>\n",
       "      <td>0</td>\n",
       "      <td>3</td>\n",
       "      <td>Braund, Mr. Owen Harris</td>\n",
       "      <td>male</td>\n",
       "      <td>22.0</td>\n",
       "      <td>1</td>\n",
       "      <td>0</td>\n",
       "      <td>A/5 21171</td>\n",
       "      <td>7.2500</td>\n",
       "      <td>NaN</td>\n",
       "      <td>S</td>\n",
       "    </tr>\n",
       "    <tr>\n",
       "      <th>1</th>\n",
       "      <td>2</td>\n",
       "      <td>1</td>\n",
       "      <td>1</td>\n",
       "      <td>Cumings, Mrs. John Bradley (Florence Briggs Th...</td>\n",
       "      <td>female</td>\n",
       "      <td>38.0</td>\n",
       "      <td>1</td>\n",
       "      <td>0</td>\n",
       "      <td>PC 17599</td>\n",
       "      <td>71.2833</td>\n",
       "      <td>C85</td>\n",
       "      <td>C</td>\n",
       "    </tr>\n",
       "    <tr>\n",
       "      <th>2</th>\n",
       "      <td>3</td>\n",
       "      <td>1</td>\n",
       "      <td>3</td>\n",
       "      <td>Heikkinen, Miss. Laina</td>\n",
       "      <td>female</td>\n",
       "      <td>26.0</td>\n",
       "      <td>0</td>\n",
       "      <td>0</td>\n",
       "      <td>STON/O2. 3101282</td>\n",
       "      <td>7.9250</td>\n",
       "      <td>NaN</td>\n",
       "      <td>S</td>\n",
       "    </tr>\n",
       "  </tbody>\n",
       "</table>\n",
       "</div>"
      ],
      "text/plain": [
       "   PassengerId  Survived  Pclass  \\\n",
       "0            1         0       3   \n",
       "1            2         1       1   \n",
       "2            3         1       3   \n",
       "\n",
       "                                                Name     Sex   Age  SibSp  \\\n",
       "0                            Braund, Mr. Owen Harris    male  22.0      1   \n",
       "1  Cumings, Mrs. John Bradley (Florence Briggs Th...  female  38.0      1   \n",
       "2                             Heikkinen, Miss. Laina  female  26.0      0   \n",
       "\n",
       "   Parch            Ticket     Fare Cabin Embarked  \n",
       "0      0         A/5 21171   7.2500   NaN        S  \n",
       "1      0          PC 17599  71.2833   C85        C  \n",
       "2      0  STON/O2. 3101282   7.9250   NaN        S  "
      ]
     },
     "metadata": {},
     "output_type": "display_data"
    },
    {
     "name": "stdout",
     "output_type": "stream",
     "text": [
      "index object: RangeIndex(start=0, stop=891, step=1) \n",
      "\n",
      "columns object: Index(['PassengerId', 'Survived', 'Pclass', 'Name', 'Sex', 'Age', 'SibSp',\n",
      "       'Parch', 'Ticket', 'Fare', 'Cabin', 'Embarked'],\n",
      "      dtype='object') \n",
      "\n",
      "dataframe shape: (891, 12)\n"
     ]
    }
   ],
   "source": [
    "from IPython.display import display\n",
    "\n",
    "# pd.options.display.max_rows = 100\n",
    "# pd.options.display.max_columns = 20\n",
    "\n",
    "display(df.head(3))\n",
    "\n",
    "print('index object:', df.index, '\\n\\ncolumns object:', df.columns, '\\n\\ndataframe shape:', df.shape)"
   ]
  },
  {
   "cell_type": "markdown",
   "id": "a057d0fa",
   "metadata": {},
   "source": [
    "[`Index object`](https://pandas.pydata.org/docs/reference/indexing.html)"
   ]
  },
  {
   "cell_type": "code",
   "execution_count": 5,
   "id": "95864938",
   "metadata": {},
   "outputs": [
    {
     "data": {
      "text/html": [
       "<div>\n",
       "<style scoped>\n",
       "    .dataframe tbody tr th:only-of-type {\n",
       "        vertical-align: middle;\n",
       "    }\n",
       "\n",
       "    .dataframe tbody tr th {\n",
       "        vertical-align: top;\n",
       "    }\n",
       "\n",
       "    .dataframe thead th {\n",
       "        text-align: right;\n",
       "    }\n",
       "</style>\n",
       "<table border=\"1\" class=\"dataframe\">\n",
       "  <thead>\n",
       "    <tr style=\"text-align: right;\">\n",
       "      <th></th>\n",
       "      <th>PassengerId</th>\n",
       "      <th>Survived</th>\n",
       "      <th>Pclass</th>\n",
       "      <th>Name</th>\n",
       "      <th>Sex</th>\n",
       "      <th>Age</th>\n",
       "      <th>SibSp</th>\n",
       "      <th>Parch</th>\n",
       "      <th>Ticket</th>\n",
       "      <th>Fare</th>\n",
       "      <th>Cabin</th>\n",
       "      <th>Embarked</th>\n",
       "    </tr>\n",
       "  </thead>\n",
       "  <tbody>\n",
       "    <tr>\n",
       "      <th>id_0</th>\n",
       "      <td>1</td>\n",
       "      <td>0</td>\n",
       "      <td>3</td>\n",
       "      <td>Braund, Mr. Owen Harris</td>\n",
       "      <td>male</td>\n",
       "      <td>22.0</td>\n",
       "      <td>1</td>\n",
       "      <td>0</td>\n",
       "      <td>A/5 21171</td>\n",
       "      <td>7.2500</td>\n",
       "      <td>NaN</td>\n",
       "      <td>S</td>\n",
       "    </tr>\n",
       "    <tr>\n",
       "      <th>id_1</th>\n",
       "      <td>2</td>\n",
       "      <td>1</td>\n",
       "      <td>1</td>\n",
       "      <td>Cumings, Mrs. John Bradley (Florence Briggs Th...</td>\n",
       "      <td>female</td>\n",
       "      <td>38.0</td>\n",
       "      <td>1</td>\n",
       "      <td>0</td>\n",
       "      <td>PC 17599</td>\n",
       "      <td>71.2833</td>\n",
       "      <td>C85</td>\n",
       "      <td>C</td>\n",
       "    </tr>\n",
       "    <tr>\n",
       "      <th>id_2</th>\n",
       "      <td>3</td>\n",
       "      <td>1</td>\n",
       "      <td>3</td>\n",
       "      <td>Heikkinen, Miss. Laina</td>\n",
       "      <td>female</td>\n",
       "      <td>26.0</td>\n",
       "      <td>0</td>\n",
       "      <td>0</td>\n",
       "      <td>STON/O2. 3101282</td>\n",
       "      <td>7.9250</td>\n",
       "      <td>NaN</td>\n",
       "      <td>S</td>\n",
       "    </tr>\n",
       "  </tbody>\n",
       "</table>\n",
       "</div>"
      ],
      "text/plain": [
       "      PassengerId  Survived  Pclass  \\\n",
       "id_0            1         0       3   \n",
       "id_1            2         1       1   \n",
       "id_2            3         1       3   \n",
       "\n",
       "                                                   Name     Sex   Age  SibSp  \\\n",
       "id_0                            Braund, Mr. Owen Harris    male  22.0      1   \n",
       "id_1  Cumings, Mrs. John Bradley (Florence Briggs Th...  female  38.0      1   \n",
       "id_2                             Heikkinen, Miss. Laina  female  26.0      0   \n",
       "\n",
       "      Parch            Ticket     Fare Cabin Embarked  \n",
       "id_0      0         A/5 21171   7.2500   NaN        S  \n",
       "id_1      0          PC 17599  71.2833   C85        C  \n",
       "id_2      0  STON/O2. 3101282   7.9250   NaN        S  "
      ]
     },
     "execution_count": 5,
     "metadata": {},
     "output_type": "execute_result"
    }
   ],
   "source": [
    "# ИЗМЕНЕНИЕ ИНДЕКСА\n",
    "df.set_index('id_' + df.index.astype(str), inplace=False).head(3) # это датафрейм с новым индексом - копия"
   ]
  },
  {
   "cell_type": "code",
   "execution_count": 6,
   "id": "cb1e4550",
   "metadata": {},
   "outputs": [
    {
     "data": {
      "text/html": [
       "<div>\n",
       "<style scoped>\n",
       "    .dataframe tbody tr th:only-of-type {\n",
       "        vertical-align: middle;\n",
       "    }\n",
       "\n",
       "    .dataframe tbody tr th {\n",
       "        vertical-align: top;\n",
       "    }\n",
       "\n",
       "    .dataframe thead th {\n",
       "        text-align: right;\n",
       "    }\n",
       "</style>\n",
       "<table border=\"1\" class=\"dataframe\">\n",
       "  <thead>\n",
       "    <tr style=\"text-align: right;\">\n",
       "      <th></th>\n",
       "      <th>PassengerId</th>\n",
       "      <th>Survived</th>\n",
       "      <th>Pclass</th>\n",
       "      <th>passenger_name</th>\n",
       "      <th>Sex</th>\n",
       "      <th>Age</th>\n",
       "      <th>SibSp</th>\n",
       "      <th>Parch</th>\n",
       "      <th>Ticket</th>\n",
       "      <th>Fare</th>\n",
       "      <th>Cabin</th>\n",
       "      <th>Embarked</th>\n",
       "    </tr>\n",
       "  </thead>\n",
       "  <tbody>\n",
       "    <tr>\n",
       "      <th>0</th>\n",
       "      <td>1</td>\n",
       "      <td>0</td>\n",
       "      <td>3</td>\n",
       "      <td>Braund, Mr. Owen Harris</td>\n",
       "      <td>male</td>\n",
       "      <td>22.0</td>\n",
       "      <td>1</td>\n",
       "      <td>0</td>\n",
       "      <td>A/5 21171</td>\n",
       "      <td>7.2500</td>\n",
       "      <td>NaN</td>\n",
       "      <td>S</td>\n",
       "    </tr>\n",
       "    <tr>\n",
       "      <th>1</th>\n",
       "      <td>2</td>\n",
       "      <td>1</td>\n",
       "      <td>1</td>\n",
       "      <td>Cumings, Mrs. John Bradley (Florence Briggs Th...</td>\n",
       "      <td>female</td>\n",
       "      <td>38.0</td>\n",
       "      <td>1</td>\n",
       "      <td>0</td>\n",
       "      <td>PC 17599</td>\n",
       "      <td>71.2833</td>\n",
       "      <td>C85</td>\n",
       "      <td>C</td>\n",
       "    </tr>\n",
       "    <tr>\n",
       "      <th>2</th>\n",
       "      <td>3</td>\n",
       "      <td>1</td>\n",
       "      <td>3</td>\n",
       "      <td>Heikkinen, Miss. Laina</td>\n",
       "      <td>female</td>\n",
       "      <td>26.0</td>\n",
       "      <td>0</td>\n",
       "      <td>0</td>\n",
       "      <td>STON/O2. 3101282</td>\n",
       "      <td>7.9250</td>\n",
       "      <td>NaN</td>\n",
       "      <td>S</td>\n",
       "    </tr>\n",
       "  </tbody>\n",
       "</table>\n",
       "</div>"
      ],
      "text/plain": [
       "   PassengerId  Survived  Pclass  \\\n",
       "0            1         0       3   \n",
       "1            2         1       1   \n",
       "2            3         1       3   \n",
       "\n",
       "                                      passenger_name     Sex   Age  SibSp  \\\n",
       "0                            Braund, Mr. Owen Harris    male  22.0      1   \n",
       "1  Cumings, Mrs. John Bradley (Florence Briggs Th...  female  38.0      1   \n",
       "2                             Heikkinen, Miss. Laina  female  26.0      0   \n",
       "\n",
       "   Parch            Ticket     Fare Cabin Embarked  \n",
       "0      0         A/5 21171   7.2500   NaN        S  \n",
       "1      0          PC 17599  71.2833   C85        C  \n",
       "2      0  STON/O2. 3101282   7.9250   NaN        S  "
      ]
     },
     "execution_count": 6,
     "metadata": {},
     "output_type": "execute_result"
    }
   ],
   "source": [
    "# ИЗМЕНЕНИЕ КОЛОНОК\n",
    "df.rename(columns={'Name': 'passenger_name'}, inplace=False).head(3) # это датафрейм с новыми именами колонок - копия"
   ]
  },
  {
   "cell_type": "code",
   "execution_count": 7,
   "id": "e4bffb13",
   "metadata": {},
   "outputs": [
    {
     "data": {
      "text/html": [
       "<div>\n",
       "<style scoped>\n",
       "    .dataframe tbody tr th:only-of-type {\n",
       "        vertical-align: middle;\n",
       "    }\n",
       "\n",
       "    .dataframe tbody tr th {\n",
       "        vertical-align: top;\n",
       "    }\n",
       "\n",
       "    .dataframe thead th {\n",
       "        text-align: right;\n",
       "    }\n",
       "</style>\n",
       "<table border=\"1\" class=\"dataframe\">\n",
       "  <thead>\n",
       "    <tr style=\"text-align: right;\">\n",
       "      <th></th>\n",
       "      <th>PassengerId</th>\n",
       "      <th>Survived</th>\n",
       "      <th>Pclass</th>\n",
       "      <th>Name</th>\n",
       "      <th>Sex</th>\n",
       "      <th>Age</th>\n",
       "      <th>SibSp</th>\n",
       "      <th>Parch</th>\n",
       "      <th>Ticket</th>\n",
       "      <th>Fare</th>\n",
       "      <th>Cabin</th>\n",
       "      <th>Embarked</th>\n",
       "      <th>new_col_1</th>\n",
       "      <th>new_col_2</th>\n",
       "      <th>new_col_3</th>\n",
       "    </tr>\n",
       "  </thead>\n",
       "  <tbody>\n",
       "    <tr>\n",
       "      <th>0</th>\n",
       "      <td>1</td>\n",
       "      <td>0</td>\n",
       "      <td>3</td>\n",
       "      <td>Braund, Mr. Owen Harris</td>\n",
       "      <td>male</td>\n",
       "      <td>22.0</td>\n",
       "      <td>1</td>\n",
       "      <td>0</td>\n",
       "      <td>A/5 21171</td>\n",
       "      <td>7.2500</td>\n",
       "      <td>NaN</td>\n",
       "      <td>S</td>\n",
       "      <td>112</td>\n",
       "      <td>1</td>\n",
       "      <td>484.0</td>\n",
       "    </tr>\n",
       "    <tr>\n",
       "      <th>1</th>\n",
       "      <td>2</td>\n",
       "      <td>1</td>\n",
       "      <td>1</td>\n",
       "      <td>Cumings, Mrs. John Bradley (Florence Briggs Th...</td>\n",
       "      <td>female</td>\n",
       "      <td>38.0</td>\n",
       "      <td>1</td>\n",
       "      <td>0</td>\n",
       "      <td>PC 17599</td>\n",
       "      <td>71.2833</td>\n",
       "      <td>C85</td>\n",
       "      <td>C</td>\n",
       "      <td>112</td>\n",
       "      <td>0</td>\n",
       "      <td>1444.0</td>\n",
       "    </tr>\n",
       "    <tr>\n",
       "      <th>2</th>\n",
       "      <td>3</td>\n",
       "      <td>1</td>\n",
       "      <td>3</td>\n",
       "      <td>Heikkinen, Miss. Laina</td>\n",
       "      <td>female</td>\n",
       "      <td>26.0</td>\n",
       "      <td>0</td>\n",
       "      <td>0</td>\n",
       "      <td>STON/O2. 3101282</td>\n",
       "      <td>7.9250</td>\n",
       "      <td>NaN</td>\n",
       "      <td>S</td>\n",
       "      <td>112</td>\n",
       "      <td>1</td>\n",
       "      <td>676.0</td>\n",
       "    </tr>\n",
       "  </tbody>\n",
       "</table>\n",
       "</div>"
      ],
      "text/plain": [
       "   PassengerId  Survived  Pclass  \\\n",
       "0            1         0       3   \n",
       "1            2         1       1   \n",
       "2            3         1       3   \n",
       "\n",
       "                                                Name     Sex   Age  SibSp  \\\n",
       "0                            Braund, Mr. Owen Harris    male  22.0      1   \n",
       "1  Cumings, Mrs. John Bradley (Florence Briggs Th...  female  38.0      1   \n",
       "2                             Heikkinen, Miss. Laina  female  26.0      0   \n",
       "\n",
       "   Parch            Ticket     Fare Cabin Embarked  new_col_1  new_col_2  \\\n",
       "0      0         A/5 21171   7.2500   NaN        S        112          1   \n",
       "1      0          PC 17599  71.2833   C85        C        112          0   \n",
       "2      0  STON/O2. 3101282   7.9250   NaN        S        112          1   \n",
       "\n",
       "   new_col_3  \n",
       "0      484.0  \n",
       "1     1444.0  \n",
       "2      676.0  "
      ]
     },
     "execution_count": 7,
     "metadata": {},
     "output_type": "execute_result"
    }
   ],
   "source": [
    "# СОЗДАНИЕ НОВЫХ КОЛОНОК\n",
    "df['new_col_1'] = 112 # кастится в pd.Series из констант 112\n",
    "df['new_col_2'] = np.random.randint(0, 2, size=df.shape[0]) # кастится в pd.Series\n",
    "df['new_col_3'] = df.Age ** 2\n",
    "df.head(3)"
   ]
  },
  {
   "cell_type": "code",
   "execution_count": 8,
   "id": "de102bf9",
   "metadata": {},
   "outputs": [
    {
     "data": {
      "text/html": [
       "<div>\n",
       "<style scoped>\n",
       "    .dataframe tbody tr th:only-of-type {\n",
       "        vertical-align: middle;\n",
       "    }\n",
       "\n",
       "    .dataframe tbody tr th {\n",
       "        vertical-align: top;\n",
       "    }\n",
       "\n",
       "    .dataframe thead th {\n",
       "        text-align: right;\n",
       "    }\n",
       "</style>\n",
       "<table border=\"1\" class=\"dataframe\">\n",
       "  <thead>\n",
       "    <tr style=\"text-align: right;\">\n",
       "      <th></th>\n",
       "      <th>val_1</th>\n",
       "      <th>val_2</th>\n",
       "    </tr>\n",
       "  </thead>\n",
       "  <tbody>\n",
       "    <tr>\n",
       "      <th>0</th>\n",
       "      <td>1</td>\n",
       "      <td>A</td>\n",
       "    </tr>\n",
       "    <tr>\n",
       "      <th>1</th>\n",
       "      <td>2</td>\n",
       "      <td>100</td>\n",
       "    </tr>\n",
       "    <tr>\n",
       "      <th>2</th>\n",
       "      <td>3</td>\n",
       "      <td>True</td>\n",
       "    </tr>\n",
       "  </tbody>\n",
       "</table>\n",
       "</div>"
      ],
      "text/plain": [
       "   val_1 val_2\n",
       "0      1     A\n",
       "1      2   100\n",
       "2      3  True"
      ]
     },
     "execution_count": 8,
     "metadata": {},
     "output_type": "execute_result"
    }
   ],
   "source": [
    "# создать датафрейм самому:\n",
    "# pd.DataFrame(data=..., index=..., columns=...)\n",
    "\n",
    "# например:\n",
    "pd.DataFrame({'val_1': [1, 2, 3], 'val_2': ['A', 100, True]})"
   ]
  },
  {
   "cell_type": "markdown",
   "id": "377c3555",
   "metadata": {},
   "source": [
    "## - pd.Series"
   ]
  },
  {
   "cell_type": "code",
   "execution_count": 9,
   "id": "f5444710",
   "metadata": {},
   "outputs": [
    {
     "data": {
      "text/plain": [
       "0             A/5 21171\n",
       "1              PC 17599\n",
       "2      STON/O2. 3101282\n",
       "3                113803\n",
       "4                373450\n",
       "             ...       \n",
       "886              211536\n",
       "887              112053\n",
       "888          W./C. 6607\n",
       "889              111369\n",
       "890              370376\n",
       "Name: Ticket, Length: 891, dtype: object"
      ]
     },
     "execution_count": 9,
     "metadata": {},
     "output_type": "execute_result"
    }
   ],
   "source": [
    "df['Ticket']\n",
    "df.Ticket"
   ]
  },
  {
   "cell_type": "code",
   "execution_count": 10,
   "id": "b01ad2de",
   "metadata": {},
   "outputs": [
    {
     "data": {
      "text/html": [
       "<div>\n",
       "<style scoped>\n",
       "    .dataframe tbody tr th:only-of-type {\n",
       "        vertical-align: middle;\n",
       "    }\n",
       "\n",
       "    .dataframe tbody tr th {\n",
       "        vertical-align: top;\n",
       "    }\n",
       "\n",
       "    .dataframe thead th {\n",
       "        text-align: right;\n",
       "    }\n",
       "</style>\n",
       "<table border=\"1\" class=\"dataframe\">\n",
       "  <thead>\n",
       "    <tr style=\"text-align: right;\">\n",
       "      <th></th>\n",
       "      <th>PassengerId</th>\n",
       "      <th>Survived</th>\n",
       "      <th>Pclass</th>\n",
       "      <th>Name</th>\n",
       "      <th>Sex</th>\n",
       "      <th>Age</th>\n",
       "      <th>SibSp</th>\n",
       "      <th>Parch</th>\n",
       "      <th>Ticket</th>\n",
       "      <th>Fare</th>\n",
       "      <th>Cabin</th>\n",
       "      <th>Embarked</th>\n",
       "      <th>new_col_1</th>\n",
       "      <th>new_col_2</th>\n",
       "      <th>new_col_3</th>\n",
       "    </tr>\n",
       "  </thead>\n",
       "  <tbody>\n",
       "    <tr>\n",
       "      <th>id_0</th>\n",
       "      <td>1</td>\n",
       "      <td>0</td>\n",
       "      <td>3</td>\n",
       "      <td>Braund, Mr. Owen Harris</td>\n",
       "      <td>male</td>\n",
       "      <td>22.0</td>\n",
       "      <td>1</td>\n",
       "      <td>0</td>\n",
       "      <td>A/5 21171</td>\n",
       "      <td>7.2500</td>\n",
       "      <td>NaN</td>\n",
       "      <td>S</td>\n",
       "      <td>112</td>\n",
       "      <td>1</td>\n",
       "      <td>484.0</td>\n",
       "    </tr>\n",
       "    <tr>\n",
       "      <th>id_1</th>\n",
       "      <td>2</td>\n",
       "      <td>1</td>\n",
       "      <td>1</td>\n",
       "      <td>Cumings, Mrs. John Bradley (Florence Briggs Th...</td>\n",
       "      <td>female</td>\n",
       "      <td>38.0</td>\n",
       "      <td>1</td>\n",
       "      <td>0</td>\n",
       "      <td>PC 17599</td>\n",
       "      <td>71.2833</td>\n",
       "      <td>C85</td>\n",
       "      <td>C</td>\n",
       "      <td>112</td>\n",
       "      <td>0</td>\n",
       "      <td>1444.0</td>\n",
       "    </tr>\n",
       "  </tbody>\n",
       "</table>\n",
       "</div>"
      ],
      "text/plain": [
       "      PassengerId  Survived  Pclass  \\\n",
       "id_0            1         0       3   \n",
       "id_1            2         1       1   \n",
       "\n",
       "                                                   Name     Sex   Age  SibSp  \\\n",
       "id_0                            Braund, Mr. Owen Harris    male  22.0      1   \n",
       "id_1  Cumings, Mrs. John Bradley (Florence Briggs Th...  female  38.0      1   \n",
       "\n",
       "      Parch     Ticket     Fare Cabin Embarked  new_col_1  new_col_2  \\\n",
       "id_0      0  A/5 21171   7.2500   NaN        S        112          1   \n",
       "id_1      0   PC 17599  71.2833   C85        C        112          0   \n",
       "\n",
       "      new_col_3  \n",
       "id_0      484.0  \n",
       "id_1     1444.0  "
      ]
     },
     "execution_count": 10,
     "metadata": {},
     "output_type": "execute_result"
    }
   ],
   "source": [
    "df.set_index('id_' + df.index.astype(str), inplace=True) # поменяем индекс inplace\n",
    "df.head(2)"
   ]
  },
  {
   "cell_type": "code",
   "execution_count": 11,
   "id": "19c0cb25",
   "metadata": {},
   "outputs": [
    {
     "data": {
      "text/plain": [
       "PassengerId                          1\n",
       "Survived                             0\n",
       "Pclass                               3\n",
       "Name           Braund, Mr. Owen Harris\n",
       "Sex                               male\n",
       "Age                               22.0\n",
       "SibSp                                1\n",
       "Parch                                0\n",
       "Ticket                       A/5 21171\n",
       "Fare                              7.25\n",
       "Cabin                              NaN\n",
       "Embarked                             S\n",
       "new_col_1                          112\n",
       "new_col_2                            1\n",
       "new_col_3                        484.0\n",
       "Name: id_0, dtype: object"
      ]
     },
     "execution_count": 11,
     "metadata": {},
     "output_type": "execute_result"
    }
   ],
   "source": [
    "df.loc['id_0'] # обращение к ряду через index. ряд - тоже серия"
   ]
  },
  {
   "cell_type": "code",
   "execution_count": 12,
   "id": "1ada4134",
   "metadata": {},
   "outputs": [
    {
     "data": {
      "text/plain": [
       "PassengerId                          1\n",
       "Survived                             0\n",
       "Pclass                               3\n",
       "Name           Braund, Mr. Owen Harris\n",
       "Sex                               male\n",
       "Age                               22.0\n",
       "SibSp                                1\n",
       "Parch                                0\n",
       "Ticket                       A/5 21171\n",
       "Fare                              7.25\n",
       "Cabin                              NaN\n",
       "Embarked                             S\n",
       "new_col_1                          112\n",
       "new_col_2                            1\n",
       "new_col_3                        484.0\n",
       "Name: id_0, dtype: object"
      ]
     },
     "execution_count": 12,
     "metadata": {},
     "output_type": "execute_result"
    }
   ],
   "source": [
    "df.iloc[0] # обращение к ряду через его позицию в датафрейме"
   ]
  },
  {
   "cell_type": "code",
   "execution_count": 13,
   "id": "1df34b85",
   "metadata": {},
   "outputs": [
    {
     "data": {
      "text/plain": [
       "array([22., 38., 26., 35., 35., nan, 54.,  2., 27., 14.])"
      ]
     },
     "execution_count": 13,
     "metadata": {},
     "output_type": "execute_result"
    }
   ],
   "source": [
    "df.Age.values[:10] # pd.Series в np.array"
   ]
  },
  {
   "cell_type": "code",
   "execution_count": 14,
   "id": "aca9aec7-b332-4af3-b861-eec4bde8a9ca",
   "metadata": {},
   "outputs": [
    {
     "data": {
      "text/plain": [
       "first       1.0\n",
       "second     23.0\n",
       "3         234.0\n",
       "dtype: float64"
      ]
     },
     "execution_count": 14,
     "metadata": {},
     "output_type": "execute_result"
    }
   ],
   "source": [
    "# создать Series самому\n",
    "pd.Series([1, 23, 234])\n",
    "pd.Series([1, 23, 234], dtype=np.float64, index=['first', 'second', 3])"
   ]
  },
  {
   "cell_type": "code",
   "execution_count": null,
   "id": "e5626eac",
   "metadata": {},
   "outputs": [],
   "source": []
  },
  {
   "cell_type": "markdown",
   "id": "c4b374cc",
   "metadata": {},
   "source": [
    "## - [Типы данных](https://pandas.pydata.org/docs/reference/arrays.html#)\n",
    "- missing values\n",
    "- числовые\n",
    "- object\n",
    "- строки + .str\n",
    "- категории + .cat\n",
    "- даты + .dt\n",
    "- пандовские Nullable ... - забудьте про это"
   ]
  },
  {
   "cell_type": "code",
   "execution_count": 15,
   "id": "f77deffa",
   "metadata": {},
   "outputs": [
    {
     "data": {
      "text/html": [
       "<div>\n",
       "<style scoped>\n",
       "    .dataframe tbody tr th:only-of-type {\n",
       "        vertical-align: middle;\n",
       "    }\n",
       "\n",
       "    .dataframe tbody tr th {\n",
       "        vertical-align: top;\n",
       "    }\n",
       "\n",
       "    .dataframe thead th {\n",
       "        text-align: right;\n",
       "    }\n",
       "</style>\n",
       "<table border=\"1\" class=\"dataframe\">\n",
       "  <thead>\n",
       "    <tr style=\"text-align: right;\">\n",
       "      <th></th>\n",
       "      <th>PassengerId</th>\n",
       "      <th>Survived</th>\n",
       "      <th>Pclass</th>\n",
       "      <th>Name</th>\n",
       "      <th>Sex</th>\n",
       "      <th>Age</th>\n",
       "      <th>SibSp</th>\n",
       "      <th>Parch</th>\n",
       "      <th>Ticket</th>\n",
       "      <th>Fare</th>\n",
       "      <th>Cabin</th>\n",
       "      <th>Embarked</th>\n",
       "      <th>new_col_1</th>\n",
       "      <th>new_col_2</th>\n",
       "      <th>new_col_3</th>\n",
       "    </tr>\n",
       "  </thead>\n",
       "  <tbody>\n",
       "    <tr>\n",
       "      <th>id_0</th>\n",
       "      <td>1</td>\n",
       "      <td>0</td>\n",
       "      <td>3</td>\n",
       "      <td>Braund, Mr. Owen Harris</td>\n",
       "      <td>male</td>\n",
       "      <td>22.0</td>\n",
       "      <td>1</td>\n",
       "      <td>0</td>\n",
       "      <td>A/5 21171</td>\n",
       "      <td>7.2500</td>\n",
       "      <td>NaN</td>\n",
       "      <td>S</td>\n",
       "      <td>112</td>\n",
       "      <td>1</td>\n",
       "      <td>484.0</td>\n",
       "    </tr>\n",
       "    <tr>\n",
       "      <th>id_1</th>\n",
       "      <td>2</td>\n",
       "      <td>1</td>\n",
       "      <td>1</td>\n",
       "      <td>Cumings, Mrs. John Bradley (Florence Briggs Th...</td>\n",
       "      <td>female</td>\n",
       "      <td>38.0</td>\n",
       "      <td>1</td>\n",
       "      <td>0</td>\n",
       "      <td>PC 17599</td>\n",
       "      <td>71.2833</td>\n",
       "      <td>C85</td>\n",
       "      <td>C</td>\n",
       "      <td>112</td>\n",
       "      <td>0</td>\n",
       "      <td>1444.0</td>\n",
       "    </tr>\n",
       "  </tbody>\n",
       "</table>\n",
       "</div>"
      ],
      "text/plain": [
       "      PassengerId  Survived  Pclass  \\\n",
       "id_0            1         0       3   \n",
       "id_1            2         1       1   \n",
       "\n",
       "                                                   Name     Sex   Age  SibSp  \\\n",
       "id_0                            Braund, Mr. Owen Harris    male  22.0      1   \n",
       "id_1  Cumings, Mrs. John Bradley (Florence Briggs Th...  female  38.0      1   \n",
       "\n",
       "      Parch     Ticket     Fare Cabin Embarked  new_col_1  new_col_2  \\\n",
       "id_0      0  A/5 21171   7.2500   NaN        S        112          1   \n",
       "id_1      0   PC 17599  71.2833   C85        C        112          0   \n",
       "\n",
       "      new_col_3  \n",
       "id_0      484.0  \n",
       "id_1     1444.0  "
      ]
     },
     "metadata": {},
     "output_type": "display_data"
    },
    {
     "name": "stdout",
     "output_type": "stream",
     "text": [
      "<class 'pandas.core.frame.DataFrame'>\n",
      "Index: 891 entries, id_0 to id_890\n",
      "Data columns (total 15 columns):\n",
      " #   Column       Non-Null Count  Dtype  \n",
      "---  ------       --------------  -----  \n",
      " 0   PassengerId  891 non-null    int64  \n",
      " 1   Survived     891 non-null    int64  \n",
      " 2   Pclass       891 non-null    int64  \n",
      " 3   Name         891 non-null    object \n",
      " 4   Sex          891 non-null    object \n",
      " 5   Age          714 non-null    float64\n",
      " 6   SibSp        891 non-null    int64  \n",
      " 7   Parch        891 non-null    int64  \n",
      " 8   Ticket       891 non-null    object \n",
      " 9   Fare         891 non-null    float64\n",
      " 10  Cabin        204 non-null    object \n",
      " 11  Embarked     889 non-null    object \n",
      " 12  new_col_1    891 non-null    int64  \n",
      " 13  new_col_2    891 non-null    int32  \n",
      " 14  new_col_3    714 non-null    float64\n",
      "dtypes: float64(3), int32(1), int64(6), object(5)\n",
      "memory usage: 419.3 KB\n"
     ]
    }
   ],
   "source": [
    "display(df.head(2))\n",
    "df.info(memory_usage='deep')"
   ]
  },
  {
   "cell_type": "code",
   "execution_count": null,
   "id": "b7730fdd",
   "metadata": {},
   "outputs": [],
   "source": []
  },
  {
   "cell_type": "markdown",
   "id": "7804aff1-5330-412d-a80e-bb85931ca0ff",
   "metadata": {},
   "source": [
    "###  `missing values`"
   ]
  },
  {
   "cell_type": "code",
   "execution_count": 16,
   "id": "829fe80e-dd00-482d-a100-c2be0da04dfb",
   "metadata": {},
   "outputs": [
    {
     "name": "stdout",
     "output_type": "stream",
     "text": [
      "True True True True\n",
      "False True False False\n"
     ]
    }
   ],
   "source": [
    "print(pd.isna(np.nan), pd.isna(None), pd.isna(pd.NA), pd.isna(pd.NaT))\n",
    "print(np.nan == np.nan, np.nan != np.nan, np.nan > np.nan, np.nan <= np.nan)"
   ]
  },
  {
   "cell_type": "markdown",
   "id": "2402e2d3-d276-4320-81bc-21a7d30740bb",
   "metadata": {},
   "source": [
    "**всегда проверяйте, как те или иные функции/операторы обрабатывают наны: +-, sum, median и тп!**"
   ]
  },
  {
   "cell_type": "code",
   "execution_count": 17,
   "id": "dbae450b",
   "metadata": {},
   "outputs": [
    {
     "data": {
      "text/plain": [
       "0    NaN\n",
       "1    NaN\n",
       "2    1.0\n",
       "dtype: float64"
      ]
     },
     "execution_count": 17,
     "metadata": {},
     "output_type": "execute_result"
    }
   ],
   "source": [
    "pd.Series([np.nan, None, 1]) # серия закастилась в np.float64, поэтому None стал np.nan"
   ]
  },
  {
   "cell_type": "code",
   "execution_count": 18,
   "id": "e1e58482",
   "metadata": {},
   "outputs": [
    {
     "data": {
      "text/plain": [
       "0          NaT\n",
       "1          NaT\n",
       "2   2021-01-03\n",
       "dtype: datetime64[ns]"
      ]
     },
     "execution_count": 18,
     "metadata": {},
     "output_type": "execute_result"
    }
   ],
   "source": [
    "pd.to_datetime(pd.Series([np.nan, None, '2021-01-03'])) # мы закастили серию в datetime64, поэтому наны стали NaT (not a time)"
   ]
  },
  {
   "cell_type": "code",
   "execution_count": 19,
   "id": "582adffa",
   "metadata": {},
   "outputs": [
    {
     "data": {
      "text/plain": [
       "0        NaN\n",
       "1       None\n",
       "2    хаха :)\n",
       "dtype: object"
      ]
     },
     "execution_count": 19,
     "metadata": {},
     "output_type": "execute_result"
    }
   ],
   "source": [
    "pd.Series([np.nan, None, 'хаха :)'])"
   ]
  },
  {
   "cell_type": "code",
   "execution_count": 20,
   "id": "12eab470",
   "metadata": {},
   "outputs": [
    {
     "data": {
      "text/plain": [
       "array([nan, None, 'хаха :)', NaT, <NA>], dtype=object)"
      ]
     },
     "execution_count": 20,
     "metadata": {},
     "output_type": "execute_result"
    }
   ],
   "source": [
    "pd.Series([np.nan, None, 'хаха :)', pd.NaT, pd.NA]).values"
   ]
  },
  {
   "cell_type": "code",
   "execution_count": 21,
   "id": "7122d2b7",
   "metadata": {},
   "outputs": [
    {
     "data": {
      "text/plain": [
       "0     True\n",
       "1    False\n",
       "2     True\n",
       "3     True\n",
       "dtype: bool"
      ]
     },
     "execution_count": 21,
     "metadata": {},
     "output_type": "execute_result"
    }
   ],
   "source": [
    "pd.Series([np.nan, None, True, pd.NaT]).astype(bool) # :)"
   ]
  },
  {
   "cell_type": "code",
   "execution_count": 22,
   "id": "303d0b27",
   "metadata": {
    "scrolled": true
   },
   "outputs": [
    {
     "ename": "IntCastingNaNError",
     "evalue": "Cannot convert non-finite values (NA or inf) to integer",
     "output_type": "error",
     "traceback": [
      "\u001b[1;31m---------------------------------------------------------------------------\u001b[0m",
      "\u001b[1;31mIntCastingNaNError\u001b[0m                        Traceback (most recent call last)",
      "Cell \u001b[1;32mIn[22], line 1\u001b[0m\n\u001b[1;32m----> 1\u001b[0m \u001b[43mpd\u001b[49m\u001b[38;5;241;43m.\u001b[39;49m\u001b[43mSeries\u001b[49m\u001b[43m(\u001b[49m\u001b[43m[\u001b[49m\u001b[43mnp\u001b[49m\u001b[38;5;241;43m.\u001b[39;49m\u001b[43mnan\u001b[49m\u001b[43m,\u001b[49m\u001b[43m \u001b[49m\u001b[38;5;28;43;01mNone\u001b[39;49;00m\u001b[43m,\u001b[49m\u001b[43m \u001b[49m\u001b[38;5;241;43m1\u001b[39;49m\u001b[43m]\u001b[49m\u001b[43m)\u001b[49m\u001b[38;5;241;43m.\u001b[39;49m\u001b[43mastype\u001b[49m\u001b[43m(\u001b[49m\u001b[43mnp\u001b[49m\u001b[38;5;241;43m.\u001b[39;49m\u001b[43mint32\u001b[49m\u001b[43m)\u001b[49m \u001b[38;5;66;03m# интовые типы numpy не поддерживают наны\u001b[39;00m\n",
      "File \u001b[1;32mC:\\Program Files\\Python310\\lib\\site-packages\\pandas\\core\\generic.py:6643\u001b[0m, in \u001b[0;36mNDFrame.astype\u001b[1;34m(self, dtype, copy, errors)\u001b[0m\n\u001b[0;32m   6637\u001b[0m     results \u001b[38;5;241m=\u001b[39m [\n\u001b[0;32m   6638\u001b[0m         ser\u001b[38;5;241m.\u001b[39mastype(dtype, copy\u001b[38;5;241m=\u001b[39mcopy, errors\u001b[38;5;241m=\u001b[39merrors) \u001b[38;5;28;01mfor\u001b[39;00m _, ser \u001b[38;5;129;01min\u001b[39;00m \u001b[38;5;28mself\u001b[39m\u001b[38;5;241m.\u001b[39mitems()\n\u001b[0;32m   6639\u001b[0m     ]\n\u001b[0;32m   6641\u001b[0m \u001b[38;5;28;01melse\u001b[39;00m:\n\u001b[0;32m   6642\u001b[0m     \u001b[38;5;66;03m# else, only a single dtype is given\u001b[39;00m\n\u001b[1;32m-> 6643\u001b[0m     new_data \u001b[38;5;241m=\u001b[39m \u001b[38;5;28;43mself\u001b[39;49m\u001b[38;5;241;43m.\u001b[39;49m\u001b[43m_mgr\u001b[49m\u001b[38;5;241;43m.\u001b[39;49m\u001b[43mastype\u001b[49m\u001b[43m(\u001b[49m\u001b[43mdtype\u001b[49m\u001b[38;5;241;43m=\u001b[39;49m\u001b[43mdtype\u001b[49m\u001b[43m,\u001b[49m\u001b[43m \u001b[49m\u001b[43mcopy\u001b[49m\u001b[38;5;241;43m=\u001b[39;49m\u001b[43mcopy\u001b[49m\u001b[43m,\u001b[49m\u001b[43m \u001b[49m\u001b[43merrors\u001b[49m\u001b[38;5;241;43m=\u001b[39;49m\u001b[43merrors\u001b[49m\u001b[43m)\u001b[49m\n\u001b[0;32m   6644\u001b[0m     res \u001b[38;5;241m=\u001b[39m \u001b[38;5;28mself\u001b[39m\u001b[38;5;241m.\u001b[39m_constructor_from_mgr(new_data, axes\u001b[38;5;241m=\u001b[39mnew_data\u001b[38;5;241m.\u001b[39maxes)\n\u001b[0;32m   6645\u001b[0m     \u001b[38;5;28;01mreturn\u001b[39;00m res\u001b[38;5;241m.\u001b[39m__finalize__(\u001b[38;5;28mself\u001b[39m, method\u001b[38;5;241m=\u001b[39m\u001b[38;5;124m\"\u001b[39m\u001b[38;5;124mastype\u001b[39m\u001b[38;5;124m\"\u001b[39m)\n",
      "File \u001b[1;32mC:\\Program Files\\Python310\\lib\\site-packages\\pandas\\core\\internals\\managers.py:430\u001b[0m, in \u001b[0;36mBaseBlockManager.astype\u001b[1;34m(self, dtype, copy, errors)\u001b[0m\n\u001b[0;32m    427\u001b[0m \u001b[38;5;28;01melif\u001b[39;00m using_copy_on_write():\n\u001b[0;32m    428\u001b[0m     copy \u001b[38;5;241m=\u001b[39m \u001b[38;5;28;01mFalse\u001b[39;00m\n\u001b[1;32m--> 430\u001b[0m \u001b[38;5;28;01mreturn\u001b[39;00m \u001b[38;5;28;43mself\u001b[39;49m\u001b[38;5;241;43m.\u001b[39;49m\u001b[43mapply\u001b[49m\u001b[43m(\u001b[49m\n\u001b[0;32m    431\u001b[0m \u001b[43m    \u001b[49m\u001b[38;5;124;43m\"\u001b[39;49m\u001b[38;5;124;43mastype\u001b[39;49m\u001b[38;5;124;43m\"\u001b[39;49m\u001b[43m,\u001b[49m\n\u001b[0;32m    432\u001b[0m \u001b[43m    \u001b[49m\u001b[43mdtype\u001b[49m\u001b[38;5;241;43m=\u001b[39;49m\u001b[43mdtype\u001b[49m\u001b[43m,\u001b[49m\n\u001b[0;32m    433\u001b[0m \u001b[43m    \u001b[49m\u001b[43mcopy\u001b[49m\u001b[38;5;241;43m=\u001b[39;49m\u001b[43mcopy\u001b[49m\u001b[43m,\u001b[49m\n\u001b[0;32m    434\u001b[0m \u001b[43m    \u001b[49m\u001b[43merrors\u001b[49m\u001b[38;5;241;43m=\u001b[39;49m\u001b[43merrors\u001b[49m\u001b[43m,\u001b[49m\n\u001b[0;32m    435\u001b[0m \u001b[43m    \u001b[49m\u001b[43musing_cow\u001b[49m\u001b[38;5;241;43m=\u001b[39;49m\u001b[43musing_copy_on_write\u001b[49m\u001b[43m(\u001b[49m\u001b[43m)\u001b[49m\u001b[43m,\u001b[49m\n\u001b[0;32m    436\u001b[0m \u001b[43m\u001b[49m\u001b[43m)\u001b[49m\n",
      "File \u001b[1;32mC:\\Program Files\\Python310\\lib\\site-packages\\pandas\\core\\internals\\managers.py:363\u001b[0m, in \u001b[0;36mBaseBlockManager.apply\u001b[1;34m(self, f, align_keys, **kwargs)\u001b[0m\n\u001b[0;32m    361\u001b[0m         applied \u001b[38;5;241m=\u001b[39m b\u001b[38;5;241m.\u001b[39mapply(f, \u001b[38;5;241m*\u001b[39m\u001b[38;5;241m*\u001b[39mkwargs)\n\u001b[0;32m    362\u001b[0m     \u001b[38;5;28;01melse\u001b[39;00m:\n\u001b[1;32m--> 363\u001b[0m         applied \u001b[38;5;241m=\u001b[39m \u001b[38;5;28mgetattr\u001b[39m(b, f)(\u001b[38;5;241m*\u001b[39m\u001b[38;5;241m*\u001b[39mkwargs)\n\u001b[0;32m    364\u001b[0m     result_blocks \u001b[38;5;241m=\u001b[39m extend_blocks(applied, result_blocks)\n\u001b[0;32m    366\u001b[0m out \u001b[38;5;241m=\u001b[39m \u001b[38;5;28mtype\u001b[39m(\u001b[38;5;28mself\u001b[39m)\u001b[38;5;241m.\u001b[39mfrom_blocks(result_blocks, \u001b[38;5;28mself\u001b[39m\u001b[38;5;241m.\u001b[39maxes)\n",
      "File \u001b[1;32mC:\\Program Files\\Python310\\lib\\site-packages\\pandas\\core\\internals\\blocks.py:758\u001b[0m, in \u001b[0;36mBlock.astype\u001b[1;34m(self, dtype, copy, errors, using_cow, squeeze)\u001b[0m\n\u001b[0;32m    755\u001b[0m         \u001b[38;5;28;01mraise\u001b[39;00m \u001b[38;5;167;01mValueError\u001b[39;00m(\u001b[38;5;124m\"\u001b[39m\u001b[38;5;124mCan not squeeze with more than one column.\u001b[39m\u001b[38;5;124m\"\u001b[39m)\n\u001b[0;32m    756\u001b[0m     values \u001b[38;5;241m=\u001b[39m values[\u001b[38;5;241m0\u001b[39m, :]  \u001b[38;5;66;03m# type: ignore[call-overload]\u001b[39;00m\n\u001b[1;32m--> 758\u001b[0m new_values \u001b[38;5;241m=\u001b[39m \u001b[43mastype_array_safe\u001b[49m\u001b[43m(\u001b[49m\u001b[43mvalues\u001b[49m\u001b[43m,\u001b[49m\u001b[43m \u001b[49m\u001b[43mdtype\u001b[49m\u001b[43m,\u001b[49m\u001b[43m \u001b[49m\u001b[43mcopy\u001b[49m\u001b[38;5;241;43m=\u001b[39;49m\u001b[43mcopy\u001b[49m\u001b[43m,\u001b[49m\u001b[43m \u001b[49m\u001b[43merrors\u001b[49m\u001b[38;5;241;43m=\u001b[39;49m\u001b[43merrors\u001b[49m\u001b[43m)\u001b[49m\n\u001b[0;32m    760\u001b[0m new_values \u001b[38;5;241m=\u001b[39m maybe_coerce_values(new_values)\n\u001b[0;32m    762\u001b[0m refs \u001b[38;5;241m=\u001b[39m \u001b[38;5;28;01mNone\u001b[39;00m\n",
      "File \u001b[1;32mC:\\Program Files\\Python310\\lib\\site-packages\\pandas\\core\\dtypes\\astype.py:237\u001b[0m, in \u001b[0;36mastype_array_safe\u001b[1;34m(values, dtype, copy, errors)\u001b[0m\n\u001b[0;32m    234\u001b[0m     dtype \u001b[38;5;241m=\u001b[39m dtype\u001b[38;5;241m.\u001b[39mnumpy_dtype\n\u001b[0;32m    236\u001b[0m \u001b[38;5;28;01mtry\u001b[39;00m:\n\u001b[1;32m--> 237\u001b[0m     new_values \u001b[38;5;241m=\u001b[39m \u001b[43mastype_array\u001b[49m\u001b[43m(\u001b[49m\u001b[43mvalues\u001b[49m\u001b[43m,\u001b[49m\u001b[43m \u001b[49m\u001b[43mdtype\u001b[49m\u001b[43m,\u001b[49m\u001b[43m \u001b[49m\u001b[43mcopy\u001b[49m\u001b[38;5;241;43m=\u001b[39;49m\u001b[43mcopy\u001b[49m\u001b[43m)\u001b[49m\n\u001b[0;32m    238\u001b[0m \u001b[38;5;28;01mexcept\u001b[39;00m (\u001b[38;5;167;01mValueError\u001b[39;00m, \u001b[38;5;167;01mTypeError\u001b[39;00m):\n\u001b[0;32m    239\u001b[0m     \u001b[38;5;66;03m# e.g. _astype_nansafe can fail on object-dtype of strings\u001b[39;00m\n\u001b[0;32m    240\u001b[0m     \u001b[38;5;66;03m#  trying to convert to float\u001b[39;00m\n\u001b[0;32m    241\u001b[0m     \u001b[38;5;28;01mif\u001b[39;00m errors \u001b[38;5;241m==\u001b[39m \u001b[38;5;124m\"\u001b[39m\u001b[38;5;124mignore\u001b[39m\u001b[38;5;124m\"\u001b[39m:\n",
      "File \u001b[1;32mC:\\Program Files\\Python310\\lib\\site-packages\\pandas\\core\\dtypes\\astype.py:182\u001b[0m, in \u001b[0;36mastype_array\u001b[1;34m(values, dtype, copy)\u001b[0m\n\u001b[0;32m    179\u001b[0m     values \u001b[38;5;241m=\u001b[39m values\u001b[38;5;241m.\u001b[39mastype(dtype, copy\u001b[38;5;241m=\u001b[39mcopy)\n\u001b[0;32m    181\u001b[0m \u001b[38;5;28;01melse\u001b[39;00m:\n\u001b[1;32m--> 182\u001b[0m     values \u001b[38;5;241m=\u001b[39m \u001b[43m_astype_nansafe\u001b[49m\u001b[43m(\u001b[49m\u001b[43mvalues\u001b[49m\u001b[43m,\u001b[49m\u001b[43m \u001b[49m\u001b[43mdtype\u001b[49m\u001b[43m,\u001b[49m\u001b[43m \u001b[49m\u001b[43mcopy\u001b[49m\u001b[38;5;241;43m=\u001b[39;49m\u001b[43mcopy\u001b[49m\u001b[43m)\u001b[49m\n\u001b[0;32m    184\u001b[0m \u001b[38;5;66;03m# in pandas we don't store numpy str dtypes, so convert to object\u001b[39;00m\n\u001b[0;32m    185\u001b[0m \u001b[38;5;28;01mif\u001b[39;00m \u001b[38;5;28misinstance\u001b[39m(dtype, np\u001b[38;5;241m.\u001b[39mdtype) \u001b[38;5;129;01mand\u001b[39;00m \u001b[38;5;28missubclass\u001b[39m(values\u001b[38;5;241m.\u001b[39mdtype\u001b[38;5;241m.\u001b[39mtype, \u001b[38;5;28mstr\u001b[39m):\n",
      "File \u001b[1;32mC:\\Program Files\\Python310\\lib\\site-packages\\pandas\\core\\dtypes\\astype.py:101\u001b[0m, in \u001b[0;36m_astype_nansafe\u001b[1;34m(arr, dtype, copy, skipna)\u001b[0m\n\u001b[0;32m     96\u001b[0m     \u001b[38;5;28;01mreturn\u001b[39;00m lib\u001b[38;5;241m.\u001b[39mensure_string_array(\n\u001b[0;32m     97\u001b[0m         arr, skipna\u001b[38;5;241m=\u001b[39mskipna, convert_na_value\u001b[38;5;241m=\u001b[39m\u001b[38;5;28;01mFalse\u001b[39;00m\n\u001b[0;32m     98\u001b[0m     )\u001b[38;5;241m.\u001b[39mreshape(shape)\n\u001b[0;32m    100\u001b[0m \u001b[38;5;28;01melif\u001b[39;00m np\u001b[38;5;241m.\u001b[39missubdtype(arr\u001b[38;5;241m.\u001b[39mdtype, np\u001b[38;5;241m.\u001b[39mfloating) \u001b[38;5;129;01mand\u001b[39;00m dtype\u001b[38;5;241m.\u001b[39mkind \u001b[38;5;129;01min\u001b[39;00m \u001b[38;5;124m\"\u001b[39m\u001b[38;5;124miu\u001b[39m\u001b[38;5;124m\"\u001b[39m:\n\u001b[1;32m--> 101\u001b[0m     \u001b[38;5;28;01mreturn\u001b[39;00m \u001b[43m_astype_float_to_int_nansafe\u001b[49m\u001b[43m(\u001b[49m\u001b[43marr\u001b[49m\u001b[43m,\u001b[49m\u001b[43m \u001b[49m\u001b[43mdtype\u001b[49m\u001b[43m,\u001b[49m\u001b[43m \u001b[49m\u001b[43mcopy\u001b[49m\u001b[43m)\u001b[49m\n\u001b[0;32m    103\u001b[0m \u001b[38;5;28;01melif\u001b[39;00m arr\u001b[38;5;241m.\u001b[39mdtype \u001b[38;5;241m==\u001b[39m \u001b[38;5;28mobject\u001b[39m:\n\u001b[0;32m    104\u001b[0m     \u001b[38;5;66;03m# if we have a datetime/timedelta array of objects\u001b[39;00m\n\u001b[0;32m    105\u001b[0m     \u001b[38;5;66;03m# then coerce to datetime64[ns] and use DatetimeArray.astype\u001b[39;00m\n\u001b[0;32m    107\u001b[0m     \u001b[38;5;28;01mif\u001b[39;00m lib\u001b[38;5;241m.\u001b[39mis_np_dtype(dtype, \u001b[38;5;124m\"\u001b[39m\u001b[38;5;124mM\u001b[39m\u001b[38;5;124m\"\u001b[39m):\n",
      "File \u001b[1;32mC:\\Program Files\\Python310\\lib\\site-packages\\pandas\\core\\dtypes\\astype.py:145\u001b[0m, in \u001b[0;36m_astype_float_to_int_nansafe\u001b[1;34m(values, dtype, copy)\u001b[0m\n\u001b[0;32m    141\u001b[0m \u001b[38;5;250m\u001b[39m\u001b[38;5;124;03m\"\"\"\u001b[39;00m\n\u001b[0;32m    142\u001b[0m \u001b[38;5;124;03mastype with a check preventing converting NaN to an meaningless integer value.\u001b[39;00m\n\u001b[0;32m    143\u001b[0m \u001b[38;5;124;03m\"\"\"\u001b[39;00m\n\u001b[0;32m    144\u001b[0m \u001b[38;5;28;01mif\u001b[39;00m \u001b[38;5;129;01mnot\u001b[39;00m np\u001b[38;5;241m.\u001b[39misfinite(values)\u001b[38;5;241m.\u001b[39mall():\n\u001b[1;32m--> 145\u001b[0m     \u001b[38;5;28;01mraise\u001b[39;00m IntCastingNaNError(\n\u001b[0;32m    146\u001b[0m         \u001b[38;5;124m\"\u001b[39m\u001b[38;5;124mCannot convert non-finite values (NA or inf) to integer\u001b[39m\u001b[38;5;124m\"\u001b[39m\n\u001b[0;32m    147\u001b[0m     )\n\u001b[0;32m    148\u001b[0m \u001b[38;5;28;01mif\u001b[39;00m dtype\u001b[38;5;241m.\u001b[39mkind \u001b[38;5;241m==\u001b[39m \u001b[38;5;124m\"\u001b[39m\u001b[38;5;124mu\u001b[39m\u001b[38;5;124m\"\u001b[39m:\n\u001b[0;32m    149\u001b[0m     \u001b[38;5;66;03m# GH#45151\u001b[39;00m\n\u001b[0;32m    150\u001b[0m     \u001b[38;5;28;01mif\u001b[39;00m \u001b[38;5;129;01mnot\u001b[39;00m (values \u001b[38;5;241m>\u001b[39m\u001b[38;5;241m=\u001b[39m \u001b[38;5;241m0\u001b[39m)\u001b[38;5;241m.\u001b[39mall():\n",
      "\u001b[1;31mIntCastingNaNError\u001b[0m: Cannot convert non-finite values (NA or inf) to integer"
     ]
    }
   ],
   "source": [
    "pd.Series([np.nan, None, 1]).astype(np.int32) # интовые типы numpy не поддерживают наны"
   ]
  },
  {
   "cell_type": "code",
   "execution_count": null,
   "id": "5b03b950",
   "metadata": {},
   "outputs": [],
   "source": []
  },
  {
   "cell_type": "markdown",
   "id": "0a53e9c8",
   "metadata": {},
   "source": [
    "### `числовые`"
   ]
  },
  {
   "cell_type": "code",
   "execution_count": 23,
   "id": "e732b6f3",
   "metadata": {},
   "outputs": [
    {
     "name": "stdout",
     "output_type": "stream",
     "text": [
      "<class 'pandas.core.frame.DataFrame'>\n",
      "Index: 891 entries, id_0 to id_890\n",
      "Data columns (total 10 columns):\n",
      " #   Column       Non-Null Count  Dtype  \n",
      "---  ------       --------------  -----  \n",
      " 0   PassengerId  891 non-null    int64  \n",
      " 1   Survived     891 non-null    int64  \n",
      " 2   Pclass       891 non-null    int64  \n",
      " 3   Age          714 non-null    float64\n",
      " 4   SibSp        891 non-null    int64  \n",
      " 5   Parch        891 non-null    int64  \n",
      " 6   Fare         891 non-null    float64\n",
      " 7   new_col_1    891 non-null    int64  \n",
      " 8   new_col_2    891 non-null    int32  \n",
      " 9   new_col_3    714 non-null    float64\n",
      "dtypes: float64(3), int32(1), int64(6)\n",
      "memory usage: 105.4+ KB\n"
     ]
    }
   ],
   "source": [
    "df.select_dtypes(np.number).info() # по умолчанию числа - нумпаевские типы данных"
   ]
  },
  {
   "cell_type": "code",
   "execution_count": 24,
   "id": "431510f3",
   "metadata": {},
   "outputs": [
    {
     "data": {
      "text/plain": [
       "PassengerId    False\n",
       "Survived       False\n",
       "Pclass         False\n",
       "Name           False\n",
       "Sex            False\n",
       "Age            False\n",
       "SibSp          False\n",
       "Parch          False\n",
       "Ticket         False\n",
       "Fare           False\n",
       "Cabin          False\n",
       "Embarked       False\n",
       "new_col_1      False\n",
       "new_col_2       True\n",
       "new_col_3      False\n",
       "dtype: bool"
      ]
     },
     "execution_count": 24,
     "metadata": {},
     "output_type": "execute_result"
    }
   ],
   "source": [
    "df.dtypes == int # приколы"
   ]
  },
  {
   "cell_type": "code",
   "execution_count": null,
   "id": "5a54ac97-9a47-4625-ab74-0520d9ef87df",
   "metadata": {},
   "outputs": [],
   "source": []
  },
  {
   "cell_type": "markdown",
   "id": "ca03b71d",
   "metadata": {},
   "source": [
    "### `object`"
   ]
  },
  {
   "cell_type": "code",
   "execution_count": 25,
   "id": "5a14f5e7",
   "metadata": {},
   "outputs": [
    {
     "name": "stdout",
     "output_type": "stream",
     "text": [
      "<class 'pandas.core.frame.DataFrame'>\n",
      "Index: 891 entries, id_0 to id_890\n",
      "Data columns (total 5 columns):\n",
      " #   Column    Non-Null Count  Dtype \n",
      "---  ------    --------------  ----- \n",
      " 0   Name      891 non-null    object\n",
      " 1   Sex       891 non-null    object\n",
      " 2   Ticket    891 non-null    object\n",
      " 3   Cabin     204 non-null    object\n",
      " 4   Embarked  889 non-null    object\n",
      "dtypes: object(5)\n",
      "memory usage: 353.2 KB\n"
     ]
    }
   ],
   "source": [
    "df.select_dtypes(object).info(memory_usage='deep')"
   ]
  },
  {
   "cell_type": "code",
   "execution_count": 26,
   "id": "59a37e9b",
   "metadata": {},
   "outputs": [
    {
     "data": {
      "text/plain": [
       "47320"
      ]
     },
     "execution_count": 26,
     "metadata": {},
     "output_type": "execute_result"
    }
   ],
   "source": [
    "df.Sex.memory_usage('deep') # в байтах"
   ]
  },
  {
   "cell_type": "markdown",
   "id": "45ee92da",
   "metadata": {},
   "source": [
    "### [`string`](https://pandas.pydata.org/docs/user_guide/text.html) + [`.str`](https://pandas.pydata.org/docs/reference/series.html#api-series-str)\n",
    "\n",
    "`.astype('string')` > `.astype(str)`"
   ]
  },
  {
   "cell_type": "code",
   "execution_count": 27,
   "id": "2face7d8",
   "metadata": {},
   "outputs": [
    {
     "data": {
      "text/plain": [
       "47320"
      ]
     },
     "execution_count": 27,
     "metadata": {},
     "output_type": "execute_result"
    }
   ],
   "source": [
    "df.Sex.astype('string').memory_usage('deep')"
   ]
  },
  {
   "cell_type": "code",
   "execution_count": 28,
   "id": "6c81674e-064a-4d33-899e-5bab32bc975c",
   "metadata": {},
   "outputs": [
    {
     "name": "stdout",
     "output_type": "stream",
     "text": [
      "<class 'pandas.core.frame.DataFrame'>\n",
      "Index: 891 entries, id_0 to id_890\n",
      "Empty DataFrame\n"
     ]
    }
   ],
   "source": [
    "df.select_dtypes('string').info() # иначе нет возможности выбрать среди всех object-ов только строки"
   ]
  },
  {
   "cell_type": "code",
   "execution_count": 29,
   "id": "baa6c2b5",
   "metadata": {},
   "outputs": [
    {
     "data": {
      "text/plain": [
       "id_0      m\n",
       "id_1      f\n",
       "id_2      f\n",
       "id_3      f\n",
       "id_4      m\n",
       "         ..\n",
       "id_886    m\n",
       "id_887    f\n",
       "id_888    f\n",
       "id_889    m\n",
       "id_890    m\n",
       "Name: Sex, Length: 891, dtype: string"
      ]
     },
     "execution_count": 29,
     "metadata": {},
     "output_type": "execute_result"
    }
   ],
   "source": [
    "# пока колонки типа object, не гарантируется корректное выполнение всех методов через .str API\n",
    "df.Name = df.Name.astype('string')\n",
    "df.Sex = df.Sex.astype('string')\n",
    "\n",
    "df.Name.str.contains('Mr.') # .startswith, .endswith\n",
    "df.Sex.str.get(0)"
   ]
  },
  {
   "cell_type": "code",
   "execution_count": 30,
   "id": "12736e87-c012-469d-bb5c-d8d509843051",
   "metadata": {},
   "outputs": [
    {
     "data": {
      "text/plain": [
       "0    <NA>\n",
       "1    <NA>\n",
       "2    <NA>\n",
       "3    <NA>\n",
       "4     asd\n",
       "5     abc\n",
       "dtype: string"
      ]
     },
     "execution_count": 30,
     "metadata": {},
     "output_type": "execute_result"
    }
   ],
   "source": [
    "pd.Series([None, np.nan, pd.NA, pd.NaT, 'asd', 'abc']).astype(str) # Python str\n",
    "pd.Series([None, np.nan, pd.NA, pd.NaT, 'asd', 'abc']).astype('string') # Pandas string"
   ]
  },
  {
   "cell_type": "code",
   "execution_count": null,
   "id": "5ba5bf99-8e80-4994-b38b-17a08f7f5c1a",
   "metadata": {},
   "outputs": [],
   "source": []
  },
  {
   "cell_type": "code",
   "execution_count": 31,
   "id": "75dbc063-33c4-41f4-8894-da0cd0ac8acd",
   "metadata": {},
   "outputs": [
    {
     "name": "stdout",
     "output_type": "stream",
     "text": [
      "<class 'pandas.core.frame.DataFrame'>\n",
      "RangeIndex: 2 entries, 0 to 1\n",
      "Data columns (total 1 columns):\n",
      " #   Column  Non-Null Count  Dtype \n",
      "---  ------  --------------  ----- \n",
      " 0   inn     2 non-null      object\n",
      "dtypes: object(1)\n",
      "memory usage: 144.0+ bytes\n",
      "['7729082090' '5008006211'] \n",
      "\n",
      "\n",
      "<class 'pandas.core.frame.DataFrame'>\n",
      "RangeIndex: 2 entries, 0 to 1\n",
      "Data columns (total 1 columns):\n",
      " #   Column  Non-Null Count  Dtype\n",
      "---  ------  --------------  -----\n",
      " 0   inn     2 non-null      int64\n",
      "dtypes: int64(1)\n",
      "memory usage: 144.0 bytes\n",
      "[7729082090 5008006211] \n",
      "\n",
      "\n",
      "{'inn': dtype('O')}\n",
      "[7729082090 5008006211] \n",
      "\n",
      "\n"
     ]
    }
   ],
   "source": [
    "'''\n",
    "    .astype('string') позволяет избежать одной проблемы, которая есть у .astype('string').\n",
    "    Представим, что мы обучаем модель на выборке Х и имеем строковую колонку inn, которую pd.read_sql расценил как object.\n",
    "'''\n",
    "X = pd.DataFrame({'inn': ['7729082090', '5008006211']})\n",
    "X.inn = X.inn.astype(str)\n",
    "X.info()\n",
    "print(X.inn.values, '\\n\\n')\n",
    "\n",
    "'''\n",
    "    Дальше, нам в онлайн режиме приходят тестовые данные по этой колонке, но в силу особенностей сервиса, они считываются как int64...\n",
    "'''\n",
    "\n",
    "X_test = pd.DataFrame({'inn': [7729082090, 5008006211]})\n",
    "X_test.info()\n",
    "print(X_test.inn.values, '\\n\\n')\n",
    "\n",
    "'''\n",
    "    У вас эта колонка используется в модели, например, для того, чтобы парсить первую цифру ИНН: X.inn.str.get(0), но т.к. на тесте колонка интовая, все падает...\n",
    "    Выход? Сохранить типы данных, которые были на трейне и закастить в них тест:\n",
    "'''\n",
    "train_dtypes = X.dtypes.to_dict()\n",
    "print(train_dtypes)\n",
    "X_test = X_test.astype(train_dtypes)\n",
    "print(X_test.inn.values, '\\n\\n')"
   ]
  },
  {
   "cell_type": "markdown",
   "id": "1d769e08-437c-49f6-95eb-d8fd3a56c9bd",
   "metadata": {},
   "source": [
    "**Вывод:** используйте тип 'string' для строк всегда, когда можете"
   ]
  },
  {
   "cell_type": "code",
   "execution_count": null,
   "id": "9740fc1c-b76a-4ef0-b9c8-8fc557d66a62",
   "metadata": {},
   "outputs": [],
   "source": []
  },
  {
   "cell_type": "markdown",
   "id": "1f8a62bc",
   "metadata": {},
   "source": [
    "### [`category`](https://pandas.pydata.org/docs/user_guide/categorical.html) + [`.cat`](https://pandas.pydata.org/docs/reference/series.html#categorical-accessor)\n",
    "Tip: колонки с типом 'category' автоматически распознаются библиотекой град. бустинга lightgbm как категориальные (catboost - нет)"
   ]
  },
  {
   "cell_type": "code",
   "execution_count": 32,
   "id": "716f8603",
   "metadata": {},
   "outputs": [
    {
     "data": {
      "text/plain": [
       "41207"
      ]
     },
     "execution_count": 32,
     "metadata": {},
     "output_type": "execute_result"
    }
   ],
   "source": [
    "# занимает меньше памяти, т.к. хранятся коды-числа и словарик с переводом в строки\n",
    "df.Sex.astype('category').memory_usage('deep')"
   ]
  },
  {
   "cell_type": "code",
   "execution_count": 33,
   "id": "1346ada9",
   "metadata": {},
   "outputs": [
    {
     "name": "stdout",
     "output_type": "stream",
     "text": [
      "<class 'pandas.core.series.Series'>\n",
      "RangeIndex: 200000 entries, 0 to 199999\n",
      "Series name: None\n",
      "Non-Null Count   Dtype \n",
      "--------------   ----- \n",
      "200000 non-null  object\n",
      "dtypes: object(1)\n",
      "memory usage: 583.1 MB\n",
      "\n",
      "\n",
      "<class 'pandas.core.series.Series'>\n",
      "RangeIndex: 200000 entries, 0 to 199999\n",
      "Series name: None\n",
      "Non-Null Count   Dtype   \n",
      "--------------   -----   \n",
      "200000 non-null  category\n",
      "dtypes: category(1)\n",
      "memory usage: 201.5 KB\n"
     ]
    }
   ],
   "source": [
    "cat_a = 'abc' * 1000\n",
    "cat_b = 'dds' * 1000\n",
    "some_series = pd.Series(np.random.choice([cat_a, cat_b], size=200_000))\n",
    "\n",
    "some_series.info(memory_usage='deep')\n",
    "print('\\n')\n",
    "some_series.astype('category').info(memory_usage='deep')\n",
    "del some_series"
   ]
  },
  {
   "cell_type": "code",
   "execution_count": 34,
   "id": "71c13338",
   "metadata": {},
   "outputs": [
    {
     "data": {
      "text/plain": [
       "id_0      2\n",
       "id_1      0\n",
       "id_2      2\n",
       "id_3      0\n",
       "id_4      2\n",
       "         ..\n",
       "id_886    1\n",
       "id_887    0\n",
       "id_888    2\n",
       "id_889    0\n",
       "id_890    2\n",
       "Length: 891, dtype: int8"
      ]
     },
     "execution_count": 34,
     "metadata": {},
     "output_type": "execute_result"
    }
   ],
   "source": [
    "df.Pclass = df.Pclass.astype('category') # df.select_dtypes('category')\n",
    "df.Pclass.cat.codes # .cat.codes - числа [0, ..., k], k - количество уникальных категорий"
   ]
  },
  {
   "cell_type": "code",
   "execution_count": 35,
   "id": "6b7fd56c-2625-4d83-96c3-4030fad0e5d8",
   "metadata": {},
   "outputs": [
    {
     "data": {
      "text/plain": [
       "['213', 1, NaN, NaN]\n",
       "Categories (2, object): [1, '213']"
      ]
     },
     "execution_count": 35,
     "metadata": {},
     "output_type": "execute_result"
    }
   ],
   "source": [
    "pd.Series(['213', 1, np.nan, pd.NA]).astype('category').values #.cat.codes"
   ]
  },
  {
   "cell_type": "code",
   "execution_count": 36,
   "id": "840bf514-d905-483b-9751-4b90a4179512",
   "metadata": {},
   "outputs": [
    {
     "name": "stdout",
     "output_type": "stream",
     "text": [
      "<class 'pandas.core.frame.DataFrame'>\n",
      "RangeIndex: 3 entries, 0 to 2\n",
      "Data columns (total 2 columns):\n",
      " #   Column       Non-Null Count  Dtype   \n",
      "---  ------       --------------  -----   \n",
      " 0   animal_type  3 non-null      category\n",
      " 1   leg_count    3 non-null      int64   \n",
      "dtypes: category(1), int64(1)\n",
      "memory usage: 287.0 bytes\n",
      "\n",
      " 0    human_1\n",
      "1    zebra_2\n",
      "2      dog_0\n",
      "dtype: string \n",
      "\n",
      "\n",
      "\n",
      " 0    dog_1\n",
      "1    dog_1\n",
      "2    cat_0\n",
      "dtype: string\n"
     ]
    }
   ],
   "source": [
    "'''\n",
    "    Рассмотрим один нюанс, за которым нужно приглядывать. Есть трейн и тест, есть таргет leg_count и строковая колонка animal_type,\n",
    "        которую вы хотите сделать категориальной и обучить на ней модель. Вы пишете трансформер, делаете какой-то feature engineering и скармливаете это своей модели.\n",
    "'''\n",
    "X = pd.DataFrame({'animal_type': ['human', 'zebra', 'dog'], 'leg_count': [2, 4, 4]})\n",
    "\n",
    "def feature_engineering(X):\n",
    "    pass\n",
    "    X.animal_type = X.animal_type.astype('category')\n",
    "    pass\n",
    "    return X\n",
    "\n",
    "X = feature_engineering(X)\n",
    "X.info()\n",
    "print('\\n', X.animal_type.astype('string') + '_' + X.animal_type.cat.codes.astype('string'), '\\n\\n')\n",
    "\n",
    "'''\n",
    "    Модели машинного обучения используют категории через их коды, а не строковые/другие представления, которые мы видим.\n",
    "    По кодам с обучения, модель выучила закономерность: если код равен 0 или 2, то ответ 4, если код равен 1, то ответ 2.\n",
    "    \n",
    "    Дальше, нам в онлайн режиме приходят тестовые данные, которые мы суем в feature_engineering и пытаемся сделать предсказание нашей моделью...\n",
    "'''\n",
    "\n",
    "X_test =pd.DataFrame({'animal_type': ['dog', 'dog', 'cat']})\n",
    "X_test = feature_engineering(X_test)\n",
    "print('\\n', X_test.animal_type.astype('string') + '_' + X_test.animal_type.cat.codes.astype('string'))\n",
    "\n",
    "'''\n",
    "    Что делать?\n",
    "'''\n",
    "\n",
    "pass"
   ]
  },
  {
   "cell_type": "markdown",
   "id": "cb6d9bdf-2610-4e90-8e81-d03cbaaab589",
   "metadata": {},
   "source": [
    "**Вывод:** ..."
   ]
  },
  {
   "cell_type": "code",
   "execution_count": null,
   "id": "6df9fbf9-4b86-4b8a-9487-7ad9df7dd1a2",
   "metadata": {},
   "outputs": [],
   "source": []
  },
  {
   "cell_type": "markdown",
   "id": "03161d71",
   "metadata": {},
   "source": [
    "### [`datetime64`](https://pandas.pydata.org/docs/user_guide/timeseries.html), [`timedelta64`](https://pandas.pydata.org/docs/user_guide/timedeltas.html) + [`.dt`](https://pandas.pydata.org/docs/reference/series.html#datetimelike-properties)\n",
    "\n",
    "- `datetime64`"
   ]
  },
  {
   "cell_type": "code",
   "execution_count": 37,
   "id": "ffcbad03",
   "metadata": {},
   "outputs": [
    {
     "data": {
      "text/plain": [
       "0             2023-01-03\n",
       "1    2023-01-12 13:47:00\n",
       "dtype: object"
      ]
     },
     "execution_count": 37,
     "metadata": {},
     "output_type": "execute_result"
    }
   ],
   "source": [
    "dt_series = pd.Series(['2023-01-03', '2023-01-12 13:47:00'])\n",
    "dt_series"
   ]
  },
  {
   "cell_type": "code",
   "execution_count": 38,
   "id": "95438744",
   "metadata": {},
   "outputs": [
    {
     "data": {
      "text/plain": [
       "0   2023-01-03 00:00:00\n",
       "1   2023-01-12 13:47:00\n",
       "dtype: datetime64[ns]"
      ]
     },
     "execution_count": 38,
     "metadata": {},
     "output_type": "execute_result"
    }
   ],
   "source": [
    "dt_series = pd.to_datetime(dt_series, format='mixed') # читайте документацию по аргументу format! \n",
    "dt_series"
   ]
  },
  {
   "cell_type": "code",
   "execution_count": 42,
   "id": "4f9b99dc",
   "metadata": {},
   "outputs": [
    {
     "data": {
      "text/plain": [
       "0   2023-01-03 00:00:00\n",
       "1   2023-01-12 14:00:00\n",
       "dtype: datetime64[ns]"
      ]
     },
     "execution_count": 42,
     "metadata": {},
     "output_type": "execute_result"
    }
   ],
   "source": [
    "dt_series.dt.day\n",
    "dt_series.dt.dayofweek\n",
    "dt_series.dt.hour\n",
    "dt_series.dt.round('1h')"
   ]
  },
  {
   "cell_type": "code",
   "execution_count": 43,
   "id": "23761755",
   "metadata": {},
   "outputs": [
    {
     "data": {
      "text/plain": [
       "Timestamp('2023-01-03 00:00:00')"
      ]
     },
     "execution_count": 43,
     "metadata": {},
     "output_type": "execute_result"
    }
   ],
   "source": [
    "dt_series[0]"
   ]
  },
  {
   "cell_type": "code",
   "execution_count": 44,
   "id": "d501bd41-6681-46c5-aa41-d0dd621c3480",
   "metadata": {},
   "outputs": [
    {
     "data": {
      "text/plain": [
       "Timestamp('2024-09-18 19:34:58.135728')"
      ]
     },
     "execution_count": 44,
     "metadata": {},
     "output_type": "execute_result"
    }
   ],
   "source": [
    "pd.to_datetime('now')"
   ]
  },
  {
   "cell_type": "markdown",
   "id": "1212255c",
   "metadata": {},
   "source": [
    "- `timedelta64`"
   ]
  },
  {
   "cell_type": "code",
   "execution_count": 45,
   "id": "3dd0d59d",
   "metadata": {},
   "outputs": [
    {
     "data": {
      "text/plain": [
       "Timedelta('-10 days +10:13:00')"
      ]
     },
     "execution_count": 45,
     "metadata": {},
     "output_type": "execute_result"
    }
   ],
   "source": [
    "some_timedelta = dt_series[0] - dt_series[1]\n",
    "some_timedelta"
   ]
  },
  {
   "cell_type": "code",
   "execution_count": 46,
   "id": "3a82717a",
   "metadata": {},
   "outputs": [
    {
     "data": {
      "text/plain": [
       "0    2 days 00:00:00\n",
       "1   11 days 13:47:00\n",
       "dtype: timedelta64[ns]"
      ]
     },
     "execution_count": 46,
     "metadata": {},
     "output_type": "execute_result"
    }
   ],
   "source": [
    "timedelta_series = dt_series - pd.to_datetime(['2023-01-01'] * 2)\n",
    "timedelta_series"
   ]
  },
  {
   "cell_type": "code",
   "execution_count": 47,
   "id": "ba459438-9947-4041-b8df-ef2e84b5e95d",
   "metadata": {},
   "outputs": [
    {
     "data": {
      "text/plain": [
       "Timestamp('2024-01-01 22:59:59')"
      ]
     },
     "execution_count": 47,
     "metadata": {},
     "output_type": "execute_result"
    }
   ],
   "source": [
    "pd.to_datetime('20240101 235959') - pd.to_timedelta('1h') # отнять один час"
   ]
  },
  {
   "cell_type": "code",
   "execution_count": 48,
   "id": "6ad823ac",
   "metadata": {},
   "outputs": [
    {
     "data": {
      "text/plain": [
       "0     2\n",
       "1    11\n",
       "dtype: int64"
      ]
     },
     "execution_count": 48,
     "metadata": {},
     "output_type": "execute_result"
    }
   ],
   "source": [
    "timedelta_series.dt.total_seconds()\n",
    "timedelta_series.dt.days"
   ]
  },
  {
   "cell_type": "code",
   "execution_count": null,
   "id": "922d5ae0-3e8d-4922-baea-ba296a0e759e",
   "metadata": {},
   "outputs": [],
   "source": []
  },
  {
   "cell_type": "markdown",
   "id": "71bf2426-bf78-4c3d-9d9c-9a3fb30d9a5b",
   "metadata": {},
   "source": [
    "### Pandas nullable dtypes"
   ]
  },
  {
   "cell_type": "markdown",
   "id": "8625b737-4454-441e-9ff5-d51b6bb01683",
   "metadata": {},
   "source": [
    "- [nullable integers](https://pandas.pydata.org/docs/user_guide/integer_na.html)\n",
    "- [nullable boolean](https://pandas.pydata.org/docs/user_guide/boolean.html)\n",
    "- [nullable strings](https://pandas.pydata.org/docs/user_guide/text.html)\n",
    "\n",
    "- поддерживают пропущенные значения в виде pd.NA\n",
    "- занимают не меньше места, чем их аналоги\n",
    "- не факт, что поддерживаются сторонними библиотеками"
   ]
  },
  {
   "cell_type": "code",
   "execution_count": null,
   "id": "0cc05abf-40f2-495b-85ff-5543ac1e4a7d",
   "metadata": {},
   "outputs": [],
   "source": []
  },
  {
   "cell_type": "markdown",
   "id": "53aa17bf",
   "metadata": {},
   "source": [
    "## - subqueries: `.loc`, `.iloc`, [`.query`](https://pandas.pydata.org/docs/reference/api/pandas.DataFrame.query.html)"
   ]
  },
  {
   "cell_type": "code",
   "execution_count": 49,
   "id": "9db66ae6",
   "metadata": {},
   "outputs": [
    {
     "data": {
      "text/html": [
       "<div>\n",
       "<style scoped>\n",
       "    .dataframe tbody tr th:only-of-type {\n",
       "        vertical-align: middle;\n",
       "    }\n",
       "\n",
       "    .dataframe tbody tr th {\n",
       "        vertical-align: top;\n",
       "    }\n",
       "\n",
       "    .dataframe thead th {\n",
       "        text-align: right;\n",
       "    }\n",
       "</style>\n",
       "<table border=\"1\" class=\"dataframe\">\n",
       "  <thead>\n",
       "    <tr style=\"text-align: right;\">\n",
       "      <th></th>\n",
       "      <th>Pclass</th>\n",
       "      <th>Name</th>\n",
       "    </tr>\n",
       "  </thead>\n",
       "  <tbody>\n",
       "    <tr>\n",
       "      <th>id_13</th>\n",
       "      <td>3</td>\n",
       "      <td>Andersson, Mr. Anders Johan</td>\n",
       "    </tr>\n",
       "    <tr>\n",
       "      <th>id_14</th>\n",
       "      <td>3</td>\n",
       "      <td>Vestrom, Miss. Hulda Amanda Adolfina</td>\n",
       "    </tr>\n",
       "    <tr>\n",
       "      <th>id_15</th>\n",
       "      <td>2</td>\n",
       "      <td>Hewlett, Mrs. (Mary D Kingcome)</td>\n",
       "    </tr>\n",
       "    <tr>\n",
       "      <th>id_16</th>\n",
       "      <td>3</td>\n",
       "      <td>Rice, Master. Eugene</td>\n",
       "    </tr>\n",
       "    <tr>\n",
       "      <th>id_17</th>\n",
       "      <td>2</td>\n",
       "      <td>Williams, Mr. Charles Eugene</td>\n",
       "    </tr>\n",
       "    <tr>\n",
       "      <th>...</th>\n",
       "      <td>...</td>\n",
       "      <td>...</td>\n",
       "    </tr>\n",
       "    <tr>\n",
       "      <th>id_108</th>\n",
       "      <td>3</td>\n",
       "      <td>Rekic, Mr. Tido</td>\n",
       "    </tr>\n",
       "    <tr>\n",
       "      <th>id_109</th>\n",
       "      <td>3</td>\n",
       "      <td>Moran, Miss. Bertha</td>\n",
       "    </tr>\n",
       "    <tr>\n",
       "      <th>id_110</th>\n",
       "      <td>1</td>\n",
       "      <td>Porter, Mr. Walter Chamberlain</td>\n",
       "    </tr>\n",
       "    <tr>\n",
       "      <th>id_111</th>\n",
       "      <td>3</td>\n",
       "      <td>Zabour, Miss. Hileni</td>\n",
       "    </tr>\n",
       "    <tr>\n",
       "      <th>id_112</th>\n",
       "      <td>3</td>\n",
       "      <td>Barton, Mr. David John</td>\n",
       "    </tr>\n",
       "  </tbody>\n",
       "</table>\n",
       "<p>100 rows × 2 columns</p>\n",
       "</div>"
      ],
      "text/plain": [
       "       Pclass                                  Name\n",
       "id_13       3           Andersson, Mr. Anders Johan\n",
       "id_14       3  Vestrom, Miss. Hulda Amanda Adolfina\n",
       "id_15       2      Hewlett, Mrs. (Mary D Kingcome) \n",
       "id_16       3                  Rice, Master. Eugene\n",
       "id_17       2          Williams, Mr. Charles Eugene\n",
       "...       ...                                   ...\n",
       "id_108      3                       Rekic, Mr. Tido\n",
       "id_109      3                   Moran, Miss. Bertha\n",
       "id_110      1        Porter, Mr. Walter Chamberlain\n",
       "id_111      3                  Zabour, Miss. Hileni\n",
       "id_112      3                Barton, Mr. David John\n",
       "\n",
       "[100 rows x 2 columns]"
      ]
     },
     "execution_count": 49,
     "metadata": {},
     "output_type": "execute_result"
    }
   ],
   "source": [
    "# ЧЕРЕЗ .loc / .iloc\n",
    "df.loc[(df.Age < 12) | (df.Age.isnull()), 'Age'] # Series\n",
    "df.loc[(df.Age < 12) | (df.Age.isnull()), ['Age']] # DataFrame\n",
    "df.loc[(df.Age < 12) | (df.Age.isnull()), ['Age', 'Pclass']] # DataFrame\n",
    "df.loc[(df.Age < 12) | (df.Age.isnull())] # DataFrame со всеми колонками\n",
    "df[(df.Age < 12) | (df.Age.isnull())] # то что выше, но короче\n",
    "df.loc[:, ['Age', 'Pclass']] # ~ df[['Age', 'Pclass']]\n",
    "df.loc[df.Age.isnull(), 'Age'] = 35 # присваивание\n",
    "df.iloc[13:113, [2, 3]]"
   ]
  },
  {
   "cell_type": "code",
   "execution_count": 50,
   "id": "c7ccd059",
   "metadata": {},
   "outputs": [
    {
     "data": {
      "text/plain": [
       "id_1     Cumings, Mrs. John Bradley (Florence Briggs Th...\n",
       "id_8     Johnson, Mrs. Oscar W (Elisabeth Vilhelmina Berg)\n",
       "id_41    Turpin, Mrs. William John Robert (Dorothy Ann ...\n",
       "Name: Name, dtype: string"
      ]
     },
     "execution_count": 50,
     "metadata": {},
     "output_type": "execute_result"
    }
   ],
   "source": [
    "# ЧЕРЕЗ .query\n",
    "# Если можно выразить ваше желание через .query, используйте .query!\n",
    "\n",
    "max_age = 12\n",
    "df.query('Age < @max_age or Age.isnull()') # DataFrame\n",
    "df.query('Name.str.contains(\"John\")').Name.head(3) # Series"
   ]
  },
  {
   "cell_type": "code",
   "execution_count": null,
   "id": "af4789ae",
   "metadata": {},
   "outputs": [],
   "source": []
  },
  {
   "cell_type": "code",
   "execution_count": null,
   "id": "cd064cfd-319f-48ac-97b7-d82c817e6094",
   "metadata": {},
   "outputs": [],
   "source": []
  },
  {
   "cell_type": "markdown",
   "id": "a63975f3",
   "metadata": {},
   "source": [
    "## - [операции с pd.Series](https://pandas.pydata.org/docs/reference/series.html)\n",
    "\n",
    "API: pd.Series.X\n",
    "\n",
    "- +-*/&| vs .add, ...\n",
    "- сравнения\n",
    "- `apply, agg, map, transform`\n",
    "- [stats](https://pandas.pydata.org/docs/reference/series.html#computations-descriptive-stats)\n",
    "- `value_counts`\n",
    "- round - округлить\n",
    "- nunique, unique - уникальные элементы\n",
    "- replace - заменить одни значения на другие\n",
    "- dropna - выкинуть пропуски\n",
    "- drop_duplicates - выкинуть дубликаты\n",
    "- sample - посэмлить случайные объекты. учтите, что индекс перемешивается\n",
    "- sort_values, sort_index\n",
    "- `.plot` accessor\n",
    "- to_dict - вернуть в качестве словарика {index: value, ...}"
   ]
  },
  {
   "cell_type": "code",
   "execution_count": null,
   "id": "bcfc031f",
   "metadata": {},
   "outputs": [],
   "source": []
  },
  {
   "cell_type": "markdown",
   "id": "60b6e286",
   "metadata": {},
   "source": [
    "### `apply, agg, map, transform`"
   ]
  },
  {
   "cell_type": "code",
   "execution_count": 51,
   "id": "ac0a5108",
   "metadata": {},
   "outputs": [
    {
     "data": {
      "text/plain": [
       "0     1.0\n",
       "1    10.0\n",
       "2    20.0\n",
       "3     NaN\n",
       "dtype: float64"
      ]
     },
     "execution_count": 51,
     "metadata": {},
     "output_type": "execute_result"
    }
   ],
   "source": [
    "numeric_series = pd.Series([1, 10, 20, np.nan])\n",
    "numeric_series"
   ]
  },
  {
   "cell_type": "markdown",
   "id": "d482214c",
   "metadata": {},
   "source": [
    "- `apply` - Invoke function on values of Series.\n",
    "\n",
    "Can be ufunc (a NumPy function that applies to the entire Series) or a Python function that only works on single values."
   ]
  },
  {
   "cell_type": "code",
   "execution_count": 52,
   "id": "7a111894",
   "metadata": {},
   "outputs": [
    {
     "data": {
      "text/plain": [
       "31.0"
      ]
     },
     "execution_count": 52,
     "metadata": {},
     "output_type": "execute_result"
    }
   ],
   "source": [
    "numeric_series.apply(lambda x: x ** 2 if x > 5 else np.nan) # поэлементно\n",
    "numeric_series.apply('sum') # ко всей серии"
   ]
  },
  {
   "cell_type": "markdown",
   "id": "3e35fe25",
   "metadata": {},
   "source": [
    "- `agg` - применить агрегирующие функции вида `pd.Series -> scalar`"
   ]
  },
  {
   "cell_type": "code",
   "execution_count": 53,
   "id": "b576b849",
   "metadata": {},
   "outputs": [
    {
     "data": {
      "text/plain": [
       "mean        10.333333\n",
       "sum         31.000000\n",
       "<lambda>    31.000000\n",
       "dtype: float64"
      ]
     },
     "execution_count": 53,
     "metadata": {},
     "output_type": "execute_result"
    }
   ],
   "source": [
    "numeric_series.agg(['mean', 'sum', lambda x: x.sum()])"
   ]
  },
  {
   "cell_type": "markdown",
   "id": "8ccf8bd3",
   "metadata": {},
   "source": [
    "- `map` - замена одних значений на другие"
   ]
  },
  {
   "cell_type": "code",
   "execution_count": 54,
   "id": "cd4e8ae9",
   "metadata": {},
   "outputs": [
    {
     "data": {
      "text/plain": [
       "0     2.0\n",
       "1    11.0\n",
       "2    21.0\n",
       "3     NaN\n",
       "dtype: float64"
      ]
     },
     "execution_count": 54,
     "metadata": {},
     "output_type": "execute_result"
    }
   ],
   "source": [
    "numeric_series.map({1.: 120, np.nan: 32})\n",
    "numeric_series.map(lambda x: x + 1)"
   ]
  },
  {
   "cell_type": "markdown",
   "id": "998b1a2a",
   "metadata": {},
   "source": [
    "- `transform` -  Call func on self producing a Series with the same axis shape as self"
   ]
  },
  {
   "cell_type": "code",
   "execution_count": 55,
   "id": "f0dbf84f",
   "metadata": {},
   "outputs": [
    {
     "data": {
      "text/plain": [
       "0     1.0\n",
       "1    11.0\n",
       "2    22.0\n",
       "3     NaN\n",
       "dtype: float64"
      ]
     },
     "execution_count": 55,
     "metadata": {},
     "output_type": "execute_result"
    }
   ],
   "source": [
    "def my_func(input_series: pd.Series):\n",
    "    tmp_series = pd.Series(np.arange(input_series.shape[0]))\n",
    "    return input_series + tmp_series\n",
    "\n",
    "numeric_series.transform(my_func)"
   ]
  },
  {
   "cell_type": "code",
   "execution_count": null,
   "id": "1ae8221e",
   "metadata": {},
   "outputs": [],
   "source": []
  },
  {
   "cell_type": "markdown",
   "id": "f155d333",
   "metadata": {},
   "source": [
    "### `value_counts` - просто очень полезно"
   ]
  },
  {
   "cell_type": "code",
   "execution_count": 56,
   "id": "986fc1f2",
   "metadata": {},
   "outputs": [
    {
     "data": {
      "text/plain": [
       "D    0.384\n",
       "C    0.297\n",
       "B    0.216\n",
       "A    0.103\n",
       "Name: proportion, dtype: float64"
      ]
     },
     "execution_count": 56,
     "metadata": {},
     "output_type": "execute_result"
    }
   ],
   "source": [
    "some_series = pd.Series(np.random.choice([*'ABCD'], size=1000, p=[0.1, 0.2, 0.3, 0.4]))\n",
    "some_series.value_counts()\n",
    "some_series.value_counts(dropna=True, normalize=True, bins=None)"
   ]
  },
  {
   "cell_type": "code",
   "execution_count": null,
   "id": "7ada4b61",
   "metadata": {},
   "outputs": [],
   "source": []
  },
  {
   "cell_type": "markdown",
   "id": "3ba6e879",
   "metadata": {},
   "source": [
    "### [`.plot`](https://pandas.pydata.org/docs/reference/api/pandas.Series.plot.html#pandas-series-plot) - если нужно по-быстрому"
   ]
  },
  {
   "cell_type": "code",
   "execution_count": 57,
   "id": "eee24521",
   "metadata": {},
   "outputs": [
    {
     "data": {
      "text/plain": [
       "<Axes: ylabel='Frequency'>"
      ]
     },
     "execution_count": 57,
     "metadata": {},
     "output_type": "execute_result"
    },
    {
     "data": {
      "image/png": "[encoded data removed]",
      "text/plain": [
       "<Figure size 640x480 with 1 Axes>"
      ]
     },
     "metadata": {},
     "output_type": "display_data"
    }
   ],
   "source": [
    "some_series = pd.Series(np.random.normal(size=1000))\n",
    "some_series.plot(kind='hist', bins=33)"
   ]
  },
  {
   "cell_type": "code",
   "execution_count": null,
   "id": "de3d93c0",
   "metadata": {},
   "outputs": [],
   "source": []
  },
  {
   "cell_type": "markdown",
   "id": "a3f9f363",
   "metadata": {
    "jp-MarkdownHeadingCollapsed": true
   },
   "source": [
    "## - [операции с pd.DataFrame](https://pandas.pydata.org/docs/reference/frame.html)\n",
    "\n",
    "API: pd.DataFrame.X\n",
    "\n",
    "- `groupby`\n",
    "- iterrows - забудьте про это\n",
    "- [rolling](https://pandas.pydata.org/docs/user_guide/window.html) - скользящие окна\n",
    "- query - симпатичный способ общаться с датафреймом\n",
    "- corr - построить матрицу корреляций признаков\n",
    "- drop - выкинуть какие-то столбцы / строки\n",
    "- drop_duplicates\n",
    "- reset_index - сбросить индекс к RangeIndex(0, N)\n",
    "- sort_values - отсортировать по столбцу\n",
    "- merge - `Merge with a database-style join`. Не используйте `pd.DataFrame.join`!\n",
    "- sample\n",
    "- assign - присвоить новые столбцы и вернуть результат как новый датафрейм\n",
    "- to_csv, to_parquet - сохранить датафрейм\n"
   ]
  },
  {
   "attachments": {},
   "cell_type": "markdown",
   "id": "b72f1828",
   "metadata": {},
   "source": [
    "### [`groupby`](https://pandas.pydata.org/docs/user_guide/groupby.html)"
   ]
  },
  {
   "cell_type": "markdown",
   "id": "2d9f62a9",
   "metadata": {},
   "source": [
    "<img src='img/groupby.png' width=600>"
   ]
  },
  {
   "cell_type": "code",
   "execution_count": 58,
   "id": "e20c50db",
   "metadata": {},
   "outputs": [
    {
     "data": {
      "text/html": [
       "<div>\n",
       "<style scoped>\n",
       "    .dataframe tbody tr th:only-of-type {\n",
       "        vertical-align: middle;\n",
       "    }\n",
       "\n",
       "    .dataframe tbody tr th {\n",
       "        vertical-align: top;\n",
       "    }\n",
       "\n",
       "    .dataframe thead th {\n",
       "        text-align: right;\n",
       "    }\n",
       "</style>\n",
       "<table border=\"1\" class=\"dataframe\">\n",
       "  <thead>\n",
       "    <tr style=\"text-align: right;\">\n",
       "      <th></th>\n",
       "      <th>PassengerId</th>\n",
       "      <th>Survived</th>\n",
       "      <th>Pclass</th>\n",
       "      <th>Name</th>\n",
       "      <th>Sex</th>\n",
       "      <th>Age</th>\n",
       "      <th>SibSp</th>\n",
       "      <th>Parch</th>\n",
       "      <th>Ticket</th>\n",
       "      <th>Fare</th>\n",
       "      <th>Cabin</th>\n",
       "      <th>Embarked</th>\n",
       "      <th>new_col_1</th>\n",
       "      <th>new_col_2</th>\n",
       "      <th>new_col_3</th>\n",
       "    </tr>\n",
       "  </thead>\n",
       "  <tbody>\n",
       "    <tr>\n",
       "      <th>id_0</th>\n",
       "      <td>1</td>\n",
       "      <td>0</td>\n",
       "      <td>3</td>\n",
       "      <td>Braund, Mr. Owen Harris</td>\n",
       "      <td>male</td>\n",
       "      <td>22.0</td>\n",
       "      <td>1</td>\n",
       "      <td>0</td>\n",
       "      <td>A/5 21171</td>\n",
       "      <td>7.2500</td>\n",
       "      <td>NaN</td>\n",
       "      <td>S</td>\n",
       "      <td>112</td>\n",
       "      <td>1</td>\n",
       "      <td>484.0</td>\n",
       "    </tr>\n",
       "    <tr>\n",
       "      <th>id_1</th>\n",
       "      <td>2</td>\n",
       "      <td>1</td>\n",
       "      <td>1</td>\n",
       "      <td>Cumings, Mrs. John Bradley (Florence Briggs Th...</td>\n",
       "      <td>female</td>\n",
       "      <td>38.0</td>\n",
       "      <td>1</td>\n",
       "      <td>0</td>\n",
       "      <td>PC 17599</td>\n",
       "      <td>71.2833</td>\n",
       "      <td>C85</td>\n",
       "      <td>C</td>\n",
       "      <td>112</td>\n",
       "      <td>0</td>\n",
       "      <td>1444.0</td>\n",
       "    </tr>\n",
       "    <tr>\n",
       "      <th>id_2</th>\n",
       "      <td>3</td>\n",
       "      <td>1</td>\n",
       "      <td>3</td>\n",
       "      <td>Heikkinen, Miss. Laina</td>\n",
       "      <td>female</td>\n",
       "      <td>26.0</td>\n",
       "      <td>0</td>\n",
       "      <td>0</td>\n",
       "      <td>STON/O2. 3101282</td>\n",
       "      <td>7.9250</td>\n",
       "      <td>NaN</td>\n",
       "      <td>S</td>\n",
       "      <td>112</td>\n",
       "      <td>1</td>\n",
       "      <td>676.0</td>\n",
       "    </tr>\n",
       "  </tbody>\n",
       "</table>\n",
       "</div>"
      ],
      "text/plain": [
       "      PassengerId  Survived Pclass  \\\n",
       "id_0            1         0      3   \n",
       "id_1            2         1      1   \n",
       "id_2            3         1      3   \n",
       "\n",
       "                                                   Name     Sex   Age  SibSp  \\\n",
       "id_0                            Braund, Mr. Owen Harris    male  22.0      1   \n",
       "id_1  Cumings, Mrs. John Bradley (Florence Briggs Th...  female  38.0      1   \n",
       "id_2                             Heikkinen, Miss. Laina  female  26.0      0   \n",
       "\n",
       "      Parch            Ticket     Fare Cabin Embarked  new_col_1  new_col_2  \\\n",
       "id_0      0         A/5 21171   7.2500   NaN        S        112          1   \n",
       "id_1      0          PC 17599  71.2833   C85        C        112          0   \n",
       "id_2      0  STON/O2. 3101282   7.9250   NaN        S        112          1   \n",
       "\n",
       "      new_col_3  \n",
       "id_0      484.0  \n",
       "id_1     1444.0  \n",
       "id_2      676.0  "
      ]
     },
     "metadata": {},
     "output_type": "display_data"
    },
    {
     "data": {
      "text/plain": [
       "Pclass\n",
       "3    491\n",
       "1    216\n",
       "2    184\n",
       "Name: count, dtype: int64"
      ]
     },
     "execution_count": 58,
     "metadata": {},
     "output_type": "execute_result"
    }
   ],
   "source": [
    "display(df.head(3))\n",
    "df.Pclass.value_counts()"
   ]
  },
  {
   "cell_type": "code",
   "execution_count": 59,
   "id": "427e00d3",
   "metadata": {},
   "outputs": [
    {
     "data": {
      "text/html": [
       "<div>\n",
       "<style scoped>\n",
       "    .dataframe tbody tr th:only-of-type {\n",
       "        vertical-align: middle;\n",
       "    }\n",
       "\n",
       "    .dataframe tbody tr th {\n",
       "        vertical-align: top;\n",
       "    }\n",
       "\n",
       "    .dataframe thead th {\n",
       "        text-align: right;\n",
       "    }\n",
       "</style>\n",
       "<table border=\"1\" class=\"dataframe\">\n",
       "  <thead>\n",
       "    <tr style=\"text-align: right;\">\n",
       "      <th></th>\n",
       "      <th>Pclass</th>\n",
       "      <th>mean_age</th>\n",
       "      <th>median_fare</th>\n",
       "    </tr>\n",
       "  </thead>\n",
       "  <tbody>\n",
       "    <tr>\n",
       "      <th>0</th>\n",
       "      <td>1</td>\n",
       "      <td>37.784352</td>\n",
       "      <td>60.2875</td>\n",
       "    </tr>\n",
       "    <tr>\n",
       "      <th>1</th>\n",
       "      <td>2</td>\n",
       "      <td>30.183859</td>\n",
       "      <td>14.2500</td>\n",
       "    </tr>\n",
       "    <tr>\n",
       "      <th>2</th>\n",
       "      <td>3</td>\n",
       "      <td>27.871527</td>\n",
       "      <td>8.0500</td>\n",
       "    </tr>\n",
       "  </tbody>\n",
       "</table>\n",
       "</div>"
      ],
      "text/plain": [
       "  Pclass   mean_age  median_fare\n",
       "0      1  37.784352      60.2875\n",
       "1      2  30.183859      14.2500\n",
       "2      3  27.871527       8.0500"
      ]
     },
     "execution_count": 59,
     "metadata": {},
     "output_type": "execute_result"
    }
   ],
   "source": [
    "# SeriesGroupBy object\n",
    "(\n",
    "    df\n",
    "    .groupby('Pclass', observed=False)['Age'] # SeriesGroupBy object\n",
    "    .apply(np.mean) # Function application\n",
    ")\n",
    "\n",
    "# SeriesGroupBy object\n",
    "(\n",
    "    df\n",
    "    .groupby('Pclass', observed=False)['Age'] # SeriesGroupBy object\n",
    "    .transform(lambda x: x.mean()) # Function application\n",
    ")\n",
    "\n",
    "# # DataFrameGroupBy object\n",
    "(\n",
    "    df\n",
    "    .groupby('Pclass', observed=False) # DataFrameGroupBy object\n",
    "    .agg( # Function application with NamedAgg\n",
    "        mean_age=pd.NamedAgg(column='Age', aggfunc='mean'),\n",
    "        median_fare=pd.NamedAgg(column='Fare', aggfunc=lambda x: x.median())\n",
    "    ) \n",
    "    .reset_index()\n",
    ")"
   ]
  },
  {
   "cell_type": "markdown",
   "id": "14bb9428",
   "metadata": {},
   "source": [
    "Доступные варианты функций:\n",
    "- `apply`\n",
    "- `agg`\n",
    "- `transform`\n",
    "- `filter`\n",
    "- `pipe` - ни разу не встречал"
   ]
  },
  {
   "cell_type": "code",
   "execution_count": null,
   "id": "8c4d5c3d",
   "metadata": {},
   "outputs": [],
   "source": []
  },
  {
   "cell_type": "markdown",
   "id": "954a3e20",
   "metadata": {},
   "source": [
    "## - [General functions](https://pandas.pydata.org/docs/reference/general_functions.html)\n",
    "\n",
    "API: pd.X\n",
    "\n",
    "- cut, qcut - нарезать числовой признак на бины\n",
    "- concat - поставить датафреймы друг на друга или рядом друг с другом\n",
    "- get_dummies - One-Hot Encoding\n",
    "- to_numeric, to_datetime - перевести в числовой формат / в формат datetime64 \n",
    "- date_range - интервал дат с заданной периодичностью / размером\n",
    "- read_sql / to_sql - считать/записать датафрейм из/в СУБД\n",
    "- read_csv / to_csv\n",
    "- `read_parquet` / `to_parquet`\n",
    "    - датафреймы сохраняются/считываются как удобный для пандаса сжатый бинарник, который помнит типы данных (csv - не помнит)\n",
    "    - очень быстро! на порядки быстрее read_csv / to_csv\n",
    "    - не поддерживает некоторые \"типы\" (всякий мусор запаркетить не получится :)"
   ]
  },
  {
   "cell_type": "code",
   "execution_count": 60,
   "id": "8e20de87-cc38-4de9-a985-e0e86d5c0b0d",
   "metadata": {},
   "outputs": [
    {
     "data": {
      "text/html": [
       "<div>\n",
       "<style scoped>\n",
       "    .dataframe tbody tr th:only-of-type {\n",
       "        vertical-align: middle;\n",
       "    }\n",
       "\n",
       "    .dataframe tbody tr th {\n",
       "        vertical-align: top;\n",
       "    }\n",
       "\n",
       "    .dataframe thead th {\n",
       "        text-align: right;\n",
       "    }\n",
       "</style>\n",
       "<table border=\"1\" class=\"dataframe\">\n",
       "  <thead>\n",
       "    <tr style=\"text-align: right;\">\n",
       "      <th></th>\n",
       "      <th>some_lists</th>\n",
       "    </tr>\n",
       "  </thead>\n",
       "  <tbody>\n",
       "    <tr>\n",
       "      <th>0</th>\n",
       "      <td>[1]</td>\n",
       "    </tr>\n",
       "    <tr>\n",
       "      <th>1</th>\n",
       "      <td>[1, 2]</td>\n",
       "    </tr>\n",
       "    <tr>\n",
       "      <th>2</th>\n",
       "      <td>None</td>\n",
       "    </tr>\n",
       "    <tr>\n",
       "      <th>3</th>\n",
       "      <td>sadasd</td>\n",
       "    </tr>\n",
       "    <tr>\n",
       "      <th>4</th>\n",
       "      <td>1</td>\n",
       "    </tr>\n",
       "  </tbody>\n",
       "</table>\n",
       "</div>"
      ],
      "text/plain": [
       "  some_lists\n",
       "0        [1]\n",
       "1     [1, 2]\n",
       "2       None\n",
       "3     sadasd\n",
       "4          1"
      ]
     },
     "execution_count": 60,
     "metadata": {},
     "output_type": "execute_result"
    }
   ],
   "source": [
    "t = pd.DataFrame({'some_lists': [[1], [1,2], None, 'sadasd', 1]})\n",
    "t"
   ]
  },
  {
   "cell_type": "code",
   "execution_count": 61,
   "id": "a210626c",
   "metadata": {
    "scrolled": true
   },
   "outputs": [
    {
     "ename": "ArrowInvalid",
     "evalue": "('cannot mix list and non-list, non-null values', 'Conversion failed for column some_lists with type object')",
     "output_type": "error",
     "traceback": [
      "\u001b[1;31m---------------------------------------------------------------------------\u001b[0m",
      "\u001b[1;31mArrowInvalid\u001b[0m                              Traceback (most recent call last)",
      "Cell \u001b[1;32mIn[61], line 1\u001b[0m\n\u001b[1;32m----> 1\u001b[0m \u001b[43mt\u001b[49m\u001b[38;5;241;43m.\u001b[39;49m\u001b[43mto_parquet\u001b[49m\u001b[43m(\u001b[49m\u001b[38;5;124;43m'\u001b[39;49m\u001b[38;5;124;43mtmp.parquet\u001b[39;49m\u001b[38;5;124;43m'\u001b[39;49m\u001b[43m)\u001b[49m\n\u001b[0;32m      2\u001b[0m pd\u001b[38;5;241m.\u001b[39mread_parquet(\u001b[38;5;124m'\u001b[39m\u001b[38;5;124mtmp.parquet\u001b[39m\u001b[38;5;124m'\u001b[39m)\n",
      "File \u001b[1;32mC:\\Program Files\\Python310\\lib\\site-packages\\pandas\\util\\_decorators.py:333\u001b[0m, in \u001b[0;36mdeprecate_nonkeyword_arguments.<locals>.decorate.<locals>.wrapper\u001b[1;34m(*args, **kwargs)\u001b[0m\n\u001b[0;32m    327\u001b[0m \u001b[38;5;28;01mif\u001b[39;00m \u001b[38;5;28mlen\u001b[39m(args) \u001b[38;5;241m>\u001b[39m num_allow_args:\n\u001b[0;32m    328\u001b[0m     warnings\u001b[38;5;241m.\u001b[39mwarn(\n\u001b[0;32m    329\u001b[0m         msg\u001b[38;5;241m.\u001b[39mformat(arguments\u001b[38;5;241m=\u001b[39m_format_argument_list(allow_args)),\n\u001b[0;32m    330\u001b[0m         \u001b[38;5;167;01mFutureWarning\u001b[39;00m,\n\u001b[0;32m    331\u001b[0m         stacklevel\u001b[38;5;241m=\u001b[39mfind_stack_level(),\n\u001b[0;32m    332\u001b[0m     )\n\u001b[1;32m--> 333\u001b[0m \u001b[38;5;28;01mreturn\u001b[39;00m func(\u001b[38;5;241m*\u001b[39margs, \u001b[38;5;241m*\u001b[39m\u001b[38;5;241m*\u001b[39mkwargs)\n",
      "File \u001b[1;32mC:\\Program Files\\Python310\\lib\\site-packages\\pandas\\core\\frame.py:3113\u001b[0m, in \u001b[0;36mDataFrame.to_parquet\u001b[1;34m(self, path, engine, compression, index, partition_cols, storage_options, **kwargs)\u001b[0m\n\u001b[0;32m   3032\u001b[0m \u001b[38;5;250m\u001b[39m\u001b[38;5;124;03m\"\"\"\u001b[39;00m\n\u001b[0;32m   3033\u001b[0m \u001b[38;5;124;03mWrite a DataFrame to the binary parquet format.\u001b[39;00m\n\u001b[0;32m   3034\u001b[0m \n\u001b[1;32m   (...)\u001b[0m\n\u001b[0;32m   3109\u001b[0m \u001b[38;5;124;03m>>> content = f.read()\u001b[39;00m\n\u001b[0;32m   3110\u001b[0m \u001b[38;5;124;03m\"\"\"\u001b[39;00m\n\u001b[0;32m   3111\u001b[0m \u001b[38;5;28;01mfrom\u001b[39;00m \u001b[38;5;21;01mpandas\u001b[39;00m\u001b[38;5;21;01m.\u001b[39;00m\u001b[38;5;21;01mio\u001b[39;00m\u001b[38;5;21;01m.\u001b[39;00m\u001b[38;5;21;01mparquet\u001b[39;00m \u001b[38;5;28;01mimport\u001b[39;00m to_parquet\n\u001b[1;32m-> 3113\u001b[0m \u001b[38;5;28;01mreturn\u001b[39;00m to_parquet(\n\u001b[0;32m   3114\u001b[0m     \u001b[38;5;28mself\u001b[39m,\n\u001b[0;32m   3115\u001b[0m     path,\n\u001b[0;32m   3116\u001b[0m     engine,\n\u001b[0;32m   3117\u001b[0m     compression\u001b[38;5;241m=\u001b[39mcompression,\n\u001b[0;32m   3118\u001b[0m     index\u001b[38;5;241m=\u001b[39mindex,\n\u001b[0;32m   3119\u001b[0m     partition_cols\u001b[38;5;241m=\u001b[39mpartition_cols,\n\u001b[0;32m   3120\u001b[0m     storage_options\u001b[38;5;241m=\u001b[39mstorage_options,\n\u001b[0;32m   3121\u001b[0m     \u001b[38;5;241m*\u001b[39m\u001b[38;5;241m*\u001b[39mkwargs,\n\u001b[0;32m   3122\u001b[0m )\n",
      "File \u001b[1;32mC:\\Program Files\\Python310\\lib\\site-packages\\pandas\\io\\parquet.py:480\u001b[0m, in \u001b[0;36mto_parquet\u001b[1;34m(df, path, engine, compression, index, storage_options, partition_cols, filesystem, **kwargs)\u001b[0m\n\u001b[0;32m    476\u001b[0m impl \u001b[38;5;241m=\u001b[39m get_engine(engine)\n\u001b[0;32m    478\u001b[0m path_or_buf: FilePath \u001b[38;5;241m|\u001b[39m WriteBuffer[\u001b[38;5;28mbytes\u001b[39m] \u001b[38;5;241m=\u001b[39m io\u001b[38;5;241m.\u001b[39mBytesIO() \u001b[38;5;28;01mif\u001b[39;00m path \u001b[38;5;129;01mis\u001b[39;00m \u001b[38;5;28;01mNone\u001b[39;00m \u001b[38;5;28;01melse\u001b[39;00m path\n\u001b[1;32m--> 480\u001b[0m impl\u001b[38;5;241m.\u001b[39mwrite(\n\u001b[0;32m    481\u001b[0m     df,\n\u001b[0;32m    482\u001b[0m     path_or_buf,\n\u001b[0;32m    483\u001b[0m     compression\u001b[38;5;241m=\u001b[39mcompression,\n\u001b[0;32m    484\u001b[0m     index\u001b[38;5;241m=\u001b[39mindex,\n\u001b[0;32m    485\u001b[0m     partition_cols\u001b[38;5;241m=\u001b[39mpartition_cols,\n\u001b[0;32m    486\u001b[0m     storage_options\u001b[38;5;241m=\u001b[39mstorage_options,\n\u001b[0;32m    487\u001b[0m     filesystem\u001b[38;5;241m=\u001b[39mfilesystem,\n\u001b[0;32m    488\u001b[0m     \u001b[38;5;241m*\u001b[39m\u001b[38;5;241m*\u001b[39mkwargs,\n\u001b[0;32m    489\u001b[0m )\n\u001b[0;32m    491\u001b[0m \u001b[38;5;28;01mif\u001b[39;00m path \u001b[38;5;129;01mis\u001b[39;00m \u001b[38;5;28;01mNone\u001b[39;00m:\n\u001b[0;32m    492\u001b[0m     \u001b[38;5;28;01massert\u001b[39;00m \u001b[38;5;28misinstance\u001b[39m(path_or_buf, io\u001b[38;5;241m.\u001b[39mBytesIO)\n",
      "File \u001b[1;32mC:\\Program Files\\Python310\\lib\\site-packages\\pandas\\io\\parquet.py:190\u001b[0m, in \u001b[0;36mPyArrowImpl.write\u001b[1;34m(self, df, path, compression, index, storage_options, partition_cols, filesystem, **kwargs)\u001b[0m\n\u001b[0;32m    187\u001b[0m \u001b[38;5;28;01mif\u001b[39;00m index \u001b[38;5;129;01mis\u001b[39;00m \u001b[38;5;129;01mnot\u001b[39;00m \u001b[38;5;28;01mNone\u001b[39;00m:\n\u001b[0;32m    188\u001b[0m     from_pandas_kwargs[\u001b[38;5;124m\"\u001b[39m\u001b[38;5;124mpreserve_index\u001b[39m\u001b[38;5;124m\"\u001b[39m] \u001b[38;5;241m=\u001b[39m index\n\u001b[1;32m--> 190\u001b[0m table \u001b[38;5;241m=\u001b[39m \u001b[38;5;28mself\u001b[39m\u001b[38;5;241m.\u001b[39mapi\u001b[38;5;241m.\u001b[39mTable\u001b[38;5;241m.\u001b[39mfrom_pandas(df, \u001b[38;5;241m*\u001b[39m\u001b[38;5;241m*\u001b[39mfrom_pandas_kwargs)\n\u001b[0;32m    192\u001b[0m \u001b[38;5;28;01mif\u001b[39;00m df\u001b[38;5;241m.\u001b[39mattrs:\n\u001b[0;32m    193\u001b[0m     df_metadata \u001b[38;5;241m=\u001b[39m {\u001b[38;5;124m\"\u001b[39m\u001b[38;5;124mPANDAS_ATTRS\u001b[39m\u001b[38;5;124m\"\u001b[39m: json\u001b[38;5;241m.\u001b[39mdumps(df\u001b[38;5;241m.\u001b[39mattrs)}\n",
      "File \u001b[1;32mC:\\Program Files\\Python310\\lib\\site-packages\\pyarrow\\table.pxi:4623\u001b[0m, in \u001b[0;36mpyarrow.lib.Table.from_pandas\u001b[1;34m()\u001b[0m\n",
      "File \u001b[1;32mC:\\Program Files\\Python310\\lib\\site-packages\\pyarrow\\pandas_compat.py:616\u001b[0m, in \u001b[0;36mdataframe_to_arrays\u001b[1;34m(df, schema, preserve_index, nthreads, columns, safe)\u001b[0m\n\u001b[0;32m    611\u001b[0m     \u001b[38;5;28;01mreturn\u001b[39;00m (\u001b[38;5;28misinstance\u001b[39m(arr, np\u001b[38;5;241m.\u001b[39mndarray) \u001b[38;5;129;01mand\u001b[39;00m\n\u001b[0;32m    612\u001b[0m             arr\u001b[38;5;241m.\u001b[39mflags\u001b[38;5;241m.\u001b[39mcontiguous \u001b[38;5;129;01mand\u001b[39;00m\n\u001b[0;32m    613\u001b[0m             \u001b[38;5;28missubclass\u001b[39m(arr\u001b[38;5;241m.\u001b[39mdtype\u001b[38;5;241m.\u001b[39mtype, np\u001b[38;5;241m.\u001b[39minteger))\n\u001b[0;32m    615\u001b[0m \u001b[38;5;28;01mif\u001b[39;00m nthreads \u001b[38;5;241m==\u001b[39m \u001b[38;5;241m1\u001b[39m:\n\u001b[1;32m--> 616\u001b[0m     arrays \u001b[38;5;241m=\u001b[39m [convert_column(c, f)\n\u001b[0;32m    617\u001b[0m               \u001b[38;5;28;01mfor\u001b[39;00m c, f \u001b[38;5;129;01min\u001b[39;00m \u001b[38;5;28mzip\u001b[39m(columns_to_convert, convert_fields)]\n\u001b[0;32m    618\u001b[0m \u001b[38;5;28;01melse\u001b[39;00m:\n\u001b[0;32m    619\u001b[0m     arrays \u001b[38;5;241m=\u001b[39m []\n",
      "File \u001b[1;32mC:\\Program Files\\Python310\\lib\\site-packages\\pyarrow\\pandas_compat.py:616\u001b[0m, in \u001b[0;36m<listcomp>\u001b[1;34m(.0)\u001b[0m\n\u001b[0;32m    611\u001b[0m     \u001b[38;5;28;01mreturn\u001b[39;00m (\u001b[38;5;28misinstance\u001b[39m(arr, np\u001b[38;5;241m.\u001b[39mndarray) \u001b[38;5;129;01mand\u001b[39;00m\n\u001b[0;32m    612\u001b[0m             arr\u001b[38;5;241m.\u001b[39mflags\u001b[38;5;241m.\u001b[39mcontiguous \u001b[38;5;129;01mand\u001b[39;00m\n\u001b[0;32m    613\u001b[0m             \u001b[38;5;28missubclass\u001b[39m(arr\u001b[38;5;241m.\u001b[39mdtype\u001b[38;5;241m.\u001b[39mtype, np\u001b[38;5;241m.\u001b[39minteger))\n\u001b[0;32m    615\u001b[0m \u001b[38;5;28;01mif\u001b[39;00m nthreads \u001b[38;5;241m==\u001b[39m \u001b[38;5;241m1\u001b[39m:\n\u001b[1;32m--> 616\u001b[0m     arrays \u001b[38;5;241m=\u001b[39m [\u001b[43mconvert_column\u001b[49m\u001b[43m(\u001b[49m\u001b[43mc\u001b[49m\u001b[43m,\u001b[49m\u001b[43m \u001b[49m\u001b[43mf\u001b[49m\u001b[43m)\u001b[49m\n\u001b[0;32m    617\u001b[0m               \u001b[38;5;28;01mfor\u001b[39;00m c, f \u001b[38;5;129;01min\u001b[39;00m \u001b[38;5;28mzip\u001b[39m(columns_to_convert, convert_fields)]\n\u001b[0;32m    618\u001b[0m \u001b[38;5;28;01melse\u001b[39;00m:\n\u001b[0;32m    619\u001b[0m     arrays \u001b[38;5;241m=\u001b[39m []\n",
      "File \u001b[1;32mC:\\Program Files\\Python310\\lib\\site-packages\\pyarrow\\pandas_compat.py:603\u001b[0m, in \u001b[0;36mdataframe_to_arrays.<locals>.convert_column\u001b[1;34m(col, field)\u001b[0m\n\u001b[0;32m    598\u001b[0m \u001b[38;5;28;01mexcept\u001b[39;00m (pa\u001b[38;5;241m.\u001b[39mArrowInvalid,\n\u001b[0;32m    599\u001b[0m         pa\u001b[38;5;241m.\u001b[39mArrowNotImplementedError,\n\u001b[0;32m    600\u001b[0m         pa\u001b[38;5;241m.\u001b[39mArrowTypeError) \u001b[38;5;28;01mas\u001b[39;00m e:\n\u001b[0;32m    601\u001b[0m     e\u001b[38;5;241m.\u001b[39margs \u001b[38;5;241m+\u001b[39m\u001b[38;5;241m=\u001b[39m (\u001b[38;5;124m\"\u001b[39m\u001b[38;5;124mConversion failed for column \u001b[39m\u001b[38;5;132;01m{!s}\u001b[39;00m\u001b[38;5;124m with type \u001b[39m\u001b[38;5;132;01m{!s}\u001b[39;00m\u001b[38;5;124m\"\u001b[39m\n\u001b[0;32m    602\u001b[0m                \u001b[38;5;241m.\u001b[39mformat(col\u001b[38;5;241m.\u001b[39mname, col\u001b[38;5;241m.\u001b[39mdtype),)\n\u001b[1;32m--> 603\u001b[0m     \u001b[38;5;28;01mraise\u001b[39;00m e\n\u001b[0;32m    604\u001b[0m \u001b[38;5;28;01mif\u001b[39;00m \u001b[38;5;129;01mnot\u001b[39;00m field_nullable \u001b[38;5;129;01mand\u001b[39;00m result\u001b[38;5;241m.\u001b[39mnull_count \u001b[38;5;241m>\u001b[39m \u001b[38;5;241m0\u001b[39m:\n\u001b[0;32m    605\u001b[0m     \u001b[38;5;28;01mraise\u001b[39;00m \u001b[38;5;167;01mValueError\u001b[39;00m(\u001b[38;5;124m\"\u001b[39m\u001b[38;5;124mField \u001b[39m\u001b[38;5;132;01m{}\u001b[39;00m\u001b[38;5;124m was non-nullable but pandas column \u001b[39m\u001b[38;5;124m\"\u001b[39m\n\u001b[0;32m    606\u001b[0m                      \u001b[38;5;124m\"\u001b[39m\u001b[38;5;124mhad \u001b[39m\u001b[38;5;132;01m{}\u001b[39;00m\u001b[38;5;124m null values\u001b[39m\u001b[38;5;124m\"\u001b[39m\u001b[38;5;241m.\u001b[39mformat(\u001b[38;5;28mstr\u001b[39m(field),\n\u001b[0;32m    607\u001b[0m                                                  result\u001b[38;5;241m.\u001b[39mnull_count))\n",
      "File \u001b[1;32mC:\\Program Files\\Python310\\lib\\site-packages\\pyarrow\\pandas_compat.py:597\u001b[0m, in \u001b[0;36mdataframe_to_arrays.<locals>.convert_column\u001b[1;34m(col, field)\u001b[0m\n\u001b[0;32m    594\u001b[0m     type_ \u001b[38;5;241m=\u001b[39m field\u001b[38;5;241m.\u001b[39mtype\n\u001b[0;32m    596\u001b[0m \u001b[38;5;28;01mtry\u001b[39;00m:\n\u001b[1;32m--> 597\u001b[0m     result \u001b[38;5;241m=\u001b[39m \u001b[43mpa\u001b[49m\u001b[38;5;241;43m.\u001b[39;49m\u001b[43marray\u001b[49m\u001b[43m(\u001b[49m\u001b[43mcol\u001b[49m\u001b[43m,\u001b[49m\u001b[43m \u001b[49m\u001b[38;5;28;43mtype\u001b[39;49m\u001b[38;5;241;43m=\u001b[39;49m\u001b[43mtype_\u001b[49m\u001b[43m,\u001b[49m\u001b[43m \u001b[49m\u001b[43mfrom_pandas\u001b[49m\u001b[38;5;241;43m=\u001b[39;49m\u001b[38;5;28;43;01mTrue\u001b[39;49;00m\u001b[43m,\u001b[49m\u001b[43m \u001b[49m\u001b[43msafe\u001b[49m\u001b[38;5;241;43m=\u001b[39;49m\u001b[43msafe\u001b[49m\u001b[43m)\u001b[49m\n\u001b[0;32m    598\u001b[0m \u001b[38;5;28;01mexcept\u001b[39;00m (pa\u001b[38;5;241m.\u001b[39mArrowInvalid,\n\u001b[0;32m    599\u001b[0m         pa\u001b[38;5;241m.\u001b[39mArrowNotImplementedError,\n\u001b[0;32m    600\u001b[0m         pa\u001b[38;5;241m.\u001b[39mArrowTypeError) \u001b[38;5;28;01mas\u001b[39;00m e:\n\u001b[0;32m    601\u001b[0m     e\u001b[38;5;241m.\u001b[39margs \u001b[38;5;241m+\u001b[39m\u001b[38;5;241m=\u001b[39m (\u001b[38;5;124m\"\u001b[39m\u001b[38;5;124mConversion failed for column \u001b[39m\u001b[38;5;132;01m{!s}\u001b[39;00m\u001b[38;5;124m with type \u001b[39m\u001b[38;5;132;01m{!s}\u001b[39;00m\u001b[38;5;124m\"\u001b[39m\n\u001b[0;32m    602\u001b[0m                \u001b[38;5;241m.\u001b[39mformat(col\u001b[38;5;241m.\u001b[39mname, col\u001b[38;5;241m.\u001b[39mdtype),)\n",
      "File \u001b[1;32mC:\\Program Files\\Python310\\lib\\site-packages\\pyarrow\\array.pxi:358\u001b[0m, in \u001b[0;36mpyarrow.lib.array\u001b[1;34m()\u001b[0m\n",
      "File \u001b[1;32mC:\\Program Files\\Python310\\lib\\site-packages\\pyarrow\\array.pxi:85\u001b[0m, in \u001b[0;36mpyarrow.lib._ndarray_to_array\u001b[1;34m()\u001b[0m\n",
      "File \u001b[1;32mC:\\Program Files\\Python310\\lib\\site-packages\\pyarrow\\error.pxi:92\u001b[0m, in \u001b[0;36mpyarrow.lib.check_status\u001b[1;34m()\u001b[0m\n",
      "\u001b[1;31mArrowInvalid\u001b[0m: ('cannot mix list and non-list, non-null values', 'Conversion failed for column some_lists with type object')"
     ]
    }
   ],
   "source": [
    "t.to_parquet('tmp.parquet')\n",
    "pd.read_parquet('tmp.parquet')"
   ]
  },
  {
   "cell_type": "code",
   "execution_count": null,
   "id": "25762efc-efc4-4626-8a94-5a41f1711dab",
   "metadata": {},
   "outputs": [],
   "source": []
  },
  {
   "cell_type": "markdown",
   "id": "4542d99f",
   "metadata": {},
   "source": [
    "## - [*Style](https://pandas.pydata.org/docs/user_guide/style.html)"
   ]
  },
  {
   "cell_type": "code",
   "execution_count": 63,
   "id": "af69feed",
   "metadata": {},
   "outputs": [
    {
     "data": {
      "text/html": [
       "<style type=\"text/css\">\n",
       "#T_8186c_row0_col0, #T_8186c_row0_col1, #T_8186c_row0_col7, #T_8186c_row0_col9, #T_8186c_row0_col12, #T_8186c_row1_col7, #T_8186c_row1_col12, #T_8186c_row1_col13, #T_8186c_row2_col6, #T_8186c_row2_col7, #T_8186c_row2_col12, #T_8186c_row3_col7, #T_8186c_row3_col12, #T_8186c_row4_col1, #T_8186c_row4_col6, #T_8186c_row4_col7, #T_8186c_row4_col12, #T_8186c_row5_col1, #T_8186c_row5_col6, #T_8186c_row5_col7, #T_8186c_row5_col12, #T_8186c_row6_col1, #T_8186c_row6_col6, #T_8186c_row6_col7, #T_8186c_row6_col12, #T_8186c_row6_col13, #T_8186c_row7_col1, #T_8186c_row7_col5, #T_8186c_row7_col12, #T_8186c_row7_col13, #T_8186c_row8_col6, #T_8186c_row8_col12, #T_8186c_row9_col7, #T_8186c_row9_col12, #T_8186c_row9_col13, #T_8186c_row10_col12, #T_8186c_row10_col13, #T_8186c_row11_col6, #T_8186c_row11_col7, #T_8186c_row11_col12, #T_8186c_row12_col1, #T_8186c_row12_col6, #T_8186c_row12_col7, #T_8186c_row12_col12, #T_8186c_row13_col1, #T_8186c_row13_col12, #T_8186c_row13_col13, #T_8186c_row14_col1, #T_8186c_row14_col6, #T_8186c_row14_col7, #T_8186c_row14_col12, #T_8186c_row14_col13, #T_8186c_row15_col6, #T_8186c_row15_col7, #T_8186c_row15_col12, #T_8186c_row15_col13, #T_8186c_row16_col1, #T_8186c_row16_col5, #T_8186c_row16_col12, #T_8186c_row16_col13, #T_8186c_row17_col6, #T_8186c_row17_col7, #T_8186c_row17_col12, #T_8186c_row18_col1, #T_8186c_row18_col7, #T_8186c_row18_col12, #T_8186c_row19_col6, #T_8186c_row19_col7, #T_8186c_row19_col9, #T_8186c_row19_col12 {\n",
       "  background-color: #fff7fb;\n",
       "  color: #000000;\n",
       "}\n",
       "#T_8186c_row0_col5, #T_8186c_row9_col9 {\n",
       "  background-color: #acc0dd;\n",
       "  color: #000000;\n",
       "}\n",
       "#T_8186c_row0_col6, #T_8186c_row1_col6, #T_8186c_row3_col6, #T_8186c_row9_col6, #T_8186c_row10_col6, #T_8186c_row13_col6, #T_8186c_row18_col6 {\n",
       "  background-color: #d0d1e6;\n",
       "  color: #000000;\n",
       "}\n",
       "#T_8186c_row0_col13, #T_8186c_row1_col1, #T_8186c_row1_col9, #T_8186c_row2_col1, #T_8186c_row2_col13, #T_8186c_row3_col1, #T_8186c_row3_col13, #T_8186c_row4_col13, #T_8186c_row5_col13, #T_8186c_row8_col1, #T_8186c_row8_col13, #T_8186c_row9_col1, #T_8186c_row10_col1, #T_8186c_row11_col1, #T_8186c_row11_col5, #T_8186c_row11_col13, #T_8186c_row12_col13, #T_8186c_row13_col7, #T_8186c_row15_col1, #T_8186c_row16_col6, #T_8186c_row17_col1, #T_8186c_row17_col13, #T_8186c_row18_col13, #T_8186c_row19_col0, #T_8186c_row19_col1, #T_8186c_row19_col13 {\n",
       "  background-color: #023858;\n",
       "  color: #f1f1f1;\n",
       "}\n",
       "#T_8186c_row1_col0 {\n",
       "  background-color: #f7f0f7;\n",
       "  color: #000000;\n",
       "}\n",
       "#T_8186c_row1_col5 {\n",
       "  background-color: #2f8bbe;\n",
       "  color: #f1f1f1;\n",
       "}\n",
       "#T_8186c_row2_col0 {\n",
       "  background-color: #f0eaf4;\n",
       "  color: #000000;\n",
       "}\n",
       "#T_8186c_row2_col5 {\n",
       "  background-color: #91b5d6;\n",
       "  color: #000000;\n",
       "}\n",
       "#T_8186c_row2_col9, #T_8186c_row14_col9 {\n",
       "  background-color: #fef6fa;\n",
       "  color: #000000;\n",
       "}\n",
       "#T_8186c_row3_col0 {\n",
       "  background-color: #e5e1ef;\n",
       "  color: #000000;\n",
       "}\n",
       "#T_8186c_row3_col5, #T_8186c_row4_col5, #T_8186c_row5_col5, #T_8186c_row17_col5, #T_8186c_row19_col5 {\n",
       "  background-color: #4897c4;\n",
       "  color: #f1f1f1;\n",
       "}\n",
       "#T_8186c_row3_col9 {\n",
       "  background-color: #1278b4;\n",
       "  color: #f1f1f1;\n",
       "}\n",
       "#T_8186c_row4_col0, #T_8186c_row9_col5, #T_8186c_row14_col5 {\n",
       "  background-color: #d9d8ea;\n",
       "  color: #000000;\n",
       "}\n",
       "#T_8186c_row4_col9, #T_8186c_row5_col9, #T_8186c_row12_col9 {\n",
       "  background-color: #fdf5fa;\n",
       "  color: #000000;\n",
       "}\n",
       "#T_8186c_row5_col0 {\n",
       "  background-color: #cccfe5;\n",
       "  color: #000000;\n",
       "}\n",
       "#T_8186c_row6_col0 {\n",
       "  background-color: #bbc7e0;\n",
       "  color: #000000;\n",
       "}\n",
       "#T_8186c_row6_col5 {\n",
       "  background-color: #034b76;\n",
       "  color: #f1f1f1;\n",
       "}\n",
       "#T_8186c_row6_col9 {\n",
       "  background-color: #197db7;\n",
       "  color: #f1f1f1;\n",
       "}\n",
       "#T_8186c_row7_col0 {\n",
       "  background-color: #a8bedc;\n",
       "  color: #000000;\n",
       "}\n",
       "#T_8186c_row7_col6 {\n",
       "  background-color: #056faf;\n",
       "  color: #f1f1f1;\n",
       "}\n",
       "#T_8186c_row7_col7, #T_8186c_row10_col7, #T_8186c_row16_col7 {\n",
       "  background-color: #dbdaeb;\n",
       "  color: #000000;\n",
       "}\n",
       "#T_8186c_row7_col9 {\n",
       "  background-color: #d8d7e9;\n",
       "  color: #000000;\n",
       "}\n",
       "#T_8186c_row8_col0 {\n",
       "  background-color: #94b6d7;\n",
       "  color: #000000;\n",
       "}\n",
       "#T_8186c_row8_col5 {\n",
       "  background-color: #89b1d4;\n",
       "  color: #000000;\n",
       "}\n",
       "#T_8186c_row8_col7 {\n",
       "  background-color: #9cb9d9;\n",
       "  color: #000000;\n",
       "}\n",
       "#T_8186c_row8_col9 {\n",
       "  background-color: #f6eff7;\n",
       "  color: #000000;\n",
       "}\n",
       "#T_8186c_row9_col0 {\n",
       "  background-color: #7eadd1;\n",
       "  color: #f1f1f1;\n",
       "}\n",
       "#T_8186c_row10_col0 {\n",
       "  background-color: #67a4cc;\n",
       "  color: #f1f1f1;\n",
       "}\n",
       "#T_8186c_row10_col5 {\n",
       "  background-color: #faf2f8;\n",
       "  color: #000000;\n",
       "}\n",
       "#T_8186c_row10_col9 {\n",
       "  background-color: #e7e3f0;\n",
       "  color: #000000;\n",
       "}\n",
       "#T_8186c_row11_col0 {\n",
       "  background-color: #4c99c5;\n",
       "  color: #f1f1f1;\n",
       "}\n",
       "#T_8186c_row11_col9 {\n",
       "  background-color: #bfc9e1;\n",
       "  color: #000000;\n",
       "}\n",
       "#T_8186c_row12_col0 {\n",
       "  background-color: #348ebf;\n",
       "  color: #f1f1f1;\n",
       "}\n",
       "#T_8186c_row12_col5 {\n",
       "  background-color: #b8c6e0;\n",
       "  color: #000000;\n",
       "}\n",
       "#T_8186c_row13_col0 {\n",
       "  background-color: #1e80b8;\n",
       "  color: #f1f1f1;\n",
       "}\n",
       "#T_8186c_row13_col5 {\n",
       "  background-color: #2786bb;\n",
       "  color: #f1f1f1;\n",
       "}\n",
       "#T_8186c_row13_col9 {\n",
       "  background-color: #a5bddb;\n",
       "  color: #000000;\n",
       "}\n",
       "#T_8186c_row14_col0 {\n",
       "  background-color: #0a73b2;\n",
       "  color: #f1f1f1;\n",
       "}\n",
       "#T_8186c_row15_col0 {\n",
       "  background-color: #0569a4;\n",
       "  color: #f1f1f1;\n",
       "}\n",
       "#T_8186c_row15_col5, #T_8186c_row18_col0 {\n",
       "  background-color: #03466e;\n",
       "  color: #f1f1f1;\n",
       "}\n",
       "#T_8186c_row15_col9 {\n",
       "  background-color: #e9e5f1;\n",
       "  color: #000000;\n",
       "}\n",
       "#T_8186c_row16_col0 {\n",
       "  background-color: #046096;\n",
       "  color: #f1f1f1;\n",
       "}\n",
       "#T_8186c_row16_col9 {\n",
       "  background-color: #b1c2de;\n",
       "  color: #000000;\n",
       "}\n",
       "#T_8186c_row17_col0 {\n",
       "  background-color: #045483;\n",
       "  color: #f1f1f1;\n",
       "}\n",
       "#T_8186c_row17_col9 {\n",
       "  background-color: #f1ebf5;\n",
       "  color: #000000;\n",
       "}\n",
       "#T_8186c_row18_col5 {\n",
       "  background-color: #6ba5cd;\n",
       "  color: #f1f1f1;\n",
       "}\n",
       "#T_8186c_row18_col9 {\n",
       "  background-color: #e2dfee;\n",
       "  color: #000000;\n",
       "}\n",
       "</style>\n",
       "<table id=\"T_8186c\">\n",
       "  <thead>\n",
       "    <tr>\n",
       "      <th class=\"blank level0\" >&nbsp;</th>\n",
       "      <th id=\"T_8186c_level0_col0\" class=\"col_heading level0 col0\" >PassengerId</th>\n",
       "      <th id=\"T_8186c_level0_col1\" class=\"col_heading level0 col1\" >Survived</th>\n",
       "      <th id=\"T_8186c_level0_col2\" class=\"col_heading level0 col2\" >Pclass</th>\n",
       "      <th id=\"T_8186c_level0_col3\" class=\"col_heading level0 col3\" >Name</th>\n",
       "      <th id=\"T_8186c_level0_col4\" class=\"col_heading level0 col4\" >Sex</th>\n",
       "      <th id=\"T_8186c_level0_col5\" class=\"col_heading level0 col5\" >Age</th>\n",
       "      <th id=\"T_8186c_level0_col6\" class=\"col_heading level0 col6\" >SibSp</th>\n",
       "      <th id=\"T_8186c_level0_col7\" class=\"col_heading level0 col7\" >Parch</th>\n",
       "      <th id=\"T_8186c_level0_col8\" class=\"col_heading level0 col8\" >Ticket</th>\n",
       "      <th id=\"T_8186c_level0_col9\" class=\"col_heading level0 col9\" >Fare</th>\n",
       "      <th id=\"T_8186c_level0_col10\" class=\"col_heading level0 col10\" >Cabin</th>\n",
       "      <th id=\"T_8186c_level0_col11\" class=\"col_heading level0 col11\" >Embarked</th>\n",
       "      <th id=\"T_8186c_level0_col12\" class=\"col_heading level0 col12\" >new_col_1</th>\n",
       "      <th id=\"T_8186c_level0_col13\" class=\"col_heading level0 col13\" >new_col_2</th>\n",
       "    </tr>\n",
       "  </thead>\n",
       "  <tbody>\n",
       "    <tr>\n",
       "      <th id=\"T_8186c_level0_row0\" class=\"row_heading level0 row0\" >id_0</th>\n",
       "      <td id=\"T_8186c_row0_col0\" class=\"data row0 col0\" >1</td>\n",
       "      <td id=\"T_8186c_row0_col1\" class=\"data row0 col1\" >0</td>\n",
       "      <td id=\"T_8186c_row0_col2\" class=\"data row0 col2\" >3</td>\n",
       "      <td id=\"T_8186c_row0_col3\" class=\"data row0 col3\" >Braund, Mr. Owen Harris</td>\n",
       "      <td id=\"T_8186c_row0_col4\" class=\"data row0 col4\" >male</td>\n",
       "      <td id=\"T_8186c_row0_col5\" class=\"data row0 col5\" >22.000000</td>\n",
       "      <td id=\"T_8186c_row0_col6\" class=\"data row0 col6\" >1</td>\n",
       "      <td id=\"T_8186c_row0_col7\" class=\"data row0 col7\" >0</td>\n",
       "      <td id=\"T_8186c_row0_col8\" class=\"data row0 col8\" >A/5 21171</td>\n",
       "      <td id=\"T_8186c_row0_col9\" class=\"data row0 col9\" >7.250000</td>\n",
       "      <td id=\"T_8186c_row0_col10\" class=\"data row0 col10\" >nan</td>\n",
       "      <td id=\"T_8186c_row0_col11\" class=\"data row0 col11\" >S</td>\n",
       "      <td id=\"T_8186c_row0_col12\" class=\"data row0 col12\" >112</td>\n",
       "      <td id=\"T_8186c_row0_col13\" class=\"data row0 col13\" >1</td>\n",
       "    </tr>\n",
       "    <tr>\n",
       "      <th id=\"T_8186c_level0_row1\" class=\"row_heading level0 row1\" >id_1</th>\n",
       "      <td id=\"T_8186c_row1_col0\" class=\"data row1 col0\" >2</td>\n",
       "      <td id=\"T_8186c_row1_col1\" class=\"data row1 col1\" >1</td>\n",
       "      <td id=\"T_8186c_row1_col2\" class=\"data row1 col2\" >1</td>\n",
       "      <td id=\"T_8186c_row1_col3\" class=\"data row1 col3\" >Cumings, Mrs. John Bradley (Florence Briggs Thayer)</td>\n",
       "      <td id=\"T_8186c_row1_col4\" class=\"data row1 col4\" >female</td>\n",
       "      <td id=\"T_8186c_row1_col5\" class=\"data row1 col5\" >38.000000</td>\n",
       "      <td id=\"T_8186c_row1_col6\" class=\"data row1 col6\" >1</td>\n",
       "      <td id=\"T_8186c_row1_col7\" class=\"data row1 col7\" >0</td>\n",
       "      <td id=\"T_8186c_row1_col8\" class=\"data row1 col8\" >PC 17599</td>\n",
       "      <td id=\"T_8186c_row1_col9\" class=\"data row1 col9\" >71.283300</td>\n",
       "      <td id=\"T_8186c_row1_col10\" class=\"data row1 col10\" >C85</td>\n",
       "      <td id=\"T_8186c_row1_col11\" class=\"data row1 col11\" >C</td>\n",
       "      <td id=\"T_8186c_row1_col12\" class=\"data row1 col12\" >112</td>\n",
       "      <td id=\"T_8186c_row1_col13\" class=\"data row1 col13\" >0</td>\n",
       "    </tr>\n",
       "    <tr>\n",
       "      <th id=\"T_8186c_level0_row2\" class=\"row_heading level0 row2\" >id_2</th>\n",
       "      <td id=\"T_8186c_row2_col0\" class=\"data row2 col0\" >3</td>\n",
       "      <td id=\"T_8186c_row2_col1\" class=\"data row2 col1\" >1</td>\n",
       "      <td id=\"T_8186c_row2_col2\" class=\"data row2 col2\" >3</td>\n",
       "      <td id=\"T_8186c_row2_col3\" class=\"data row2 col3\" >Heikkinen, Miss. Laina</td>\n",
       "      <td id=\"T_8186c_row2_col4\" class=\"data row2 col4\" >female</td>\n",
       "      <td id=\"T_8186c_row2_col5\" class=\"data row2 col5\" >26.000000</td>\n",
       "      <td id=\"T_8186c_row2_col6\" class=\"data row2 col6\" >0</td>\n",
       "      <td id=\"T_8186c_row2_col7\" class=\"data row2 col7\" >0</td>\n",
       "      <td id=\"T_8186c_row2_col8\" class=\"data row2 col8\" >STON/O2. 3101282</td>\n",
       "      <td id=\"T_8186c_row2_col9\" class=\"data row2 col9\" >7.925000</td>\n",
       "      <td id=\"T_8186c_row2_col10\" class=\"data row2 col10\" >nan</td>\n",
       "      <td id=\"T_8186c_row2_col11\" class=\"data row2 col11\" >S</td>\n",
       "      <td id=\"T_8186c_row2_col12\" class=\"data row2 col12\" >112</td>\n",
       "      <td id=\"T_8186c_row2_col13\" class=\"data row2 col13\" >1</td>\n",
       "    </tr>\n",
       "    <tr>\n",
       "      <th id=\"T_8186c_level0_row3\" class=\"row_heading level0 row3\" >id_3</th>\n",
       "      <td id=\"T_8186c_row3_col0\" class=\"data row3 col0\" >4</td>\n",
       "      <td id=\"T_8186c_row3_col1\" class=\"data row3 col1\" >1</td>\n",
       "      <td id=\"T_8186c_row3_col2\" class=\"data row3 col2\" >1</td>\n",
       "      <td id=\"T_8186c_row3_col3\" class=\"data row3 col3\" >Futrelle, Mrs. Jacques Heath (Lily May Peel)</td>\n",
       "      <td id=\"T_8186c_row3_col4\" class=\"data row3 col4\" >female</td>\n",
       "      <td id=\"T_8186c_row3_col5\" class=\"data row3 col5\" >35.000000</td>\n",
       "      <td id=\"T_8186c_row3_col6\" class=\"data row3 col6\" >1</td>\n",
       "      <td id=\"T_8186c_row3_col7\" class=\"data row3 col7\" >0</td>\n",
       "      <td id=\"T_8186c_row3_col8\" class=\"data row3 col8\" >113803</td>\n",
       "      <td id=\"T_8186c_row3_col9\" class=\"data row3 col9\" >53.100000</td>\n",
       "      <td id=\"T_8186c_row3_col10\" class=\"data row3 col10\" >C123</td>\n",
       "      <td id=\"T_8186c_row3_col11\" class=\"data row3 col11\" >S</td>\n",
       "      <td id=\"T_8186c_row3_col12\" class=\"data row3 col12\" >112</td>\n",
       "      <td id=\"T_8186c_row3_col13\" class=\"data row3 col13\" >1</td>\n",
       "    </tr>\n",
       "    <tr>\n",
       "      <th id=\"T_8186c_level0_row4\" class=\"row_heading level0 row4\" >id_4</th>\n",
       "      <td id=\"T_8186c_row4_col0\" class=\"data row4 col0\" >5</td>\n",
       "      <td id=\"T_8186c_row4_col1\" class=\"data row4 col1\" >0</td>\n",
       "      <td id=\"T_8186c_row4_col2\" class=\"data row4 col2\" >3</td>\n",
       "      <td id=\"T_8186c_row4_col3\" class=\"data row4 col3\" >Allen, Mr. William Henry</td>\n",
       "      <td id=\"T_8186c_row4_col4\" class=\"data row4 col4\" >male</td>\n",
       "      <td id=\"T_8186c_row4_col5\" class=\"data row4 col5\" >35.000000</td>\n",
       "      <td id=\"T_8186c_row4_col6\" class=\"data row4 col6\" >0</td>\n",
       "      <td id=\"T_8186c_row4_col7\" class=\"data row4 col7\" >0</td>\n",
       "      <td id=\"T_8186c_row4_col8\" class=\"data row4 col8\" >373450</td>\n",
       "      <td id=\"T_8186c_row4_col9\" class=\"data row4 col9\" >8.050000</td>\n",
       "      <td id=\"T_8186c_row4_col10\" class=\"data row4 col10\" >nan</td>\n",
       "      <td id=\"T_8186c_row4_col11\" class=\"data row4 col11\" >S</td>\n",
       "      <td id=\"T_8186c_row4_col12\" class=\"data row4 col12\" >112</td>\n",
       "      <td id=\"T_8186c_row4_col13\" class=\"data row4 col13\" >1</td>\n",
       "    </tr>\n",
       "    <tr>\n",
       "      <th id=\"T_8186c_level0_row5\" class=\"row_heading level0 row5\" >id_5</th>\n",
       "      <td id=\"T_8186c_row5_col0\" class=\"data row5 col0\" >6</td>\n",
       "      <td id=\"T_8186c_row5_col1\" class=\"data row5 col1\" >0</td>\n",
       "      <td id=\"T_8186c_row5_col2\" class=\"data row5 col2\" >3</td>\n",
       "      <td id=\"T_8186c_row5_col3\" class=\"data row5 col3\" >Moran, Mr. James</td>\n",
       "      <td id=\"T_8186c_row5_col4\" class=\"data row5 col4\" >male</td>\n",
       "      <td id=\"T_8186c_row5_col5\" class=\"data row5 col5\" >35.000000</td>\n",
       "      <td id=\"T_8186c_row5_col6\" class=\"data row5 col6\" >0</td>\n",
       "      <td id=\"T_8186c_row5_col7\" class=\"data row5 col7\" >0</td>\n",
       "      <td id=\"T_8186c_row5_col8\" class=\"data row5 col8\" >330877</td>\n",
       "      <td id=\"T_8186c_row5_col9\" class=\"data row5 col9\" >8.458300</td>\n",
       "      <td id=\"T_8186c_row5_col10\" class=\"data row5 col10\" >nan</td>\n",
       "      <td id=\"T_8186c_row5_col11\" class=\"data row5 col11\" >Q</td>\n",
       "      <td id=\"T_8186c_row5_col12\" class=\"data row5 col12\" >112</td>\n",
       "      <td id=\"T_8186c_row5_col13\" class=\"data row5 col13\" >1</td>\n",
       "    </tr>\n",
       "    <tr>\n",
       "      <th id=\"T_8186c_level0_row6\" class=\"row_heading level0 row6\" >id_6</th>\n",
       "      <td id=\"T_8186c_row6_col0\" class=\"data row6 col0\" >7</td>\n",
       "      <td id=\"T_8186c_row6_col1\" class=\"data row6 col1\" >0</td>\n",
       "      <td id=\"T_8186c_row6_col2\" class=\"data row6 col2\" >1</td>\n",
       "      <td id=\"T_8186c_row6_col3\" class=\"data row6 col3\" >McCarthy, Mr. Timothy J</td>\n",
       "      <td id=\"T_8186c_row6_col4\" class=\"data row6 col4\" >male</td>\n",
       "      <td id=\"T_8186c_row6_col5\" class=\"data row6 col5\" >54.000000</td>\n",
       "      <td id=\"T_8186c_row6_col6\" class=\"data row6 col6\" >0</td>\n",
       "      <td id=\"T_8186c_row6_col7\" class=\"data row6 col7\" >0</td>\n",
       "      <td id=\"T_8186c_row6_col8\" class=\"data row6 col8\" >17463</td>\n",
       "      <td id=\"T_8186c_row6_col9\" class=\"data row6 col9\" >51.862500</td>\n",
       "      <td id=\"T_8186c_row6_col10\" class=\"data row6 col10\" >E46</td>\n",
       "      <td id=\"T_8186c_row6_col11\" class=\"data row6 col11\" >S</td>\n",
       "      <td id=\"T_8186c_row6_col12\" class=\"data row6 col12\" >112</td>\n",
       "      <td id=\"T_8186c_row6_col13\" class=\"data row6 col13\" >0</td>\n",
       "    </tr>\n",
       "    <tr>\n",
       "      <th id=\"T_8186c_level0_row7\" class=\"row_heading level0 row7\" >id_7</th>\n",
       "      <td id=\"T_8186c_row7_col0\" class=\"data row7 col0\" >8</td>\n",
       "      <td id=\"T_8186c_row7_col1\" class=\"data row7 col1\" >0</td>\n",
       "      <td id=\"T_8186c_row7_col2\" class=\"data row7 col2\" >3</td>\n",
       "      <td id=\"T_8186c_row7_col3\" class=\"data row7 col3\" >Palsson, Master. Gosta Leonard</td>\n",
       "      <td id=\"T_8186c_row7_col4\" class=\"data row7 col4\" >male</td>\n",
       "      <td id=\"T_8186c_row7_col5\" class=\"data row7 col5\" >2.000000</td>\n",
       "      <td id=\"T_8186c_row7_col6\" class=\"data row7 col6\" >3</td>\n",
       "      <td id=\"T_8186c_row7_col7\" class=\"data row7 col7\" >1</td>\n",
       "      <td id=\"T_8186c_row7_col8\" class=\"data row7 col8\" >349909</td>\n",
       "      <td id=\"T_8186c_row7_col9\" class=\"data row7 col9\" >21.075000</td>\n",
       "      <td id=\"T_8186c_row7_col10\" class=\"data row7 col10\" >nan</td>\n",
       "      <td id=\"T_8186c_row7_col11\" class=\"data row7 col11\" >S</td>\n",
       "      <td id=\"T_8186c_row7_col12\" class=\"data row7 col12\" >112</td>\n",
       "      <td id=\"T_8186c_row7_col13\" class=\"data row7 col13\" >0</td>\n",
       "    </tr>\n",
       "    <tr>\n",
       "      <th id=\"T_8186c_level0_row8\" class=\"row_heading level0 row8\" >id_8</th>\n",
       "      <td id=\"T_8186c_row8_col0\" class=\"data row8 col0\" >9</td>\n",
       "      <td id=\"T_8186c_row8_col1\" class=\"data row8 col1\" >1</td>\n",
       "      <td id=\"T_8186c_row8_col2\" class=\"data row8 col2\" >3</td>\n",
       "      <td id=\"T_8186c_row8_col3\" class=\"data row8 col3\" >Johnson, Mrs. Oscar W (Elisabeth Vilhelmina Berg)</td>\n",
       "      <td id=\"T_8186c_row8_col4\" class=\"data row8 col4\" >female</td>\n",
       "      <td id=\"T_8186c_row8_col5\" class=\"data row8 col5\" >27.000000</td>\n",
       "      <td id=\"T_8186c_row8_col6\" class=\"data row8 col6\" >0</td>\n",
       "      <td id=\"T_8186c_row8_col7\" class=\"data row8 col7\" >2</td>\n",
       "      <td id=\"T_8186c_row8_col8\" class=\"data row8 col8\" >347742</td>\n",
       "      <td id=\"T_8186c_row8_col9\" class=\"data row8 col9\" >11.133300</td>\n",
       "      <td id=\"T_8186c_row8_col10\" class=\"data row8 col10\" >nan</td>\n",
       "      <td id=\"T_8186c_row8_col11\" class=\"data row8 col11\" >S</td>\n",
       "      <td id=\"T_8186c_row8_col12\" class=\"data row8 col12\" >112</td>\n",
       "      <td id=\"T_8186c_row8_col13\" class=\"data row8 col13\" >1</td>\n",
       "    </tr>\n",
       "    <tr>\n",
       "      <th id=\"T_8186c_level0_row9\" class=\"row_heading level0 row9\" >id_9</th>\n",
       "      <td id=\"T_8186c_row9_col0\" class=\"data row9 col0\" >10</td>\n",
       "      <td id=\"T_8186c_row9_col1\" class=\"data row9 col1\" >1</td>\n",
       "      <td id=\"T_8186c_row9_col2\" class=\"data row9 col2\" >2</td>\n",
       "      <td id=\"T_8186c_row9_col3\" class=\"data row9 col3\" >Nasser, Mrs. Nicholas (Adele Achem)</td>\n",
       "      <td id=\"T_8186c_row9_col4\" class=\"data row9 col4\" >female</td>\n",
       "      <td id=\"T_8186c_row9_col5\" class=\"data row9 col5\" >14.000000</td>\n",
       "      <td id=\"T_8186c_row9_col6\" class=\"data row9 col6\" >1</td>\n",
       "      <td id=\"T_8186c_row9_col7\" class=\"data row9 col7\" >0</td>\n",
       "      <td id=\"T_8186c_row9_col8\" class=\"data row9 col8\" >237736</td>\n",
       "      <td id=\"T_8186c_row9_col9\" class=\"data row9 col9\" >30.070800</td>\n",
       "      <td id=\"T_8186c_row9_col10\" class=\"data row9 col10\" >nan</td>\n",
       "      <td id=\"T_8186c_row9_col11\" class=\"data row9 col11\" >C</td>\n",
       "      <td id=\"T_8186c_row9_col12\" class=\"data row9 col12\" >112</td>\n",
       "      <td id=\"T_8186c_row9_col13\" class=\"data row9 col13\" >0</td>\n",
       "    </tr>\n",
       "    <tr>\n",
       "      <th id=\"T_8186c_level0_row10\" class=\"row_heading level0 row10\" >id_10</th>\n",
       "      <td id=\"T_8186c_row10_col0\" class=\"data row10 col0\" >11</td>\n",
       "      <td id=\"T_8186c_row10_col1\" class=\"data row10 col1\" >1</td>\n",
       "      <td id=\"T_8186c_row10_col2\" class=\"data row10 col2\" >3</td>\n",
       "      <td id=\"T_8186c_row10_col3\" class=\"data row10 col3\" >Sandstrom, Miss. Marguerite Rut</td>\n",
       "      <td id=\"T_8186c_row10_col4\" class=\"data row10 col4\" >female</td>\n",
       "      <td id=\"T_8186c_row10_col5\" class=\"data row10 col5\" >4.000000</td>\n",
       "      <td id=\"T_8186c_row10_col6\" class=\"data row10 col6\" >1</td>\n",
       "      <td id=\"T_8186c_row10_col7\" class=\"data row10 col7\" >1</td>\n",
       "      <td id=\"T_8186c_row10_col8\" class=\"data row10 col8\" >PP 9549</td>\n",
       "      <td id=\"T_8186c_row10_col9\" class=\"data row10 col9\" >16.700000</td>\n",
       "      <td id=\"T_8186c_row10_col10\" class=\"data row10 col10\" >G6</td>\n",
       "      <td id=\"T_8186c_row10_col11\" class=\"data row10 col11\" >S</td>\n",
       "      <td id=\"T_8186c_row10_col12\" class=\"data row10 col12\" >112</td>\n",
       "      <td id=\"T_8186c_row10_col13\" class=\"data row10 col13\" >0</td>\n",
       "    </tr>\n",
       "    <tr>\n",
       "      <th id=\"T_8186c_level0_row11\" class=\"row_heading level0 row11\" >id_11</th>\n",
       "      <td id=\"T_8186c_row11_col0\" class=\"data row11 col0\" >12</td>\n",
       "      <td id=\"T_8186c_row11_col1\" class=\"data row11 col1\" >1</td>\n",
       "      <td id=\"T_8186c_row11_col2\" class=\"data row11 col2\" >1</td>\n",
       "      <td id=\"T_8186c_row11_col3\" class=\"data row11 col3\" >Bonnell, Miss. Elizabeth</td>\n",
       "      <td id=\"T_8186c_row11_col4\" class=\"data row11 col4\" >female</td>\n",
       "      <td id=\"T_8186c_row11_col5\" class=\"data row11 col5\" >58.000000</td>\n",
       "      <td id=\"T_8186c_row11_col6\" class=\"data row11 col6\" >0</td>\n",
       "      <td id=\"T_8186c_row11_col7\" class=\"data row11 col7\" >0</td>\n",
       "      <td id=\"T_8186c_row11_col8\" class=\"data row11 col8\" >113783</td>\n",
       "      <td id=\"T_8186c_row11_col9\" class=\"data row11 col9\" >26.550000</td>\n",
       "      <td id=\"T_8186c_row11_col10\" class=\"data row11 col10\" >C103</td>\n",
       "      <td id=\"T_8186c_row11_col11\" class=\"data row11 col11\" >S</td>\n",
       "      <td id=\"T_8186c_row11_col12\" class=\"data row11 col12\" >112</td>\n",
       "      <td id=\"T_8186c_row11_col13\" class=\"data row11 col13\" >1</td>\n",
       "    </tr>\n",
       "    <tr>\n",
       "      <th id=\"T_8186c_level0_row12\" class=\"row_heading level0 row12\" >id_12</th>\n",
       "      <td id=\"T_8186c_row12_col0\" class=\"data row12 col0\" >13</td>\n",
       "      <td id=\"T_8186c_row12_col1\" class=\"data row12 col1\" >0</td>\n",
       "      <td id=\"T_8186c_row12_col2\" class=\"data row12 col2\" >3</td>\n",
       "      <td id=\"T_8186c_row12_col3\" class=\"data row12 col3\" >Saundercock, Mr. William Henry</td>\n",
       "      <td id=\"T_8186c_row12_col4\" class=\"data row12 col4\" >male</td>\n",
       "      <td id=\"T_8186c_row12_col5\" class=\"data row12 col5\" >20.000000</td>\n",
       "      <td id=\"T_8186c_row12_col6\" class=\"data row12 col6\" >0</td>\n",
       "      <td id=\"T_8186c_row12_col7\" class=\"data row12 col7\" >0</td>\n",
       "      <td id=\"T_8186c_row12_col8\" class=\"data row12 col8\" >A/5. 2151</td>\n",
       "      <td id=\"T_8186c_row12_col9\" class=\"data row12 col9\" >8.050000</td>\n",
       "      <td id=\"T_8186c_row12_col10\" class=\"data row12 col10\" >nan</td>\n",
       "      <td id=\"T_8186c_row12_col11\" class=\"data row12 col11\" >S</td>\n",
       "      <td id=\"T_8186c_row12_col12\" class=\"data row12 col12\" >112</td>\n",
       "      <td id=\"T_8186c_row12_col13\" class=\"data row12 col13\" >1</td>\n",
       "    </tr>\n",
       "    <tr>\n",
       "      <th id=\"T_8186c_level0_row13\" class=\"row_heading level0 row13\" >id_13</th>\n",
       "      <td id=\"T_8186c_row13_col0\" class=\"data row13 col0\" >14</td>\n",
       "      <td id=\"T_8186c_row13_col1\" class=\"data row13 col1\" >0</td>\n",
       "      <td id=\"T_8186c_row13_col2\" class=\"data row13 col2\" >3</td>\n",
       "      <td id=\"T_8186c_row13_col3\" class=\"data row13 col3\" >Andersson, Mr. Anders Johan</td>\n",
       "      <td id=\"T_8186c_row13_col4\" class=\"data row13 col4\" >male</td>\n",
       "      <td id=\"T_8186c_row13_col5\" class=\"data row13 col5\" >39.000000</td>\n",
       "      <td id=\"T_8186c_row13_col6\" class=\"data row13 col6\" >1</td>\n",
       "      <td id=\"T_8186c_row13_col7\" class=\"data row13 col7\" >5</td>\n",
       "      <td id=\"T_8186c_row13_col8\" class=\"data row13 col8\" >347082</td>\n",
       "      <td id=\"T_8186c_row13_col9\" class=\"data row13 col9\" >31.275000</td>\n",
       "      <td id=\"T_8186c_row13_col10\" class=\"data row13 col10\" >nan</td>\n",
       "      <td id=\"T_8186c_row13_col11\" class=\"data row13 col11\" >S</td>\n",
       "      <td id=\"T_8186c_row13_col12\" class=\"data row13 col12\" >112</td>\n",
       "      <td id=\"T_8186c_row13_col13\" class=\"data row13 col13\" >0</td>\n",
       "    </tr>\n",
       "    <tr>\n",
       "      <th id=\"T_8186c_level0_row14\" class=\"row_heading level0 row14\" >id_14</th>\n",
       "      <td id=\"T_8186c_row14_col0\" class=\"data row14 col0\" >15</td>\n",
       "      <td id=\"T_8186c_row14_col1\" class=\"data row14 col1\" >0</td>\n",
       "      <td id=\"T_8186c_row14_col2\" class=\"data row14 col2\" >3</td>\n",
       "      <td id=\"T_8186c_row14_col3\" class=\"data row14 col3\" >Vestrom, Miss. Hulda Amanda Adolfina</td>\n",
       "      <td id=\"T_8186c_row14_col4\" class=\"data row14 col4\" >female</td>\n",
       "      <td id=\"T_8186c_row14_col5\" class=\"data row14 col5\" >14.000000</td>\n",
       "      <td id=\"T_8186c_row14_col6\" class=\"data row14 col6\" >0</td>\n",
       "      <td id=\"T_8186c_row14_col7\" class=\"data row14 col7\" >0</td>\n",
       "      <td id=\"T_8186c_row14_col8\" class=\"data row14 col8\" >350406</td>\n",
       "      <td id=\"T_8186c_row14_col9\" class=\"data row14 col9\" >7.854200</td>\n",
       "      <td id=\"T_8186c_row14_col10\" class=\"data row14 col10\" >nan</td>\n",
       "      <td id=\"T_8186c_row14_col11\" class=\"data row14 col11\" >S</td>\n",
       "      <td id=\"T_8186c_row14_col12\" class=\"data row14 col12\" >112</td>\n",
       "      <td id=\"T_8186c_row14_col13\" class=\"data row14 col13\" >0</td>\n",
       "    </tr>\n",
       "    <tr>\n",
       "      <th id=\"T_8186c_level0_row15\" class=\"row_heading level0 row15\" >id_15</th>\n",
       "      <td id=\"T_8186c_row15_col0\" class=\"data row15 col0\" >16</td>\n",
       "      <td id=\"T_8186c_row15_col1\" class=\"data row15 col1\" >1</td>\n",
       "      <td id=\"T_8186c_row15_col2\" class=\"data row15 col2\" >2</td>\n",
       "      <td id=\"T_8186c_row15_col3\" class=\"data row15 col3\" >Hewlett, Mrs. (Mary D Kingcome) </td>\n",
       "      <td id=\"T_8186c_row15_col4\" class=\"data row15 col4\" >female</td>\n",
       "      <td id=\"T_8186c_row15_col5\" class=\"data row15 col5\" >55.000000</td>\n",
       "      <td id=\"T_8186c_row15_col6\" class=\"data row15 col6\" >0</td>\n",
       "      <td id=\"T_8186c_row15_col7\" class=\"data row15 col7\" >0</td>\n",
       "      <td id=\"T_8186c_row15_col8\" class=\"data row15 col8\" >248706</td>\n",
       "      <td id=\"T_8186c_row15_col9\" class=\"data row15 col9\" >16.000000</td>\n",
       "      <td id=\"T_8186c_row15_col10\" class=\"data row15 col10\" >nan</td>\n",
       "      <td id=\"T_8186c_row15_col11\" class=\"data row15 col11\" >S</td>\n",
       "      <td id=\"T_8186c_row15_col12\" class=\"data row15 col12\" >112</td>\n",
       "      <td id=\"T_8186c_row15_col13\" class=\"data row15 col13\" >0</td>\n",
       "    </tr>\n",
       "    <tr>\n",
       "      <th id=\"T_8186c_level0_row16\" class=\"row_heading level0 row16\" >id_16</th>\n",
       "      <td id=\"T_8186c_row16_col0\" class=\"data row16 col0\" >17</td>\n",
       "      <td id=\"T_8186c_row16_col1\" class=\"data row16 col1\" >0</td>\n",
       "      <td id=\"T_8186c_row16_col2\" class=\"data row16 col2\" >3</td>\n",
       "      <td id=\"T_8186c_row16_col3\" class=\"data row16 col3\" >Rice, Master. Eugene</td>\n",
       "      <td id=\"T_8186c_row16_col4\" class=\"data row16 col4\" >male</td>\n",
       "      <td id=\"T_8186c_row16_col5\" class=\"data row16 col5\" >2.000000</td>\n",
       "      <td id=\"T_8186c_row16_col6\" class=\"data row16 col6\" >4</td>\n",
       "      <td id=\"T_8186c_row16_col7\" class=\"data row16 col7\" >1</td>\n",
       "      <td id=\"T_8186c_row16_col8\" class=\"data row16 col8\" >382652</td>\n",
       "      <td id=\"T_8186c_row16_col9\" class=\"data row16 col9\" >29.125000</td>\n",
       "      <td id=\"T_8186c_row16_col10\" class=\"data row16 col10\" >nan</td>\n",
       "      <td id=\"T_8186c_row16_col11\" class=\"data row16 col11\" >Q</td>\n",
       "      <td id=\"T_8186c_row16_col12\" class=\"data row16 col12\" >112</td>\n",
       "      <td id=\"T_8186c_row16_col13\" class=\"data row16 col13\" >0</td>\n",
       "    </tr>\n",
       "    <tr>\n",
       "      <th id=\"T_8186c_level0_row17\" class=\"row_heading level0 row17\" >id_17</th>\n",
       "      <td id=\"T_8186c_row17_col0\" class=\"data row17 col0\" >18</td>\n",
       "      <td id=\"T_8186c_row17_col1\" class=\"data row17 col1\" >1</td>\n",
       "      <td id=\"T_8186c_row17_col2\" class=\"data row17 col2\" >2</td>\n",
       "      <td id=\"T_8186c_row17_col3\" class=\"data row17 col3\" >Williams, Mr. Charles Eugene</td>\n",
       "      <td id=\"T_8186c_row17_col4\" class=\"data row17 col4\" >male</td>\n",
       "      <td id=\"T_8186c_row17_col5\" class=\"data row17 col5\" >35.000000</td>\n",
       "      <td id=\"T_8186c_row17_col6\" class=\"data row17 col6\" >0</td>\n",
       "      <td id=\"T_8186c_row17_col7\" class=\"data row17 col7\" >0</td>\n",
       "      <td id=\"T_8186c_row17_col8\" class=\"data row17 col8\" >244373</td>\n",
       "      <td id=\"T_8186c_row17_col9\" class=\"data row17 col9\" >13.000000</td>\n",
       "      <td id=\"T_8186c_row17_col10\" class=\"data row17 col10\" >nan</td>\n",
       "      <td id=\"T_8186c_row17_col11\" class=\"data row17 col11\" >S</td>\n",
       "      <td id=\"T_8186c_row17_col12\" class=\"data row17 col12\" >112</td>\n",
       "      <td id=\"T_8186c_row17_col13\" class=\"data row17 col13\" >1</td>\n",
       "    </tr>\n",
       "    <tr>\n",
       "      <th id=\"T_8186c_level0_row18\" class=\"row_heading level0 row18\" >id_18</th>\n",
       "      <td id=\"T_8186c_row18_col0\" class=\"data row18 col0\" >19</td>\n",
       "      <td id=\"T_8186c_row18_col1\" class=\"data row18 col1\" >0</td>\n",
       "      <td id=\"T_8186c_row18_col2\" class=\"data row18 col2\" >3</td>\n",
       "      <td id=\"T_8186c_row18_col3\" class=\"data row18 col3\" >Vander Planke, Mrs. Julius (Emelia Maria Vandemoortele)</td>\n",
       "      <td id=\"T_8186c_row18_col4\" class=\"data row18 col4\" >female</td>\n",
       "      <td id=\"T_8186c_row18_col5\" class=\"data row18 col5\" >31.000000</td>\n",
       "      <td id=\"T_8186c_row18_col6\" class=\"data row18 col6\" >1</td>\n",
       "      <td id=\"T_8186c_row18_col7\" class=\"data row18 col7\" >0</td>\n",
       "      <td id=\"T_8186c_row18_col8\" class=\"data row18 col8\" >345763</td>\n",
       "      <td id=\"T_8186c_row18_col9\" class=\"data row18 col9\" >18.000000</td>\n",
       "      <td id=\"T_8186c_row18_col10\" class=\"data row18 col10\" >nan</td>\n",
       "      <td id=\"T_8186c_row18_col11\" class=\"data row18 col11\" >S</td>\n",
       "      <td id=\"T_8186c_row18_col12\" class=\"data row18 col12\" >112</td>\n",
       "      <td id=\"T_8186c_row18_col13\" class=\"data row18 col13\" >1</td>\n",
       "    </tr>\n",
       "    <tr>\n",
       "      <th id=\"T_8186c_level0_row19\" class=\"row_heading level0 row19\" >id_19</th>\n",
       "      <td id=\"T_8186c_row19_col0\" class=\"data row19 col0\" >20</td>\n",
       "      <td id=\"T_8186c_row19_col1\" class=\"data row19 col1\" >1</td>\n",
       "      <td id=\"T_8186c_row19_col2\" class=\"data row19 col2\" >3</td>\n",
       "      <td id=\"T_8186c_row19_col3\" class=\"data row19 col3\" >Masselmani, Mrs. Fatima</td>\n",
       "      <td id=\"T_8186c_row19_col4\" class=\"data row19 col4\" >female</td>\n",
       "      <td id=\"T_8186c_row19_col5\" class=\"data row19 col5\" >35.000000</td>\n",
       "      <td id=\"T_8186c_row19_col6\" class=\"data row19 col6\" >0</td>\n",
       "      <td id=\"T_8186c_row19_col7\" class=\"data row19 col7\" >0</td>\n",
       "      <td id=\"T_8186c_row19_col8\" class=\"data row19 col8\" >2649</td>\n",
       "      <td id=\"T_8186c_row19_col9\" class=\"data row19 col9\" >7.225000</td>\n",
       "      <td id=\"T_8186c_row19_col10\" class=\"data row19 col10\" >nan</td>\n",
       "      <td id=\"T_8186c_row19_col11\" class=\"data row19 col11\" >C</td>\n",
       "      <td id=\"T_8186c_row19_col12\" class=\"data row19 col12\" >112</td>\n",
       "      <td id=\"T_8186c_row19_col13\" class=\"data row19 col13\" >1</td>\n",
       "    </tr>\n",
       "  </tbody>\n",
       "</table>\n"
      ],
      "text/plain": [
       "<pandas.io.formats.style.Styler at 0x25d45ae3a00>"
      ]
     },
     "execution_count": 63,
     "metadata": {},
     "output_type": "execute_result"
    }
   ],
   "source": [
    "df.drop(columns='new_col_3').head(20).style.background_gradient()"
   ]
  },
  {
   "cell_type": "code",
   "execution_count": null,
   "id": "62b2aa17",
   "metadata": {},
   "outputs": [],
   "source": []
  }
 ],
 "metadata": {
  "kernelspec": {
   "display_name": "Python 3 (ipykernel)",
   "language": "python",
   "name": "python3"
  },
  "language_info": {
   "codemirror_mode": {
    "name": "ipython",
    "version": 3
   },
   "file_extension": ".py",
   "mimetype": "text/x-python",
   "name": "python",
   "nbconvert_exporter": "python",
   "pygments_lexer": "ipython3",
   "version": "3.10.11"
  }
 },
 "nbformat": 4,
 "nbformat_minor": 5
}
